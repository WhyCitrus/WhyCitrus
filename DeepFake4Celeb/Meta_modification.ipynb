{
 "cells": [
  {
   "cell_type": "code",
   "execution_count": 2,
   "id": "62b3956a-6c42-433a-a013-4041168b9760",
   "metadata": {},
   "outputs": [],
   "source": [
    "import os\n",
    "import pandas as pd\n",
    "from concurrent.futures import ThreadPoolExecutor, as_completed\n",
    "from tqdm.notebook import tqdm"
   ]
  },
  {
   "cell_type": "code",
   "execution_count": 3,
   "id": "4297abea-a5cb-4bc7-b70f-4e2cc661d0d8",
   "metadata": {
    "tags": []
   },
   "outputs": [
    {
     "data": {
      "application/vnd.jupyter.widget-view+json": {
       "model_id": "7bac4bef6e364ca786916fa1fb17db1f",
       "version_major": 2,
       "version_minor": 0
      },
      "text/plain": [
       "Processing rows:   0%|          | 0/31779 [00:00<?, ?it/s]"
      ]
     },
     "metadata": {},
     "output_type": "display_data"
    }
   ],
   "source": [
    "##############################\n",
    "# 第一部分：处理 itw_meta.csv\n",
    "##############################\n",
    "meta_csv_path = 'itw_meta.csv'  \n",
    "\n",
    "df = pd.read_csv(meta_csv_path)\n",
    "\n",
    "# speaker_counts = df['speaker'].value_counts()\n",
    "# test_speakers = speaker_counts.nsmallest(20).index.tolist()\n",
    "# df['Set'] = df['speaker'].apply(lambda x: 'test' if x in test_speakers else 'train')abs\n",
    "\n",
    "df['Set'] = 'test'\n",
    "\n",
    "df['label_numeric'] = df['label'].map({'bona-fide': 1, 'spoof': 0})\n",
    "\n",
    "MAX_WORKERS = 96\n",
    "\n",
    "source_dir = os.path.join('inthewild', 'release_in_the_wild')\n",
    "\n",
    "def process_row(row):\n",
    "    \"\"\"\n",
    "    根据 DataFrame 的一行记录，构造数据源名称、文件名、源文件的绝对路径和标签\n",
    "    这里 label 直接取 label_numeric 的值\n",
    "    \"\"\"\n",
    "    filename = row['file']\n",
    "    speaker = row['speaker']\n",
    "    Set = row['Set']\n",
    "    label_num = row['label_numeric']  # 使用 label_numeric 来判断\n",
    "    data_source = 'itw'\n",
    "    src_file = os.path.join(source_dir, filename)\n",
    "    abs_path = os.path.abspath(src_file)\n",
    "    rel_path = os.path.join('release_in_the_wild',filename)\n",
    "    return data_source, speaker, abs_path, rel_path, label_num, Set\n",
    "\n",
    "records = []\n",
    "\n",
    "with ThreadPoolExecutor(max_workers=MAX_WORKERS) as executor:\n",
    "    futures = {executor.submit(process_row, row): idx for idx, row in df.iterrows()}\n",
    "    for future in tqdm(as_completed(futures), total=len(futures), desc=\"Processing rows\"):\n",
    "        try:\n",
    "            record = future.result()\n",
    "            records.append(record)\n",
    "        except Exception as e:\n",
    "            print(f\"Error processing row: {e}\")\n",
    "\n",
    "df_records = pd.DataFrame(records, columns=[\"data_source\", \"speaker\", \"absolute_path\", \"relative_path\", \"label\", \"Set\"])"
   ]
  },
  {
   "cell_type": "code",
   "execution_count": 4,
   "id": "a39cb88f-0841-4f14-8960-2ce1cc4413f0",
   "metadata": {
    "tags": []
   },
   "outputs": [
    {
     "data": {
      "text/html": [
       "<div>\n",
       "<style scoped>\n",
       "    .dataframe tbody tr th:only-of-type {\n",
       "        vertical-align: middle;\n",
       "    }\n",
       "\n",
       "    .dataframe tbody tr th {\n",
       "        vertical-align: top;\n",
       "    }\n",
       "\n",
       "    .dataframe thead th {\n",
       "        text-align: right;\n",
       "    }\n",
       "</style>\n",
       "<table border=\"1\" class=\"dataframe\">\n",
       "  <thead>\n",
       "    <tr style=\"text-align: right;\">\n",
       "      <th></th>\n",
       "      <th>data_source</th>\n",
       "      <th>speaker</th>\n",
       "      <th>absolute_path</th>\n",
       "      <th>relative_path</th>\n",
       "      <th>label</th>\n",
       "      <th>Set</th>\n",
       "    </tr>\n",
       "  </thead>\n",
       "  <tbody>\n",
       "    <tr>\n",
       "      <th>0</th>\n",
       "      <td>itw</td>\n",
       "      <td>Alec Guinness</td>\n",
       "      <td>/home/jupyter/Data/inthewild/release_in_the_wi...</td>\n",
       "      <td>release_in_the_wild/23269.wav</td>\n",
       "      <td>1</td>\n",
       "      <td>test</td>\n",
       "    </tr>\n",
       "    <tr>\n",
       "      <th>1</th>\n",
       "      <td>itw</td>\n",
       "      <td>Mark Zuckerberg</td>\n",
       "      <td>/home/jupyter/Data/inthewild/release_in_the_wi...</td>\n",
       "      <td>release_in_the_wild/23885.wav</td>\n",
       "      <td>0</td>\n",
       "      <td>test</td>\n",
       "    </tr>\n",
       "    <tr>\n",
       "      <th>2</th>\n",
       "      <td>itw</td>\n",
       "      <td>Alec Guinness</td>\n",
       "      <td>/home/jupyter/Data/inthewild/release_in_the_wi...</td>\n",
       "      <td>release_in_the_wild/22375.wav</td>\n",
       "      <td>1</td>\n",
       "      <td>test</td>\n",
       "    </tr>\n",
       "    <tr>\n",
       "      <th>3</th>\n",
       "      <td>itw</td>\n",
       "      <td>Alec Guinness</td>\n",
       "      <td>/home/jupyter/Data/inthewild/release_in_the_wi...</td>\n",
       "      <td>release_in_the_wild/23998.wav</td>\n",
       "      <td>0</td>\n",
       "      <td>test</td>\n",
       "    </tr>\n",
       "    <tr>\n",
       "      <th>4</th>\n",
       "      <td>itw</td>\n",
       "      <td>Barack Obama</td>\n",
       "      <td>/home/jupyter/Data/inthewild/release_in_the_wi...</td>\n",
       "      <td>release_in_the_wild/23525.wav</td>\n",
       "      <td>0</td>\n",
       "      <td>test</td>\n",
       "    </tr>\n",
       "  </tbody>\n",
       "</table>\n",
       "</div>"
      ],
      "text/plain": [
       "  data_source          speaker  \\\n",
       "0         itw    Alec Guinness   \n",
       "1         itw  Mark Zuckerberg   \n",
       "2         itw    Alec Guinness   \n",
       "3         itw    Alec Guinness   \n",
       "4         itw     Barack Obama   \n",
       "\n",
       "                                       absolute_path  \\\n",
       "0  /home/jupyter/Data/inthewild/release_in_the_wi...   \n",
       "1  /home/jupyter/Data/inthewild/release_in_the_wi...   \n",
       "2  /home/jupyter/Data/inthewild/release_in_the_wi...   \n",
       "3  /home/jupyter/Data/inthewild/release_in_the_wi...   \n",
       "4  /home/jupyter/Data/inthewild/release_in_the_wi...   \n",
       "\n",
       "                   relative_path  label   Set  \n",
       "0  release_in_the_wild/23269.wav      1  test  \n",
       "1  release_in_the_wild/23885.wav      0  test  \n",
       "2  release_in_the_wild/22375.wav      1  test  \n",
       "3  release_in_the_wild/23998.wav      0  test  \n",
       "4  release_in_the_wild/23525.wav      0  test  "
      ]
     },
     "execution_count": 4,
     "metadata": {},
     "output_type": "execute_result"
    }
   ],
   "source": [
    "# df_records.Set.value_counts()\n",
    "len(df.speaker.unique())\n",
    "df_records.head()"
   ]
  },
  {
   "cell_type": "code",
   "execution_count": 5,
   "id": "85673031-1beb-4e55-ac03-e65161f3a848",
   "metadata": {
    "tags": []
   },
   "outputs": [
    {
     "data": {
      "application/vnd.jupyter.widget-view+json": {
       "model_id": "2a404451c11b4195a8720d4d7f1588cc",
       "version_major": 2,
       "version_minor": 0
      },
      "text/plain": [
       "Processing generated audio:   0%|          | 0/117983 [00:00<?, ?it/s]"
      ]
     },
     "metadata": {},
     "output_type": "display_data"
    }
   ],
   "source": [
    "#############################################\n",
    "# 第二部分：处理生成的 fake 音频（不复制文件）\n",
    "#############################################\n",
    "\n",
    "generated_audio_dir = os.path.join('..', 'Data', 'generated_audio')\n",
    "\n",
    "test_fake_dirs = {\"ljspeech_waveglow\", \"ljspeech_hifiGAN\"}\n",
    "\n",
    "def process_generated_file(folder, file):\n",
    "    \"\"\"\n",
    "    根据生成的音频文件，构造数据记录：\n",
    "    - 数据源固定为 \"gen\"\n",
    "    - speaker 使用文件夹名称\n",
    "    - 标签固定为 0（fake）\n",
    "    - 根据文件夹判断数据集标签（test 或 train）\n",
    "    \"\"\"\n",
    "    src_file = os.path.join(generated_audio_dir, folder, file)\n",
    "    abs_path = os.path.abspath(src_file)\n",
    "    rel_path = os.path.join(\"generated_audio\", folder, file)\n",
    "    data_source = \"gen\"\n",
    "    speaker = folder\n",
    "    label = 0  # fake\n",
    "    dataset = \"test\" if folder in test_fake_dirs else \"train\"\n",
    "    return data_source, speaker, abs_path, rel_path, label, dataset\n",
    "\n",
    "tasks = []\n",
    "for folder in os.listdir(generated_audio_dir):\n",
    "    folder_path = os.path.join(generated_audio_dir, folder)\n",
    "    if not os.path.isdir(folder_path):\n",
    "        continue\n",
    "    for file in os.listdir(folder_path):\n",
    "        file_path = os.path.join(folder_path, file)\n",
    "        if os.path.isfile(file_path) and file.lower().endswith('.wav'):\n",
    "            tasks.append((folder, file))\n",
    "\n",
    "records_gen = []\n",
    "with ThreadPoolExecutor(max_workers=MAX_WORKERS) as executor:\n",
    "    futures = {executor.submit(lambda t: process_generated_file(*t), task): task for task in tasks}\n",
    "    for future in tqdm(as_completed(futures), total=len(futures), desc=\"Processing generated audio\"):\n",
    "        try:\n",
    "            records_gen.append(future.result())\n",
    "        except Exception as e:\n",
    "            print(f\"Error processing generated file: {e}\")\n",
    "\n",
    "df_gen = pd.DataFrame(records_gen, columns=[\"data_source\", \"speaker\", \"absolute_path\", \"relative_path\", \"label\", \"Set\"])"
   ]
  },
  {
   "cell_type": "code",
   "execution_count": 6,
   "id": "ae7093f5-6838-48ca-8eb2-cf4f3ddac452",
   "metadata": {
    "tags": []
   },
   "outputs": [
    {
     "data": {
      "text/plain": [
       "Set\n",
       "train    91783\n",
       "test     26200\n",
       "Name: count, dtype: int64"
      ]
     },
     "execution_count": 6,
     "metadata": {},
     "output_type": "execute_result"
    }
   ],
   "source": [
    "df_gen.head()\n",
    "# df_gen.speaker.value_counts()\n",
    "df_gen.Set.value_counts()\n",
    "# df_gen.head()"
   ]
  },
  {
   "cell_type": "code",
   "execution_count": 7,
   "id": "7f2c406f-c682-45ee-94bf-ca7096642eba",
   "metadata": {
    "tags": []
   },
   "outputs": [
    {
     "data": {
      "application/vnd.jupyter.widget-view+json": {
       "model_id": "88965b2df18e45319f410499fc6f797b",
       "version_major": 2,
       "version_minor": 0
      },
      "text/plain": [
       "Processing LJSpeech files:   0%|          | 0/13100 [00:00<?, ?it/s]"
      ]
     },
     "metadata": {},
     "output_type": "display_data"
    }
   ],
   "source": [
    "import random\n",
    "\n",
    "# 源文件所在目录\n",
    "LJSpeech_audio_dir = '../Data/LJSpeech-1.1/wavs'\n",
    "\n",
    "# 全部设置为Train\n",
    "files = os.listdir(LJSpeech_audio_dir)\n",
    "random.shuffle(files)\n",
    "num_total = len(files)\n",
    "num_train = int(num_total * 1)\n",
    "train_files = files[:num_train]\n",
    "test_files = files[num_train:]\n",
    "\n",
    "def process_file(file, dataset):\n",
    "    \"\"\"\n",
    "    根据单个文件及数据集标签（train/test），构造数据记录：\n",
    "    - data_source: 固定为 \"LJSpeech\"\n",
    "    - file_name: 文件名\n",
    "    - absolute_path: 文件的绝对路径\n",
    "    - label: 固定为 1（真实数据）\n",
    "    - dataset: 'train' 或 'test'\n",
    "    \"\"\"\n",
    "    src_file = os.path.join(LJSpeech_audio_dir, file)\n",
    "    abs_path = os.path.abspath(src_file)\n",
    "    rel_path = os.path.join(\"LJSpeech-1.1/wavs\",file)\n",
    "    data_source = \"LJSpeech\"\n",
    "    label = 1  # real 数据\n",
    "    return data_source, \"LJSpeech\", abs_path, rel_path, label, dataset\n",
    "\n",
    "LJ_records = []\n",
    "\n",
    "with ThreadPoolExecutor(max_workers=MAX_WORKERS) as executor:\n",
    "    futures = []\n",
    "    for f in train_files:\n",
    "        futures.append(executor.submit(process_file, f, \"train\"))\n",
    "    for f in test_files:\n",
    "        futures.append(executor.submit(process_file, f, \"test\"))\n",
    "    \n",
    "    for future in tqdm(as_completed(futures), total=len(futures), desc=\"Processing LJSpeech files\"):\n",
    "        LJ_records.append(future.result())\n",
    "\n",
    "df_LJ = pd.DataFrame(LJ_records, columns=[\"data_source\", \"speaker\", \"absolute_path\", \"relative_path\", \"label\", \"Set\"])"
   ]
  },
  {
   "cell_type": "code",
   "execution_count": 8,
   "id": "9032d6d5-43ab-47d0-b53c-1708b6fa7883",
   "metadata": {
    "tags": []
   },
   "outputs": [
    {
     "data": {
      "text/html": [
       "<div>\n",
       "<style scoped>\n",
       "    .dataframe tbody tr th:only-of-type {\n",
       "        vertical-align: middle;\n",
       "    }\n",
       "\n",
       "    .dataframe tbody tr th {\n",
       "        vertical-align: top;\n",
       "    }\n",
       "\n",
       "    .dataframe thead th {\n",
       "        text-align: right;\n",
       "    }\n",
       "</style>\n",
       "<table border=\"1\" class=\"dataframe\">\n",
       "  <thead>\n",
       "    <tr style=\"text-align: right;\">\n",
       "      <th></th>\n",
       "      <th>data_source</th>\n",
       "      <th>speaker</th>\n",
       "      <th>absolute_path</th>\n",
       "      <th>relative_path</th>\n",
       "      <th>label</th>\n",
       "      <th>Set</th>\n",
       "    </tr>\n",
       "  </thead>\n",
       "  <tbody>\n",
       "    <tr>\n",
       "      <th>0</th>\n",
       "      <td>LJSpeech</td>\n",
       "      <td>LJSpeech</td>\n",
       "      <td>/home/jupyter/Data/LJSpeech-1.1/wavs/LJ018-039...</td>\n",
       "      <td>LJSpeech-1.1/wavs/LJ018-0390.wav</td>\n",
       "      <td>1</td>\n",
       "      <td>train</td>\n",
       "    </tr>\n",
       "    <tr>\n",
       "      <th>1</th>\n",
       "      <td>LJSpeech</td>\n",
       "      <td>LJSpeech</td>\n",
       "      <td>/home/jupyter/Data/LJSpeech-1.1/wavs/LJ041-005...</td>\n",
       "      <td>LJSpeech-1.1/wavs/LJ041-0050.wav</td>\n",
       "      <td>1</td>\n",
       "      <td>train</td>\n",
       "    </tr>\n",
       "    <tr>\n",
       "      <th>2</th>\n",
       "      <td>LJSpeech</td>\n",
       "      <td>LJSpeech</td>\n",
       "      <td>/home/jupyter/Data/LJSpeech-1.1/wavs/LJ022-002...</td>\n",
       "      <td>LJSpeech-1.1/wavs/LJ022-0022.wav</td>\n",
       "      <td>1</td>\n",
       "      <td>train</td>\n",
       "    </tr>\n",
       "    <tr>\n",
       "      <th>3</th>\n",
       "      <td>LJSpeech</td>\n",
       "      <td>LJSpeech</td>\n",
       "      <td>/home/jupyter/Data/LJSpeech-1.1/wavs/LJ040-011...</td>\n",
       "      <td>LJSpeech-1.1/wavs/LJ040-0113.wav</td>\n",
       "      <td>1</td>\n",
       "      <td>train</td>\n",
       "    </tr>\n",
       "    <tr>\n",
       "      <th>4</th>\n",
       "      <td>LJSpeech</td>\n",
       "      <td>LJSpeech</td>\n",
       "      <td>/home/jupyter/Data/LJSpeech-1.1/wavs/LJ017-027...</td>\n",
       "      <td>LJSpeech-1.1/wavs/LJ017-0270.wav</td>\n",
       "      <td>1</td>\n",
       "      <td>train</td>\n",
       "    </tr>\n",
       "  </tbody>\n",
       "</table>\n",
       "</div>"
      ],
      "text/plain": [
       "  data_source   speaker                                      absolute_path  \\\n",
       "0    LJSpeech  LJSpeech  /home/jupyter/Data/LJSpeech-1.1/wavs/LJ018-039...   \n",
       "1    LJSpeech  LJSpeech  /home/jupyter/Data/LJSpeech-1.1/wavs/LJ041-005...   \n",
       "2    LJSpeech  LJSpeech  /home/jupyter/Data/LJSpeech-1.1/wavs/LJ022-002...   \n",
       "3    LJSpeech  LJSpeech  /home/jupyter/Data/LJSpeech-1.1/wavs/LJ040-011...   \n",
       "4    LJSpeech  LJSpeech  /home/jupyter/Data/LJSpeech-1.1/wavs/LJ017-027...   \n",
       "\n",
       "                      relative_path  label    Set  \n",
       "0  LJSpeech-1.1/wavs/LJ018-0390.wav      1  train  \n",
       "1  LJSpeech-1.1/wavs/LJ041-0050.wav      1  train  \n",
       "2  LJSpeech-1.1/wavs/LJ022-0022.wav      1  train  \n",
       "3  LJSpeech-1.1/wavs/LJ040-0113.wav      1  train  \n",
       "4  LJSpeech-1.1/wavs/LJ017-0270.wav      1  train  "
      ]
     },
     "execution_count": 8,
     "metadata": {},
     "output_type": "execute_result"
    }
   ],
   "source": [
    "df_LJ.speaker.value_counts()\n",
    "df_LJ.head()"
   ]
  },
  {
   "cell_type": "code",
   "execution_count": 9,
   "id": "7be569cd-433c-40e7-b71a-6b75fb52b9c1",
   "metadata": {
    "tags": []
   },
   "outputs": [],
   "source": [
    "vox1 = pd.read_csv(\"vox1_meta_modified.csv\",sep = '\\t')\n",
    "# vox1.Set.value_counts()"
   ]
  },
  {
   "cell_type": "code",
   "execution_count": 10,
   "id": "e9af224b-dad5-462d-97db-92f35258f038",
   "metadata": {
    "tags": []
   },
   "outputs": [
    {
     "data": {
      "application/vnd.jupyter.widget-view+json": {
       "model_id": "c91f7757b9db470fa60618d825c8660b",
       "version_major": 2,
       "version_minor": 0
      },
      "text/plain": [
       "Processing VoxCeleb rows:   0%|          | 0/1251 [00:00<?, ?it/s]"
      ]
     },
     "metadata": {},
     "output_type": "display_data"
    }
   ],
   "source": [
    "\n",
    "def process_row(row):\n",
    "    \"\"\"\n",
    "    根据每一行 VoxCeleb 元数据构造文件记录：\n",
    "      - 判断 Set 字段 (\"dev\" 或 \"test\")，并据此设置 target_set（\"Train\" 或 \"Test\"）；\n",
    "      - 选择源目录：dev_folder 为 \"../Data/vox1_dev_wav/wav/<VoxCeleb1 ID>\"\n",
    "        或 test_folder 为 \"../Data/vox1_test_wav/wav/<VoxCeleb1 ID>\"；\n",
    "      - 构造目标目录为： os.path.join(filterd_base, target_set, \"real\", f\"{vox_id}_{vgg_id}\")；\n",
    "      - 遍历 src_base 下所有 .wav 文件，构造新的文件名为 \"子文件夹名_原文件名\"，并记录源文件的绝对路径。\n",
    "    返回该行中所有文件的记录列表，每条记录为\n",
    "      (data_source, speaker, absolute_path, label, dataset)\n",
    "    \"\"\"\n",
    "    records = []\n",
    "    vox_id = row[\"VoxCeleb1 ID\"]\n",
    "    vgg_id = row[\"VGGFace1 ID\"]\n",
    "    set_tag = row[\"Set\"].strip().lower()  # \"dev\" 或 \"test\"\n",
    "    \n",
    "    # 构造 dev 和 test 源目录\n",
    "    dev_folder  = os.path.join(\"..\", \"Data\", \"vox1_dev_wav\", \"wav\", vox_id)\n",
    "    test_folder = os.path.join(\"..\", \"Data\", \"vox1_test_wav\", \"wav\", vox_id)\n",
    "    \n",
    "    # 根据 set_tag 判断并选择源目录，并设置 target_set\n",
    "    if set_tag == \"dev\":\n",
    "        target_set = \"train\"\n",
    "        if os.path.isdir(dev_folder):\n",
    "            src_base = dev_folder\n",
    "        elif os.path.isdir(test_folder):\n",
    "            src_base = test_folder\n",
    "        else:\n",
    "            print(f\"[Warning] Could not find {vox_id} in dev or test folders!\")\n",
    "            return records\n",
    "    else:  # set_tag == \"test\"\n",
    "        target_set = \"test\"\n",
    "        if os.path.isdir(test_folder):\n",
    "            src_base = test_folder\n",
    "        elif os.path.isdir(dev_folder):\n",
    "            src_base = dev_folder\n",
    "        else:\n",
    "            print(f\"[Warning] Could not find {vox_id} in dev or test folders!\")\n",
    "            return records\n",
    "\n",
    "    \n",
    "\n",
    "    prefix = \"../Data/\"\n",
    "    \n",
    "    for root, dirs, files in os.walk(src_base):\n",
    "        for file in files:\n",
    "            if file.lower().endswith(\".wav\"):\n",
    "                # 使用当前子目录名作为前缀，防止文件同名被覆盖\n",
    "                subfolder_name = os.path.basename(root)\n",
    "                new_filename = f\"{subfolder_name}_{file}\"\n",
    "                # 记录源文件的路径，而非目标文件路径\n",
    "                src_file = os.path.join(root, file)\n",
    "                abs_path = os.path.abspath(src_file)\n",
    "                data_source = \"vox\"\n",
    "                speaker = f\"{vgg_id}\"\n",
    "                label = 1  # real 数据\n",
    "                dataset = target_set\n",
    "                relative_path = src_file[len(prefix):]\n",
    " \n",
    "                records.append((data_source, speaker, abs_path, relative_path, label, dataset))\n",
    "    return records\n",
    "\n",
    "records_vox = []\n",
    "MAX_WORKERS = 96\n",
    "with ThreadPoolExecutor(max_workers=MAX_WORKERS) as executor:\n",
    "    futures = {executor.submit(process_row, row): idx for idx, row in vox1.iterrows()}\n",
    "    for future in tqdm(as_completed(futures), total=len(futures), desc=\"Processing VoxCeleb rows\"):\n",
    "        try:\n",
    "            recs = future.result()\n",
    "            records_vox.extend(recs)\n",
    "        except Exception as e:\n",
    "            print(f\"Error processing row: {e}\")\n",
    "\n",
    "# 生成 DataFrame 并保存 CSV 文件\n",
    "df_vox = pd.DataFrame(records_vox, columns=[\"data_source\", \"speaker\", \"absolute_path\", \"relative_path\", \"label\", \"Set\"])"
   ]
  },
  {
   "cell_type": "code",
   "execution_count": 11,
   "id": "a3eb2bf4-a344-4787-b275-50a4b4d7f4a2",
   "metadata": {
    "tags": []
   },
   "outputs": [
    {
     "data": {
      "text/html": [
       "<div>\n",
       "<style scoped>\n",
       "    .dataframe tbody tr th:only-of-type {\n",
       "        vertical-align: middle;\n",
       "    }\n",
       "\n",
       "    .dataframe tbody tr th {\n",
       "        vertical-align: top;\n",
       "    }\n",
       "\n",
       "    .dataframe thead th {\n",
       "        text-align: right;\n",
       "    }\n",
       "</style>\n",
       "<table border=\"1\" class=\"dataframe\">\n",
       "  <thead>\n",
       "    <tr style=\"text-align: right;\">\n",
       "      <th></th>\n",
       "      <th>data_source</th>\n",
       "      <th>speaker</th>\n",
       "      <th>absolute_path</th>\n",
       "      <th>relative_path</th>\n",
       "      <th>label</th>\n",
       "      <th>Set</th>\n",
       "    </tr>\n",
       "  </thead>\n",
       "  <tbody>\n",
       "    <tr>\n",
       "      <th>0</th>\n",
       "      <td>vox</td>\n",
       "      <td>Alan_Tudyk</td>\n",
       "      <td>/home/jupyter/Data/vox1_dev_wav/wav/id10023/Pp...</td>\n",
       "      <td>vox1_dev_wav/wav/id10023/PpJ-V3Gyr1U/00005.wav</td>\n",
       "      <td>1</td>\n",
       "      <td>train</td>\n",
       "    </tr>\n",
       "    <tr>\n",
       "      <th>1</th>\n",
       "      <td>vox</td>\n",
       "      <td>Alan_Tudyk</td>\n",
       "      <td>/home/jupyter/Data/vox1_dev_wav/wav/id10023/Pp...</td>\n",
       "      <td>vox1_dev_wav/wav/id10023/PpJ-V3Gyr1U/00001.wav</td>\n",
       "      <td>1</td>\n",
       "      <td>train</td>\n",
       "    </tr>\n",
       "    <tr>\n",
       "      <th>2</th>\n",
       "      <td>vox</td>\n",
       "      <td>Alan_Tudyk</td>\n",
       "      <td>/home/jupyter/Data/vox1_dev_wav/wav/id10023/Pp...</td>\n",
       "      <td>vox1_dev_wav/wav/id10023/PpJ-V3Gyr1U/00007.wav</td>\n",
       "      <td>1</td>\n",
       "      <td>train</td>\n",
       "    </tr>\n",
       "    <tr>\n",
       "      <th>3</th>\n",
       "      <td>vox</td>\n",
       "      <td>Alan_Tudyk</td>\n",
       "      <td>/home/jupyter/Data/vox1_dev_wav/wav/id10023/Pp...</td>\n",
       "      <td>vox1_dev_wav/wav/id10023/PpJ-V3Gyr1U/00008.wav</td>\n",
       "      <td>1</td>\n",
       "      <td>train</td>\n",
       "    </tr>\n",
       "    <tr>\n",
       "      <th>4</th>\n",
       "      <td>vox</td>\n",
       "      <td>Alan_Tudyk</td>\n",
       "      <td>/home/jupyter/Data/vox1_dev_wav/wav/id10023/Pp...</td>\n",
       "      <td>vox1_dev_wav/wav/id10023/PpJ-V3Gyr1U/00004.wav</td>\n",
       "      <td>1</td>\n",
       "      <td>train</td>\n",
       "    </tr>\n",
       "  </tbody>\n",
       "</table>\n",
       "</div>"
      ],
      "text/plain": [
       "  data_source     speaker                                      absolute_path  \\\n",
       "0         vox  Alan_Tudyk  /home/jupyter/Data/vox1_dev_wav/wav/id10023/Pp...   \n",
       "1         vox  Alan_Tudyk  /home/jupyter/Data/vox1_dev_wav/wav/id10023/Pp...   \n",
       "2         vox  Alan_Tudyk  /home/jupyter/Data/vox1_dev_wav/wav/id10023/Pp...   \n",
       "3         vox  Alan_Tudyk  /home/jupyter/Data/vox1_dev_wav/wav/id10023/Pp...   \n",
       "4         vox  Alan_Tudyk  /home/jupyter/Data/vox1_dev_wav/wav/id10023/Pp...   \n",
       "\n",
       "                                    relative_path  label    Set  \n",
       "0  vox1_dev_wav/wav/id10023/PpJ-V3Gyr1U/00005.wav      1  train  \n",
       "1  vox1_dev_wav/wav/id10023/PpJ-V3Gyr1U/00001.wav      1  train  \n",
       "2  vox1_dev_wav/wav/id10023/PpJ-V3Gyr1U/00007.wav      1  train  \n",
       "3  vox1_dev_wav/wav/id10023/PpJ-V3Gyr1U/00008.wav      1  train  \n",
       "4  vox1_dev_wav/wav/id10023/PpJ-V3Gyr1U/00004.wav      1  train  "
      ]
     },
     "execution_count": 11,
     "metadata": {},
     "output_type": "execute_result"
    }
   ],
   "source": [
    "df_vox.head()\n",
    "# test_dev_df = df_vox[(df_vox[\"Set\"] == \"test\") & (df_vox[\"absolute_path\"].str.contains(\"vox1_dev_wav\"))]\n",
    "# unique_speakers = test_dev_df[\"speaker\"].unique()\n",
    "# print(\"满足条件的 speaker 数目：\", len(unique_speakers))"
   ]
  },
  {
   "cell_type": "code",
   "execution_count": 31,
   "id": "bbab77b4-e87d-49df-b9c5-19ad3349ec05",
   "metadata": {},
   "outputs": [
    {
     "name": "stderr",
     "output_type": "stream",
     "text": [
      "Processing dataset_01/DiffGAN-TTS_aux: 100%|██████████| 13100/13100 [00:00<00:00, 172748.37it/s]\n",
      "Processing dataset_01/.ipynb_checkpoints: 0it [00:00, ?it/s]\n",
      "Processing dataset_01/DiffGAN-TTS_shallow: 100%|██████████| 13100/13100 [00:00<00:00, 26651.21it/s]\n",
      "Processing dataset_01/DiffGAN-TTS_naive: 100%|██████████| 13100/13100 [00:00<00:00, 26241.98it/s]\n",
      "Processing dataset_02/NATSpeech_DiffSpeech: 100%|██████████| 13100/13100 [00:00<00:00, 90690.80it/s] \n",
      "Processing dataset_02/.ipynb_checkpoints: 0it [00:00, ?it/s]\n",
      "Processing dataset_02/ProDiff: 100%|██████████| 13100/13100 [00:00<00:00, 121905.26it/s]\n",
      "Processing dataset_02/Grad-TTS: 100%|██████████| 13100/13100 [00:00<00:00, 24363.83it/s]\n",
      "Processing dataset_03/.ipynb_checkpoints: 0it [00:00, ?it/s]\n",
      "Processing dataset_03/wavegrad2: 100%|██████████| 13100/13100 [00:00<00:00, 82627.74it/s] \n",
      "Processing dataset_03/tacotron2-DCA_bddm: 100%|██████████| 13100/13100 [00:00<00:00, 41090.77it/s]\n",
      "Processing dataset_03/tacotron2-DCA_diffwave: 100%|██████████| 13100/13100 [00:00<00:00, 67937.98it/s] \n",
      "Processing dataset_03/tacotron2-DCA_wavegrad: 100%|██████████| 13100/13100 [00:00<00:00, 205950.70it/s]\n",
      "Processing dataset_04/fast_pitch: 100%|██████████| 13100/13100 [00:00<00:00, 33263.04it/s]\n",
      "Processing dataset_04/.ipynb_checkpoints: 0it [00:00, ?it/s]\n",
      "Processing dataset_04/vits: 100%|██████████| 13100/13100 [00:00<00:00, 28452.04it/s]\n",
      "Processing dataset_04/tacotron2-DCA: 100%|██████████| 13100/13100 [00:00<00:00, 62620.96it/s] \n",
      "Processing dataset_04/glow-tts: 100%|██████████| 13100/13100 [00:00<00:00, 153189.03it/s]\n"
     ]
    }
   ],
   "source": [
    "# 基础目录，包含 dataset_01 ~ dataset_04 文件夹\n",
    "base_path = \"../Data/diffusion_dataset\"\n",
    "dataset_folders = [\"dataset_01\", \"dataset_02\", \"dataset_03\", \"dataset_04\"]\n",
    "\n",
    "# 指定需要设置为 test 的生成 pipeline 类型\n",
    "test_fake_types = {\"NATSpeech_DiffSpeech\", \"DiffGAN-TTS_aux\", \"Grad-TTS\"}\n",
    "\n",
    "def process_file(file_path, dataset_folder, subfolder, default_set=\"train\"):\n",
    "    \"\"\"\n",
    "    构造单个wav文件记录\n",
    "    :param file_path: wav 文件的完整路径\n",
    "    :param dataset_folder: 数据集文件夹名称，如 dataset_01\n",
    "    :param subfolder: 子文件夹名称，对应生成 pipeline，如 DiffGAN-TTS_aux\n",
    "    :param default_set: 默认的数据集划分标签，默认为 \"train\"\n",
    "    :return: (data_source, speaker, absolute_path, relative_path, label, Set)\n",
    "    \"\"\"\n",
    "    abs_path = os.path.abspath(file_path)\n",
    "    rel_path = os.path.relpath(file_path, base_path)\n",
    "    data_source = \"diffusion-based\"  # 可根据需要修改\n",
    "    speaker = subfolder\n",
    "    label = 0  # 生成的伪造语音标记为 0\n",
    "    \n",
    "    # 如果子文件夹名称在 test_fake_types 中，则 Set 设置为 \"test\"\n",
    "    set_label = \"test\" if subfolder in test_fake_types else default_set\n",
    "    return data_source, speaker, abs_path, rel_path, label, set_label\n",
    "\n",
    "all_records = []  # 存储所有记录\n",
    "MAX_WORKERS = 96  # 设置多线程数\n",
    "\n",
    "for dataset in dataset_folders:\n",
    "    dataset_dir = os.path.join(base_path, dataset)\n",
    "    if not os.path.isdir(dataset_dir):\n",
    "        print(f\"{dataset_dir} 不存在\")\n",
    "        continue\n",
    "    \n",
    "    # 遍历每个子文件夹（代表不同生成 pipeline）\n",
    "    for subfolder in os.listdir(dataset_dir):\n",
    "        subfolder_path = os.path.join(dataset_dir, subfolder)\n",
    "        if not os.path.isdir(subfolder_path):\n",
    "            continue\n",
    "        # 获取当前子文件夹下所有 .wav 文件\n",
    "        wav_files = [f for f in os.listdir(subfolder_path) if f.lower().endswith('.wav')]\n",
    "        # random.shuffle(wav_files)  # 可选：随机打乱文件列表\n",
    "        with ThreadPoolExecutor(max_workers=MAX_WORKERS) as executor:\n",
    "            futures = []\n",
    "            for wav in wav_files:\n",
    "                file_path = os.path.join(subfolder_path, wav)\n",
    "                futures.append(executor.submit(process_file, file_path, dataset, subfolder, \"train\"))\n",
    "            for future in tqdm(as_completed(futures), total=len(futures), desc=f\"Processing {dataset}/{subfolder}\"):\n",
    "                try:\n",
    "                    record = future.result()\n",
    "                    all_records.append(record)\n",
    "                except Exception as e:\n",
    "                    print(f\"处理文件时发生错误：{e}\")\n",
    "\n",
    "# 合并所有记录生成 DataFrame，并保存为一个 CSV 文件\n",
    "df_diffusion = pd.DataFrame(all_records, columns=[\"data_source\", \"speaker\", \"absolute_path\", \"relative_path\", \"label\", \"Set\"])"
   ]
  },
  {
   "cell_type": "code",
   "execution_count": 33,
   "id": "118a84ee-3f1f-4dc8-9359-5af4718a484f",
   "metadata": {},
   "outputs": [
    {
     "data": {
      "text/plain": [
       "speaker\n",
       "DiffGAN-TTS_aux           13100\n",
       "DiffGAN-TTS_shallow       13100\n",
       "DiffGAN-TTS_naive         13100\n",
       "NATSpeech_DiffSpeech      13100\n",
       "ProDiff                   13100\n",
       "Grad-TTS                  13100\n",
       "wavegrad2                 13100\n",
       "tacotron2-DCA_bddm        13100\n",
       "tacotron2-DCA_diffwave    13100\n",
       "tacotron2-DCA_wavegrad    13100\n",
       "fast_pitch                13100\n",
       "vits                      13100\n",
       "tacotron2-DCA             13100\n",
       "glow-tts                  13100\n",
       "Name: count, dtype: int64"
      ]
     },
     "execution_count": 33,
     "metadata": {},
     "output_type": "execute_result"
    }
   ],
   "source": [
    "df_diffusion.head()\n",
    "df_diffusion.speaker.value_counts()"
   ]
  },
  {
   "cell_type": "code",
   "execution_count": 34,
   "id": "2aa829d6-1ccf-45b4-ab5d-8c134a575b6f",
   "metadata": {},
   "outputs": [
    {
     "data": {
      "text/plain": [
       "Set\n",
       "train    144100\n",
       "test      39300\n",
       "Name: count, dtype: int64"
      ]
     },
     "execution_count": 34,
     "metadata": {},
     "output_type": "execute_result"
    }
   ],
   "source": [
    "df_diffusion.Set.value_counts()"
   ]
  },
  {
   "cell_type": "code",
   "execution_count": 35,
   "id": "d30fd796-607a-41fd-8d20-d08ca32ae8ec",
   "metadata": {},
   "outputs": [],
   "source": [
    "df_final = pd.concat([df_records, df_gen, df_LJ, df_vox, df_diffusion], ignore_index=True)"
   ]
  },
  {
   "cell_type": "code",
   "execution_count": 36,
   "id": "3471bb29-eb40-4c92-83e5-4a48c1bd2bc3",
   "metadata": {
    "tags": []
   },
   "outputs": [
    {
     "data": {
      "text/html": [
       "<div>\n",
       "<style scoped>\n",
       "    .dataframe tbody tr th:only-of-type {\n",
       "        vertical-align: middle;\n",
       "    }\n",
       "\n",
       "    .dataframe tbody tr th {\n",
       "        vertical-align: top;\n",
       "    }\n",
       "\n",
       "    .dataframe thead th {\n",
       "        text-align: right;\n",
       "    }\n",
       "</style>\n",
       "<table border=\"1\" class=\"dataframe\">\n",
       "  <thead>\n",
       "    <tr style=\"text-align: right;\">\n",
       "      <th></th>\n",
       "      <th>data_source</th>\n",
       "      <th>speaker</th>\n",
       "      <th>absolute_path</th>\n",
       "      <th>relative_path</th>\n",
       "      <th>label</th>\n",
       "      <th>Set</th>\n",
       "    </tr>\n",
       "  </thead>\n",
       "  <tbody>\n",
       "    <tr>\n",
       "      <th>0</th>\n",
       "      <td>itw</td>\n",
       "      <td>Alec Guinness</td>\n",
       "      <td>/home/jupyter/Data/inthewild/release_in_the_wi...</td>\n",
       "      <td>release_in_the_wild/23269.wav</td>\n",
       "      <td>1</td>\n",
       "      <td>test</td>\n",
       "    </tr>\n",
       "    <tr>\n",
       "      <th>1</th>\n",
       "      <td>itw</td>\n",
       "      <td>Mark Zuckerberg</td>\n",
       "      <td>/home/jupyter/Data/inthewild/release_in_the_wi...</td>\n",
       "      <td>release_in_the_wild/23885.wav</td>\n",
       "      <td>0</td>\n",
       "      <td>test</td>\n",
       "    </tr>\n",
       "    <tr>\n",
       "      <th>2</th>\n",
       "      <td>itw</td>\n",
       "      <td>Alec Guinness</td>\n",
       "      <td>/home/jupyter/Data/inthewild/release_in_the_wi...</td>\n",
       "      <td>release_in_the_wild/22375.wav</td>\n",
       "      <td>1</td>\n",
       "      <td>test</td>\n",
       "    </tr>\n",
       "    <tr>\n",
       "      <th>3</th>\n",
       "      <td>itw</td>\n",
       "      <td>Alec Guinness</td>\n",
       "      <td>/home/jupyter/Data/inthewild/release_in_the_wi...</td>\n",
       "      <td>release_in_the_wild/23998.wav</td>\n",
       "      <td>0</td>\n",
       "      <td>test</td>\n",
       "    </tr>\n",
       "    <tr>\n",
       "      <th>4</th>\n",
       "      <td>itw</td>\n",
       "      <td>Barack Obama</td>\n",
       "      <td>/home/jupyter/Data/inthewild/release_in_the_wi...</td>\n",
       "      <td>release_in_the_wild/23525.wav</td>\n",
       "      <td>0</td>\n",
       "      <td>test</td>\n",
       "    </tr>\n",
       "  </tbody>\n",
       "</table>\n",
       "</div>"
      ],
      "text/plain": [
       "  data_source          speaker  \\\n",
       "0         itw    Alec Guinness   \n",
       "1         itw  Mark Zuckerberg   \n",
       "2         itw    Alec Guinness   \n",
       "3         itw    Alec Guinness   \n",
       "4         itw     Barack Obama   \n",
       "\n",
       "                                       absolute_path  \\\n",
       "0  /home/jupyter/Data/inthewild/release_in_the_wi...   \n",
       "1  /home/jupyter/Data/inthewild/release_in_the_wi...   \n",
       "2  /home/jupyter/Data/inthewild/release_in_the_wi...   \n",
       "3  /home/jupyter/Data/inthewild/release_in_the_wi...   \n",
       "4  /home/jupyter/Data/inthewild/release_in_the_wi...   \n",
       "\n",
       "                   relative_path  label   Set  \n",
       "0  release_in_the_wild/23269.wav      1  test  \n",
       "1  release_in_the_wild/23885.wav      0  test  \n",
       "2  release_in_the_wild/22375.wav      1  test  \n",
       "3  release_in_the_wild/23998.wav      0  test  \n",
       "4  release_in_the_wild/23525.wav      0  test  "
      ]
     },
     "execution_count": 36,
     "metadata": {},
     "output_type": "execute_result"
    }
   ],
   "source": [
    "df_final.head()"
   ]
  },
  {
   "cell_type": "code",
   "execution_count": 37,
   "id": "7f3c06a0-5272-45c0-89cb-e1eeb6d7ffa4",
   "metadata": {},
   "outputs": [],
   "source": [
    "#get in-test\n",
    "\n",
    "def update_set_to_in_test(df, sample_ratio=0.05, random_state=42):\n",
    "    # 对每个 data_source 分组\n",
    "    for ds, group in df.groupby(\"data_source\"):\n",
    "        # 找出当前组中 Set 为 \"train\" 的行的索引\n",
    "        train_indices = group[group[\"Set\"] == \"train\"].index\n",
    "        if len(train_indices) > 0:\n",
    "            # 随机抽取5%的样本（至少1个）\n",
    "            sample_count = max(1, int(len(train_indices) * sample_ratio))\n",
    "            sampled_indices = train_indices.to_series().sample(n=sample_count, random_state=random_state)\n",
    "            # 将这些样本的 Set 更新为 \"i-test\"\n",
    "            df.loc[sampled_indices, \"Set\"] = \"in-test\"\n",
    "    return df\n",
    "\n",
    "# 更新 df_final\n",
    "df_final = update_set_to_in_test(df_final)"
   ]
  },
  {
   "cell_type": "code",
   "execution_count": 38,
   "id": "d69c8e00-491a-4267-b2ed-8cf0525d242d",
   "metadata": {},
   "outputs": [
    {
     "data": {
      "text/plain": [
       "Set\n",
       "train      353575\n",
       "test       127594\n",
       "in-test     18609\n",
       "Name: count, dtype: int64"
      ]
     },
     "execution_count": 38,
     "metadata": {},
     "output_type": "execute_result"
    }
   ],
   "source": [
    "df_final.Set.value_counts()"
   ]
  },
  {
   "cell_type": "code",
   "execution_count": 39,
   "id": "38e88cf1-ca5f-4ac7-8495-33d7e4e22cec",
   "metadata": {
    "tags": []
   },
   "outputs": [
    {
     "name": "stdout",
     "output_type": "stream",
     "text": [
      "CSV file generated: meta_modified.csv\n"
     ]
    }
   ],
   "source": [
    "##############################\n",
    "# 保存 CSV\n",
    "##############################\n",
    "csv_file = \"meta_modified.csv\"\n",
    "df_final.to_csv(csv_file, index=False)\n",
    "print(f\"CSV file generated: {csv_file}\")"
   ]
  },
  {
   "cell_type": "code",
   "execution_count": 40,
   "id": "5010f262-b6c7-4166-9113-872aab3236b6",
   "metadata": {
    "tags": []
   },
   "outputs": [],
   "source": [
    "# len(df_records.speaker.unique()) #54\n",
    "# len(df_gen.speaker.unique()) # 10\n",
    "# len(df_LJ.speaker.unique()) # 1\n",
    "# len(df_vox.speaker.unique()) # 1251\n",
    "# len(df_diffusion.speaker.unique()) #14\n",
    "# len(df_final.speaker.unique()) #1330"
   ]
  },
  {
   "cell_type": "code",
   "execution_count": 41,
   "id": "099e4c70-0236-4d97-b217-dd223f4790b0",
   "metadata": {
    "tags": []
   },
   "outputs": [
    {
     "data": {
      "text/plain": [
       "Set\n",
       "train      353575\n",
       "test       127594\n",
       "in-test     18609\n",
       "Name: count, dtype: int64"
      ]
     },
     "execution_count": 41,
     "metadata": {},
     "output_type": "execute_result"
    }
   ],
   "source": [
    "df_final.Set.value_counts()"
   ]
  },
  {
   "cell_type": "code",
   "execution_count": 42,
   "id": "82b8d761-a075-40a5-a884-b32a4765580a",
   "metadata": {
    "tags": []
   },
   "outputs": [
    {
     "data": {
      "text/plain": [
       "label\n",
       "0    313199\n",
       "1    186579\n",
       "Name: count, dtype: int64"
      ]
     },
     "execution_count": 42,
     "metadata": {},
     "output_type": "execute_result"
    }
   ],
   "source": [
    "df_final.label.value_counts()"
   ]
  },
  {
   "cell_type": "code",
   "execution_count": 43,
   "id": "1989c792-cbab-409d-a08e-de72e9e49e3b",
   "metadata": {
    "tags": []
   },
   "outputs": [
    {
     "name": "stdout",
     "output_type": "stream",
     "text": [
      "Set      label  data_source    \n",
      "in-test  0      diffusion-based      7205\n",
      "                gen                  4589\n",
      "         1      LJSpeech              655\n",
      "                vox                  6160\n",
      "test     0      diffusion-based     39300\n",
      "                gen                 26200\n",
      "                itw                 11816\n",
      "         1      itw                 19963\n",
      "                vox                 30315\n",
      "train    0      diffusion-based    136895\n",
      "                gen                 87194\n",
      "         1      LJSpeech            12445\n",
      "                vox                117041\n",
      "Name: count, dtype: int64\n"
     ]
    }
   ],
   "source": [
    "cross_counts = df_final[['Set','label','data_source']].value_counts()\n",
    "cross_counts_sorted = cross_counts.sort_index(level=0, ascending=True)\n",
    "print(cross_counts_sorted)"
   ]
  },
  {
   "cell_type": "code",
   "execution_count": 29,
   "id": "0feda758-1702-4341-82d5-5e9875ea8c40",
   "metadata": {},
   "outputs": [
    {
     "name": "stdout",
     "output_type": "stream",
     "text": [
      "Set      label\n",
      "train    0        236534\n",
      "         1        129486\n",
      "test     0         64216\n",
      "         1         50278\n",
      "in-test  0         12449\n",
      "         1          6815\n",
      "Name: count, dtype: int64\n"
     ]
    }
   ],
   "source": [
    "cross_counts = df_final[['Set', 'label']].value_counts()\n",
    "print(cross_counts)"
   ]
  },
  {
   "cell_type": "code",
   "execution_count": 44,
   "id": "25090e87-31a9-4745-b074-5f1126ea5398",
   "metadata": {},
   "outputs": [
    {
     "name": "stdout",
     "output_type": "stream",
     "text": [
      "Set      label  speaker               \n",
      "test     0      Grad-TTS                  13100\n",
      "                DiffGAN-TTS_aux           13100\n",
      "                NATSpeech_DiffSpeech      13100\n",
      "train    0      tacotron2-DCA_diffwave    12484\n",
      "                DiffGAN-TTS_naive         12472\n",
      "                DiffGAN-TTS_shallow       12468\n",
      "                vits                      12457\n",
      "                tacotron2-DCA             12454\n",
      "                glow-tts                  12444\n",
      "                tacotron2-DCA_wavegrad    12434\n",
      "                ProDiff                   12431\n",
      "                fast_pitch                12421\n",
      "                wavegrad2                 12416\n",
      "                tacotron2-DCA_bddm        12414\n",
      "in-test  0      tacotron2-DCA_bddm          686\n",
      "                wavegrad2                   684\n",
      "                fast_pitch                  679\n",
      "                ProDiff                     669\n",
      "                tacotron2-DCA_wavegrad      666\n",
      "                glow-tts                    656\n",
      "                tacotron2-DCA               646\n",
      "                vits                        643\n",
      "                DiffGAN-TTS_shallow         632\n",
      "                DiffGAN-TTS_naive           628\n",
      "                tacotron2-DCA_diffwave      616\n",
      "Name: count, dtype: int64\n"
     ]
    }
   ],
   "source": [
    "cross_counts = df_final[df_final['data_source'] == \"diffusion-based\"][['Set','label','speaker']].value_counts()\n",
    "print(cross_counts)"
   ]
  },
  {
   "cell_type": "code",
   "execution_count": 45,
   "id": "5afea72a-e28e-4c00-acaf-42d750e90956",
   "metadata": {},
   "outputs": [
    {
     "name": "stdout",
     "output_type": "stream",
     "text": [
      "Set   label\n",
      "test  1        19963\n",
      "      0        11816\n",
      "Name: count, dtype: int64\n"
     ]
    }
   ],
   "source": [
    "cross_counts = df_final[df_final['data_source'] == \"itw\"][['Set','label']].value_counts()\n",
    "print(cross_counts)"
   ]
  },
  {
   "cell_type": "code",
   "execution_count": 46,
   "id": "c35481f4-8cc0-45a1-965b-8601486c3a7c",
   "metadata": {},
   "outputs": [
    {
     "name": "stdout",
     "output_type": "stream",
     "text": [
      "Set      label  speaker                                                      \n",
      "train    0      common_voices_prompts_from_conformer_fastspeech2_pwg_ljspeech    15490\n",
      "test     0      ljspeech_hifiGAN                                                 13100\n",
      "                ljspeech_waveglow                                                13100\n",
      "train    0      ljspeech_parallel_wavegan                                        12468\n",
      "                ljspeech_full_band_melgan                                        12462\n",
      "                ljspeech_multi_band_melgan                                       12459\n",
      "                ljspeech_melgan_large                                            12434\n",
      "                ljspeech_melgan                                                  12398\n",
      "                jsut_parallel_wavegan                                             4754\n",
      "                jsut_multi_band_melgan                                            4729\n",
      "in-test  0      common_voices_prompts_from_conformer_fastspeech2_pwg_ljspeech      793\n",
      "                ljspeech_melgan                                                    702\n",
      "                ljspeech_melgan_large                                              666\n",
      "                ljspeech_multi_band_melgan                                         641\n",
      "                ljspeech_full_band_melgan                                          638\n",
      "                ljspeech_parallel_wavegan                                          632\n",
      "                jsut_multi_band_melgan                                             271\n",
      "                jsut_parallel_wavegan                                              246\n",
      "Name: count, dtype: int64\n"
     ]
    }
   ],
   "source": [
    "cross_counts = df_final[df_final['data_source'] == \"gen\"][['Set','label','speaker']].value_counts()\n",
    "print(cross_counts)"
   ]
  },
  {
   "cell_type": "code",
   "execution_count": 47,
   "id": "8a902561-af62-47ae-9326-3418a4f5d744",
   "metadata": {},
   "outputs": [
    {
     "name": "stdout",
     "output_type": "stream",
     "text": [
      "Set      label  speaker \n",
      "train    1      LJSpeech    12445\n",
      "in-test  1      LJSpeech      655\n",
      "Name: count, dtype: int64\n"
     ]
    }
   ],
   "source": [
    "cross_counts = df_final[df_final['data_source'] == \"LJSpeech\"][['Set','label','speaker']].value_counts()\n",
    "print(cross_counts)"
   ]
  },
  {
   "cell_type": "code",
   "execution_count": 48,
   "id": "c404a4d2-bc4f-47f3-bc0b-135d967d8581",
   "metadata": {},
   "outputs": [
    {
     "name": "stdout",
     "output_type": "stream",
     "text": [
      "Set      label\n",
      "train    1        117041\n",
      "test     1         30315\n",
      "in-test  1          6160\n",
      "Name: count, dtype: int64\n"
     ]
    }
   ],
   "source": [
    "cross_counts = df_final[df_final['data_source'] == \"vox\"][['Set','label']].value_counts()\n",
    "print(cross_counts)"
   ]
  },
  {
   "cell_type": "code",
   "execution_count": 49,
   "id": "b5c767a3-d1a7-432d-af83-cffbde6b3858",
   "metadata": {},
   "outputs": [
    {
     "data": {
      "text/plain": [
       "array(['itw', 'gen', 'LJSpeech', 'vox', 'diffusion-based'], dtype=object)"
      ]
     },
     "execution_count": 49,
     "metadata": {},
     "output_type": "execute_result"
    }
   ],
   "source": [
    "df_final.data_source.unique()"
   ]
  },
  {
   "cell_type": "code",
   "execution_count": null,
   "id": "93a8c7ba-0c0d-4a04-9751-7ed775f202c0",
   "metadata": {},
   "outputs": [],
   "source": []
  }
 ],
 "metadata": {
  "environment": {
   "kernel": "conda-base-py",
   "name": "workbench-notebooks.m128",
   "type": "gcloud",
   "uri": "us-docker.pkg.dev/deeplearning-platform-release/gcr.io/workbench-notebooks:m128"
  },
  "kernelspec": {
   "display_name": "Python 3 (ipykernel) (Local)",
   "language": "python",
   "name": "conda-base-py"
  },
  "language_info": {
   "codemirror_mode": {
    "name": "ipython",
    "version": 3
   },
   "file_extension": ".py",
   "mimetype": "text/x-python",
   "name": "python",
   "nbconvert_exporter": "python",
   "pygments_lexer": "ipython3",
   "version": "3.10.16"
  }
 },
 "nbformat": 4,
 "nbformat_minor": 5
}
