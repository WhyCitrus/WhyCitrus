{
 "cells": [
  {
   "attachments": {
    "image.png": {
     "image/png": "[encoded data removed]"
    }
   },
   "cell_type": "markdown",
   "metadata": {
    "papermill": {
     "duration": 0.021329,
     "end_time": "2020-11-04T11:39:35.952162",
     "exception": false,
     "start_time": "2020-11-04T11:39:35.930833",
     "status": "completed"
    },
    "tags": []
   },
   "source": [
    "![image.png](attachment:image.png)"
   ]
  },
  {
   "cell_type": "markdown",
   "metadata": {
    "papermill": {
     "duration": 0.01757,
     "end_time": "2020-11-04T11:39:35.987686",
     "exception": false,
     "start_time": "2020-11-04T11:39:35.970116",
     "status": "completed"
    },
    "tags": []
   },
   "source": [
    "# <center>HuggingFace</center>\n",
    "\n",
    "If you are interested in the field of NLP, chances are you've heard of HuggingFace Transformers. As their [GitHub page](https://github.com/huggingface/transformers) says, they provide **State-of-the-art Natural Language Processing for PyTorch and TensorFlow 2.0**\n",
    "\n",
    "[Recently](https://discuss.huggingface.co/t/new-pipeline-for-zero-shot-text-classification/681), they included support for zero-shot-classification. I am going to use this Zero-Shot Classification Pipeline for multi-class classification on the Arxiv Dataset."
   ]
  },
  {
   "cell_type": "markdown",
   "metadata": {
    "papermill": {
     "duration": 0.018163,
     "end_time": "2020-11-04T11:39:36.023365",
     "exception": false,
     "start_time": "2020-11-04T11:39:36.005202",
     "status": "completed"
    },
    "tags": []
   },
   "source": [
    "# <center><b>Zero-Shot Classification</b></center>\n",
    "\n",
    "Quite simply put, zero-shot classification refers to the class of machine learning problems where we want our models to predict output for classes which it did not encounter during training time. \n",
    "\n",
    "![Zero Shot Learning](https://amitness.com/images/zero-shot-vs-transfer.png)\n",
    "\n",
    "Yup. In spite of no labelled training data, we can still get an output. How cool is that!"
   ]
  },
  {
   "cell_type": "markdown",
   "metadata": {
    "papermill": {
     "duration": 0.017663,
     "end_time": "2020-11-04T11:39:36.059160",
     "exception": false,
     "start_time": "2020-11-04T11:39:36.041497",
     "status": "completed"
    },
    "tags": []
   },
   "source": [
    "# <center>How does HuggingFace do Zero-Shot Classification?</center>\n",
    "\n",
    "Quoting from their [introductory colab notebook](https://colab.research.google.com/drive/1jocViLorbwWIkTXKwxCOV9HLTaDDgCaw?usp=sharing) : \n",
    "> The underlying model is trained on the task of Natural Language Inference (NLI), which takes in two sequences and determines whether they contradict each other, entail each other, or neither.\n",
    "> \n",
    "> This can be adapted to the task of zero-shot classification by treating the sequence which we want to classify as one NLI sequence (called the premise) and turning a candidate label into the other (the hypothesis). If the model predicts that the constructed premise _entails_ the hypothesis, then we can take that as a prediction that the label applies to the text."
   ]
  },
  {
   "cell_type": "code",
   "execution_count": 1,
   "metadata": {
    "_kg_hide-input": true,
    "_kg_hide-output": true,
    "execution": {
     "iopub.execute_input": "2020-11-04T11:39:36.102930Z",
     "iopub.status.busy": "2020-11-04T11:39:36.102069Z",
     "iopub.status.idle": "2020-11-04T11:39:45.943968Z",
     "shell.execute_reply": "2020-11-04T11:39:45.942761Z"
    },
    "papermill": {
     "duration": 9.86718,
     "end_time": "2020-11-04T11:39:45.944101",
     "exception": false,
     "start_time": "2020-11-04T11:39:36.076921",
     "status": "completed"
    },
    "tags": []
   },
   "outputs": [
    {
     "name": "stdout",
     "output_type": "stream",
     "text": [
      "\u001b[31m  ERROR: Command errored out with exit status 1:\r\n",
      "   command: /opt/conda/bin/python3.7 /opt/conda/lib/python3.7/site-packages/pip install --ignore-installed --no-user --prefix /tmp/pip-build-env-pj_bul5p/overlay --no-warn-script-location --no-binary :none: --only-binary :none: -i https://pypi.org/simple -- 'setuptools>=40.8.0' wheel\r\n",
      "       cwd: None\r\n",
      "  Complete output (42 lines):\r\n",
      "  Traceback (most recent call last):\r\n",
      "    File \"/opt/conda/lib/python3.7/runpy.py\", line 193, in _run_module_as_main\r\n",
      "      \"__main__\", mod_spec)\r\n",
      "    File \"/opt/conda/lib/python3.7/runpy.py\", line 85, in _run_code\r\n",
      "      exec(code, run_globals)\r\n",
      "    File \"/opt/conda/lib/python3.7/site-packages/pip/__main__.py\", line 26, in <module>\r\n",
      "      sys.exit(_main())\r\n",
      "    File \"/opt/conda/lib/python3.7/site-packages/pip/_internal/cli/main.py\", line 73, in main\r\n",
      "      command = create_command(cmd_name, isolated=(\"--isolated\" in cmd_args))\r\n",
      "    File \"/opt/conda/lib/python3.7/site-packages/pip/_internal/commands/__init__.py\", line 104, in create_command\r\n",
      "      module = importlib.import_module(module_path)\r\n",
      "    File \"/opt/conda/lib/python3.7/importlib/__init__.py\", line 127, in import_module\r\n",
      "      return _bootstrap._gcd_import(name[level:], package, level)\r\n",
      "    File \"<frozen importlib._bootstrap>\", line 1006, in _gcd_import\r\n",
      "    File \"<frozen importlib._bootstrap>\", line 983, in _find_and_load\r\n",
      "    File \"<frozen importlib._bootstrap>\", line 967, in _find_and_load_unlocked\r\n",
      "    File \"<frozen importlib._bootstrap>\", line 677, in _load_unlocked\r\n",
      "    File \"<frozen importlib._bootstrap_external>\", line 728, in exec_module\r\n",
      "    File \"<frozen importlib._bootstrap>\", line 219, in _call_with_frames_removed\r\n",
      "    File \"/opt/conda/lib/python3.7/site-packages/pip/_internal/commands/install.py\", line 17, in <module>\r\n",
      "      from pip._internal.cli.req_command import RequirementCommand, with_cleanup\r\n",
      "    File \"/opt/conda/lib/python3.7/site-packages/pip/_internal/cli/req_command.py\", line 16, in <module>\r\n",
      "      from pip._internal.index.collector import LinkCollector\r\n",
      "    File \"/opt/conda/lib/python3.7/site-packages/pip/_internal/index/collector.py\", line 14, in <module>\r\n",
      "      from pip._vendor import html5lib, requests\r\n",
      "    File \"/opt/conda/lib/python3.7/site-packages/pip/_vendor/requests/__init__.py\", line 125, in <module>\r\n",
      "      from . import utils\r\n",
      "    File \"/opt/conda/lib/python3.7/site-packages/pip/_vendor/requests/utils.py\", line 25, in <module>\r\n",
      "      from . import certs\r\n",
      "    File \"/opt/conda/lib/python3.7/site-packages/pip/_vendor/requests/certs.py\", line 15, in <module>\r\n",
      "      from pip._vendor.certifi import where\r\n",
      "    File \"/opt/conda/lib/python3.7/site-packages/pip/_vendor/certifi/__init__.py\", line 1, in <module>\r\n",
      "      from .core import contents, where\r\n",
      "    File \"/opt/conda/lib/python3.7/site-packages/pip/_vendor/certifi/core.py\", line 12, in <module>\r\n",
      "      from importlib.resources import path as get_path, read_text\r\n",
      "    File \"/opt/conda/lib/python3.7/importlib/resources.py\", line 11, in <module>\r\n",
      "      from typing import Iterable, Iterator, Optional, Set, Union   # noqa: F401\r\n",
      "    File \"/opt/conda/lib/python3.7/site-packages/typing.py\", line 1359, in <module>\r\n",
      "      class Callable(extra=collections_abc.Callable, metaclass=CallableMeta):\r\n",
      "    File \"/opt/conda/lib/python3.7/site-packages/typing.py\", line 1007, in __new__\r\n",
      "      self._abc_registry = extra._abc_registry\r\n",
      "  AttributeError: type object 'Callable' has no attribute '_abc_registry'\r\n",
      "  ----------------------------------------\u001b[0m\r\n",
      "\u001b[31mERROR: Command errored out with exit status 1: /opt/conda/bin/python3.7 /opt/conda/lib/python3.7/site-packages/pip install --ignore-installed --no-user --prefix /tmp/pip-build-env-pj_bul5p/overlay --no-warn-script-location --no-binary :none: --only-binary :none: -i https://pypi.org/simple -- 'setuptools>=40.8.0' wheel Check the logs for full command output.\u001b[0m\r\n"
     ]
    }
   ],
   "source": [
    "!pip install -q git+https://github.com/huggingface/transformers.git"
   ]
  },
  {
   "cell_type": "code",
   "execution_count": 2,
   "metadata": {
    "_cell_guid": "b1076dfc-b9ad-4769-8c92-a6c4dae69d19",
    "_kg_hide-input": true,
    "_kg_hide-output": true,
    "_uuid": "8f2839f25d086af736a60e9eeb907d3b93b6e0e5",
    "execution": {
     "iopub.execute_input": "2020-11-04T11:39:45.987977Z",
     "iopub.status.busy": "2020-11-04T11:39:45.987193Z",
     "iopub.status.idle": "2020-11-04T11:39:55.452858Z",
     "shell.execute_reply": "2020-11-04T11:39:55.451651Z"
    },
    "papermill": {
     "duration": 9.489409,
     "end_time": "2020-11-04T11:39:55.452993",
     "exception": false,
     "start_time": "2020-11-04T11:39:45.963584",
     "status": "completed"
    },
    "tags": []
   },
   "outputs": [
    {
     "name": "stderr",
     "output_type": "stream",
     "text": [
      "\u001b[34m\u001b[1mwandb\u001b[0m: \u001b[33mWARNING\u001b[0m W&B installed but not logged in.  Run `wandb login` or set the WANDB_API_KEY env variable.\n"
     ]
    }
   ],
   "source": [
    "from transformers import pipeline\n",
    "import pandas as pd\n",
    "import numpy as np\n",
    "import json\n",
    "from tqdm import tqdm"
   ]
  },
  {
   "cell_type": "markdown",
   "metadata": {
    "papermill": {
     "duration": 0.020021,
     "end_time": "2020-11-04T11:39:55.492824",
     "exception": false,
     "start_time": "2020-11-04T11:39:55.472803",
     "status": "completed"
    },
    "tags": []
   },
   "source": [
    "# <center>Preparing the data</center>\n",
    "\n",
    "We are only using training samples of papers which were published in the year 2020 for the purpose of this notebook\n",
    "\n",
    "Source : [Notebook](https://www.kaggle.com/balraj98/arxiv-abstract-classification-using-roberta)"
   ]
  },
  {
   "attachments": {
    "image.png": {
     "image/png": "[encoded data removed]"
    }
   },
   "cell_type": "markdown",
   "metadata": {
    "papermill": {
     "duration": 0.020604,
     "end_time": "2020-11-04T11:39:55.533670",
     "exception": false,
     "start_time": "2020-11-04T11:39:55.513066",
     "status": "completed"
    },
    "tags": []
   },
   "source": [
    "![image.png](attachment:image.png)"
   ]
  },
  {
   "cell_type": "code",
   "execution_count": 3,
   "metadata": {
    "_cell_guid": "79c7e3d0-c299-4dcb-8224-4455121ee9b0",
    "_uuid": "d629ff2d2480ee46fbb7e2d37f6b5fab8052498a",
    "execution": {
     "iopub.execute_input": "2020-11-04T11:39:55.582689Z",
     "iopub.status.busy": "2020-11-04T11:39:55.580663Z",
     "iopub.status.idle": "2020-11-04T11:39:55.583732Z",
     "shell.execute_reply": "2020-11-04T11:39:55.584526Z"
    },
    "papermill": {
     "duration": 0.030282,
     "end_time": "2020-11-04T11:39:55.584684",
     "exception": false,
     "start_time": "2020-11-04T11:39:55.554402",
     "status": "completed"
    },
    "tags": []
   },
   "outputs": [],
   "source": [
    "data_file = '../input/arxiv/arxiv-metadata-oai-snapshot.json'\n",
    "\n",
    "\"\"\" Using `yield` to load the JSON file in a loop to prevent Python memory issues if JSON is loaded directly\"\"\"\n",
    "\n",
    "def get_metadata():\n",
    "    with open(data_file, 'r') as f:\n",
    "        for line in f:\n",
    "            yield line"
   ]
  },
  {
   "cell_type": "code",
   "execution_count": 4,
   "metadata": {
    "_kg_hide-input": true,
    "_kg_hide-output": true,
    "execution": {
     "iopub.execute_input": "2020-11-04T11:39:55.659575Z",
     "iopub.status.busy": "2020-11-04T11:39:55.635434Z",
     "iopub.status.idle": "2020-11-04T11:39:55.662110Z",
     "shell.execute_reply": "2020-11-04T11:39:55.662535Z"
    },
    "papermill": {
     "duration": 0.056803,
     "end_time": "2020-11-04T11:39:55.662647",
     "exception": false,
     "start_time": "2020-11-04T11:39:55.605844",
     "status": "completed"
    },
    "tags": []
   },
   "outputs": [],
   "source": [
    "category_map = {'astro-ph': 'Astrophysics',\n",
    "                'astro-ph.CO': 'Cosmology and Nongalactic Astrophysics',\n",
    "                'astro-ph.EP': 'Earth and Planetary Astrophysics',\n",
    "                'astro-ph.GA': 'Astrophysics of Galaxies',\n",
    "                'astro-ph.HE': 'High Energy Astrophysical Phenomena',\n",
    "                'astro-ph.IM': 'Instrumentation and Methods for Astrophysics',\n",
    "                'astro-ph.SR': 'Solar and Stellar Astrophysics',\n",
    "                'cond-mat.dis-nn': 'Disordered Systems and Neural Networks',\n",
    "                'cond-mat.mes-hall': 'Mesoscale and Nanoscale Physics',\n",
    "                'cond-mat.mtrl-sci': 'Materials Science',\n",
    "                'cond-mat.other': 'Other Condensed Matter',\n",
    "                'cond-mat.quant-gas': 'Quantum Gases',\n",
    "                'cond-mat.soft': 'Soft Condensed Matter',\n",
    "                'cond-mat.stat-mech': 'Statistical Mechanics',\n",
    "                'cond-mat.str-el': 'Strongly Correlated Electrons',\n",
    "                'cond-mat.supr-con': 'Superconductivity',\n",
    "                'cs.AI': 'Artificial Intelligence',\n",
    "                'cs.AR': 'Hardware Architecture',\n",
    "                'cs.CC': 'Computational Complexity',\n",
    "                'cs.CE': 'Computational Engineering, Finance, and Science',\n",
    "                'cs.CG': 'Computational Geometry',\n",
    "                'cs.CL': 'Computation and Language',\n",
    "                'cs.CR': 'Cryptography and Security',\n",
    "                'cs.CV': 'Computer Vision and Pattern Recognition',\n",
    "                'cs.CY': 'Computers and Society',\n",
    "                'cs.DB': 'Databases',\n",
    "                'cs.DC': 'Distributed, Parallel, and Cluster Computing',\n",
    "                'cs.DL': 'Digital Libraries',\n",
    "                'cs.DM': 'Discrete Mathematics',\n",
    "                'cs.DS': 'Data Structures and Algorithms',\n",
    "                'cs.ET': 'Emerging Technologies',\n",
    "                'cs.FL': 'Formal Languages and Automata Theory',\n",
    "                'cs.GL': 'General Literature',\n",
    "                'cs.GR': 'Graphics',\n",
    "                'cs.GT': 'Computer Science and Game Theory',\n",
    "                'cs.HC': 'Human-Computer Interaction',\n",
    "                'cs.IR': 'Information Retrieval',\n",
    "                'cs.IT': 'Information Theory',\n",
    "                'cs.LG': 'Machine Learning',\n",
    "                'cs.LO': 'Logic in Computer Science',\n",
    "                'cs.MA': 'Multiagent Systems',\n",
    "                'cs.MM': 'Multimedia',\n",
    "                'cs.MS': 'Mathematical Software',\n",
    "                'cs.NA': 'Numerical Analysis',\n",
    "                'cs.NE': 'Neural and Evolutionary Computing',\n",
    "                'cs.NI': 'Networking and Internet Architecture',\n",
    "                'cs.OH': 'Other Computer Science',\n",
    "                'cs.OS': 'Operating Systems',\n",
    "                'cs.PF': 'Performance',\n",
    "                'cs.PL': 'Programming Languages',\n",
    "                'cs.RO': 'Robotics',\n",
    "                'cs.SC': 'Symbolic Computation',\n",
    "                'cs.SD': 'Sound',\n",
    "                'cs.SE': 'Software Engineering',\n",
    "                'cs.SI': 'Social and Information Networks',\n",
    "                'cs.SY': 'Systems and Control',\n",
    "                'econ.EM': 'Econometrics',\n",
    "                'eess.AS': 'Audio and Speech Processing',\n",
    "                'eess.IV': 'Image and Video Processing',\n",
    "                'eess.SP': 'Signal Processing',\n",
    "                'gr-qc': 'General Relativity and Quantum Cosmology',\n",
    "                'hep-ex': 'High Energy Physics - Experiment',\n",
    "                'hep-lat': 'High Energy Physics - Lattice',\n",
    "                'hep-ph': 'High Energy Physics - Phenomenology',\n",
    "                'hep-th': 'High Energy Physics - Theory',\n",
    "                'math.AC': 'Commutative Algebra',\n",
    "                'math.AG': 'Algebraic Geometry',\n",
    "                'math.AP': 'Analysis of PDEs',\n",
    "                'math.AT': 'Algebraic Topology',\n",
    "                'math.CA': 'Classical Analysis and ODEs',\n",
    "                'math.CO': 'Combinatorics',\n",
    "                'math.CT': 'Category Theory',\n",
    "                'math.CV': 'Complex Variables',\n",
    "                'math.DG': 'Differential Geometry',\n",
    "                'math.DS': 'Dynamical Systems',\n",
    "                'math.FA': 'Functional Analysis',\n",
    "                'math.GM': 'General Mathematics',\n",
    "                'math.GN': 'General Topology',\n",
    "                'math.GR': 'Group Theory',\n",
    "                'math.GT': 'Geometric Topology',\n",
    "                'math.HO': 'History and Overview',\n",
    "                'math.IT': 'Information Theory',\n",
    "                'math.KT': 'K-Theory and Homology',\n",
    "                'math.LO': 'Logic',\n",
    "                'math.MG': 'Metric Geometry',\n",
    "                'math.MP': 'Mathematical Physics',\n",
    "                'math.NA': 'Numerical Analysis',\n",
    "                'math.NT': 'Number Theory',\n",
    "                'math.OA': 'Operator Algebras',\n",
    "                'math.OC': 'Optimization and Control',\n",
    "                'math.PR': 'Probability',\n",
    "                'math.QA': 'Quantum Algebra',\n",
    "                'math.RA': 'Rings and Algebras',\n",
    "                'math.RT': 'Representation Theory',\n",
    "                'math.SG': 'Symplectic Geometry',\n",
    "                'math.SP': 'Spectral Theory',\n",
    "                'math.ST': 'Statistics Theory',\n",
    "                'math-ph': 'Mathematical Physics',\n",
    "                'nlin.AO': 'Adaptation and Self-Organizing Systems',\n",
    "                'nlin.CD': 'Chaotic Dynamics',\n",
    "                'nlin.CG': 'Cellular Automata and Lattice Gases',\n",
    "                'nlin.PS': 'Pattern Formation and Solitons',\n",
    "                'nlin.SI': 'Exactly Solvable and Integrable Systems',\n",
    "                'nucl-ex': 'Nuclear Experiment',\n",
    "                'nucl-th': 'Nuclear Theory',\n",
    "                'physics.acc-ph': 'Accelerator Physics',\n",
    "                'physics.ao-ph': 'Atmospheric and Oceanic Physics',\n",
    "                'physics.app-ph': 'Applied Physics',\n",
    "                'physics.atm-clus': 'Atomic and Molecular Clusters',\n",
    "                'physics.atom-ph': 'Atomic Physics',\n",
    "                'physics.bio-ph': 'Biological Physics',\n",
    "                'physics.chem-ph': 'Chemical Physics',\n",
    "                'physics.class-ph': 'Classical Physics',\n",
    "                'physics.comp-ph': 'Computational Physics',\n",
    "                'physics.data-an': 'Data Analysis, Statistics and Probability',\n",
    "                'physics.ed-ph': 'Physics Education',\n",
    "                'physics.flu-dyn': 'Fluid Dynamics',\n",
    "                'physics.gen-ph': 'General Physics',\n",
    "                'physics.geo-ph': 'Geophysics',\n",
    "                'physics.hist-ph': 'History and Philosophy of Physics',\n",
    "                'physics.ins-det': 'Instrumentation and Detectors',\n",
    "                'physics.med-ph': 'Medical Physics',\n",
    "                'physics.optics': 'Optics',\n",
    "                'physics.plasm-ph': 'Plasma Physics',\n",
    "                'physics.pop-ph': 'Popular Physics',\n",
    "                'physics.soc-ph': 'Physics and Society',\n",
    "                'physics.space-ph': 'Space Physics',\n",
    "                'q-bio.BM': 'Biomolecules',\n",
    "                'q-bio.CB': 'Cell Behavior',\n",
    "                'q-bio.GN': 'Genomics',\n",
    "                'q-bio.MN': 'Molecular Networks',\n",
    "                'q-bio.NC': 'Neurons and Cognition',\n",
    "                'q-bio.OT': 'Other Quantitative Biology',\n",
    "                'q-bio.PE': 'Populations and Evolution',\n",
    "                'q-bio.QM': 'Quantitative Methods',\n",
    "                'q-bio.SC': 'Subcellular Processes',\n",
    "                'q-bio.TO': 'Tissues and Organs',\n",
    "                'q-fin.CP': 'Computational Finance',\n",
    "                'q-fin.EC': 'Economics',\n",
    "                'q-fin.GN': 'General Finance',\n",
    "                'q-fin.MF': 'Mathematical Finance',\n",
    "                'q-fin.PM': 'Portfolio Management',\n",
    "                'q-fin.PR': 'Pricing of Securities',\n",
    "                'q-fin.RM': 'Risk Management',\n",
    "                'q-fin.ST': 'Statistical Finance',\n",
    "                'q-fin.TR': 'Trading and Market Microstructure',\n",
    "                'quant-ph': 'Quantum Physics',\n",
    "                'stat.AP': 'Applications',\n",
    "                'stat.CO': 'Computation',\n",
    "                'stat.ME': 'Methodology',\n",
    "                'stat.ML': 'Machine Learning',\n",
    "                'stat.OT': 'Other Statistics',\n",
    "                'stat.TH': 'Statistics Theory'}"
   ]
  },
  {
   "cell_type": "code",
   "execution_count": 5,
   "metadata": {
    "_kg_hide-input": true,
    "execution": {
     "iopub.execute_input": "2020-11-04T11:39:55.711792Z",
     "iopub.status.busy": "2020-11-04T11:39:55.711076Z",
     "iopub.status.idle": "2020-11-04T11:40:44.504134Z",
     "shell.execute_reply": "2020-11-04T11:40:44.503150Z"
    },
    "papermill": {
     "duration": 48.821696,
     "end_time": "2020-11-04T11:40:44.504259",
     "exception": false,
     "start_time": "2020-11-04T11:39:55.682563",
     "status": "completed"
    },
    "tags": []
   },
   "outputs": [],
   "source": [
    "metadata = get_metadata()\n",
    "ids = []\n",
    "titles = []\n",
    "abstracts = []\n",
    "categories = []\n",
    "for paper in metadata:\n",
    "    metaDict = json.loads(paper)\n",
    "    try:\n",
    "        try:\n",
    "            year = int(metaDict['journal-ref'][-4:])    ### Example Format: \"Phys.Rev.D76:013009,2007\"\n",
    "        except:\n",
    "            year = int(metaDict['journal-ref'][-5:-1])    ### Example Format: \"Phys.Rev.D76:013009,(2007)\"\n",
    "        if(year == 2020):\n",
    "            ids.append(metaDict['id'])\n",
    "            titles.append(metaDict['title'])\n",
    "            abstracts.append(metaDict['abstract'])\n",
    "            categories.append(metaDict['categories'])\n",
    "    except:\n",
    "        pass"
   ]
  },
  {
   "cell_type": "code",
   "execution_count": 6,
   "metadata": {
    "_kg_hide-input": true,
    "execution": {
     "iopub.execute_input": "2020-11-04T11:40:44.556237Z",
     "iopub.status.busy": "2020-11-04T11:40:44.555408Z",
     "iopub.status.idle": "2020-11-04T11:40:44.592507Z",
     "shell.execute_reply": "2020-11-04T11:40:44.593034Z"
    },
    "papermill": {
     "duration": 0.068309,
     "end_time": "2020-11-04T11:40:44.593197",
     "exception": false,
     "start_time": "2020-11-04T11:40:44.524888",
     "status": "completed"
    },
    "tags": []
   },
   "outputs": [
    {
     "data": {
      "text/html": [
       "<div>\n",
       "<style scoped>\n",
       "    .dataframe tbody tr th:only-of-type {\n",
       "        vertical-align: middle;\n",
       "    }\n",
       "\n",
       "    .dataframe tbody tr th {\n",
       "        vertical-align: top;\n",
       "    }\n",
       "\n",
       "    .dataframe thead th {\n",
       "        text-align: right;\n",
       "    }\n",
       "</style>\n",
       "<table border=\"1\" class=\"dataframe\">\n",
       "  <thead>\n",
       "    <tr style=\"text-align: right;\">\n",
       "      <th></th>\n",
       "      <th>id</th>\n",
       "      <th>title</th>\n",
       "      <th>abstract</th>\n",
       "      <th>categories</th>\n",
       "    </tr>\n",
       "  </thead>\n",
       "  <tbody>\n",
       "    <tr>\n",
       "      <th>0</th>\n",
       "      <td>0712.1975</td>\n",
       "      <td>Reentrant spin glass transition in LuFe2O4</td>\n",
       "      <td>We have carried out a comprehensive investig...</td>\n",
       "      <td>cond-mat.str-el cond-mat.mtrl-sci</td>\n",
       "    </tr>\n",
       "    <tr>\n",
       "      <th>1</th>\n",
       "      <td>0804.3104</td>\n",
       "      <td>Teichm\\\"uller Structures and Dual Geometric Gi...</td>\n",
       "      <td>The Gibbs measure theory for smooth potentia...</td>\n",
       "      <td>math.DS math.CV</td>\n",
       "    </tr>\n",
       "    <tr>\n",
       "      <th>2</th>\n",
       "      <td>0810.5491</td>\n",
       "      <td>Nonequilibrium phase transition in a spreading...</td>\n",
       "      <td>We consider a nonequilibrium process on a ti...</td>\n",
       "      <td>cond-mat.stat-mech</td>\n",
       "    </tr>\n",
       "    <tr>\n",
       "      <th>3</th>\n",
       "      <td>0902.3288</td>\n",
       "      <td>Origin and evolution of cosmic accelerators - ...</td>\n",
       "      <td>One of the most tantalizing questions in ast...</td>\n",
       "      <td>astro-ph.CO astro-ph.HE</td>\n",
       "    </tr>\n",
       "    <tr>\n",
       "      <th>4</th>\n",
       "      <td>0908.2605</td>\n",
       "      <td>A use of geometric calculus to reduce Berezin ...</td>\n",
       "      <td>Berezin integration of functions of anticomm...</td>\n",
       "      <td>gr-qc</td>\n",
       "    </tr>\n",
       "  </tbody>\n",
       "</table>\n",
       "</div>"
      ],
      "text/plain": [
       "          id                                              title  \\\n",
       "0  0712.1975         Reentrant spin glass transition in LuFe2O4   \n",
       "1  0804.3104  Teichm\\\"uller Structures and Dual Geometric Gi...   \n",
       "2  0810.5491  Nonequilibrium phase transition in a spreading...   \n",
       "3  0902.3288  Origin and evolution of cosmic accelerators - ...   \n",
       "4  0908.2605  A use of geometric calculus to reduce Berezin ...   \n",
       "\n",
       "                                            abstract  \\\n",
       "0    We have carried out a comprehensive investig...   \n",
       "1    The Gibbs measure theory for smooth potentia...   \n",
       "2    We consider a nonequilibrium process on a ti...   \n",
       "3    One of the most tantalizing questions in ast...   \n",
       "4    Berezin integration of functions of anticomm...   \n",
       "\n",
       "                          categories  \n",
       "0  cond-mat.str-el cond-mat.mtrl-sci  \n",
       "1                    math.DS math.CV  \n",
       "2                 cond-mat.stat-mech  \n",
       "3            astro-ph.CO astro-ph.HE  \n",
       "4                              gr-qc  "
      ]
     },
     "execution_count": 6,
     "metadata": {},
     "output_type": "execute_result"
    }
   ],
   "source": [
    "df = pd.DataFrame({'id' : ids,'title' : titles,'abstract' : abstracts, 'categories' : categories})\n",
    "df.head()"
   ]
  },
  {
   "cell_type": "code",
   "execution_count": 7,
   "metadata": {
    "_kg_hide-input": true,
    "execution": {
     "iopub.execute_input": "2020-11-04T11:40:44.639475Z",
     "iopub.status.busy": "2020-11-04T11:40:44.638647Z",
     "iopub.status.idle": "2020-11-04T11:40:44.642739Z",
     "shell.execute_reply": "2020-11-04T11:40:44.643284Z"
    },
    "papermill": {
     "duration": 0.029873,
     "end_time": "2020-11-04T11:40:44.643431",
     "exception": false,
     "start_time": "2020-11-04T11:40:44.613558",
     "status": "completed"
    },
    "tags": []
   },
   "outputs": [
    {
     "name": "stdout",
     "output_type": "stream",
     "text": [
      "There are 24757 rows in the dataset\n"
     ]
    }
   ],
   "source": [
    "print(f'There are {df.shape[0]} rows in the dataset')"
   ]
  },
  {
   "cell_type": "markdown",
   "metadata": {
    "papermill": {
     "duration": 0.019953,
     "end_time": "2020-11-04T11:40:44.684032",
     "exception": false,
     "start_time": "2020-11-04T11:40:44.664079",
     "status": "completed"
    },
    "tags": []
   },
   "source": [
    "# <center>Preparing the pipeline in one-line of code!</center>"
   ]
  },
  {
   "cell_type": "code",
   "execution_count": 8,
   "metadata": {
    "_kg_hide-output": true,
    "execution": {
     "iopub.execute_input": "2020-11-04T11:40:44.751970Z",
     "iopub.status.busy": "2020-11-04T11:40:44.750963Z",
     "iopub.status.idle": "2020-11-04T11:42:10.195164Z",
     "shell.execute_reply": "2020-11-04T11:42:10.194500Z"
    },
    "papermill": {
     "duration": 85.49087,
     "end_time": "2020-11-04T11:42:10.195299",
     "exception": false,
     "start_time": "2020-11-04T11:40:44.704429",
     "status": "completed"
    },
    "tags": []
   },
   "outputs": [
    {
     "data": {
      "application/vnd.jupyter.widget-view+json": {
       "model_id": "29188b2116364653b7e0a2c604247cf9",
       "version_major": 2,
       "version_minor": 0
      },
      "text/plain": [
       "HBox(children=(FloatProgress(value=0.0, description='Downloading', max=908.0, style=ProgressStyle(description_…"
      ]
     },
     "metadata": {},
     "output_type": "display_data"
    },
    {
     "name": "stdout",
     "output_type": "stream",
     "text": [
      "\n"
     ]
    },
    {
     "data": {
      "application/vnd.jupyter.widget-view+json": {
       "model_id": "fa471da5db1f4f6aa640ce5f0413b5e7",
       "version_major": 2,
       "version_minor": 0
      },
      "text/plain": [
       "HBox(children=(FloatProgress(value=0.0, description='Downloading', max=1629486723.0, style=ProgressStyle(descr…"
      ]
     },
     "metadata": {},
     "output_type": "display_data"
    },
    {
     "name": "stdout",
     "output_type": "stream",
     "text": [
      "\n"
     ]
    },
    {
     "name": "stderr",
     "output_type": "stream",
     "text": [
      "Some weights of the model checkpoint at facebook/bart-large-mnli were not used when initializing BartModel: ['model.encoder.version', 'model.decoder.version']\n",
      "- This IS expected if you are initializing BartModel from the checkpoint of a model trained on another task or with another architecture (e.g. initializing a BertForSequenceClassification model from a BertForPretraining model).\n",
      "- This IS NOT expected if you are initializing BartModel from the checkpoint of a model that you expect to be exactly identical (initializing a BertForSequenceClassification model from a BertForSequenceClassification model).\n"
     ]
    },
    {
     "data": {
      "application/vnd.jupyter.widget-view+json": {
       "model_id": "d2ca230ee8da4a6db3ef6e753e19609c",
       "version_major": 2,
       "version_minor": 0
      },
      "text/plain": [
       "HBox(children=(FloatProgress(value=0.0, description='Downloading', max=898823.0, style=ProgressStyle(descripti…"
      ]
     },
     "metadata": {},
     "output_type": "display_data"
    },
    {
     "name": "stdout",
     "output_type": "stream",
     "text": [
      "\n"
     ]
    },
    {
     "data": {
      "application/vnd.jupyter.widget-view+json": {
       "model_id": "35fc62e95e1a422aa3fd447677ad7d51",
       "version_major": 2,
       "version_minor": 0
      },
      "text/plain": [
       "HBox(children=(FloatProgress(value=0.0, description='Downloading', max=456318.0, style=ProgressStyle(descripti…"
      ]
     },
     "metadata": {},
     "output_type": "display_data"
    },
    {
     "name": "stdout",
     "output_type": "stream",
     "text": [
      "\n"
     ]
    },
    {
     "name": "stderr",
     "output_type": "stream",
     "text": [
      "Some weights of the model checkpoint at facebook/bart-large-mnli were not used when initializing BartForSequenceClassification: ['model.encoder.version', 'model.decoder.version']\n",
      "- This IS expected if you are initializing BartForSequenceClassification from the checkpoint of a model trained on another task or with another architecture (e.g. initializing a BertForSequenceClassification model from a BertForPretraining model).\n",
      "- This IS NOT expected if you are initializing BartForSequenceClassification from the checkpoint of a model that you expect to be exactly identical (initializing a BertForSequenceClassification model from a BertForSequenceClassification model).\n"
     ]
    }
   ],
   "source": [
    "classifier = pipeline(\"zero-shot-classification\",device = 0)"
   ]
  },
  {
   "cell_type": "markdown",
   "metadata": {
    "papermill": {
     "duration": 0.025359,
     "end_time": "2020-11-04T11:42:10.247409",
     "exception": false,
     "start_time": "2020-11-04T11:42:10.222050",
     "status": "completed"
    },
    "tags": []
   },
   "source": [
    "# <center>Making Predictions</center>\n",
    "\n",
    "For the purpose of this notebook, I am only making predictions on the first 100 data samples"
   ]
  },
  {
   "cell_type": "code",
   "execution_count": 9,
   "metadata": {
    "execution": {
     "iopub.execute_input": "2020-11-04T11:42:10.313154Z",
     "iopub.status.busy": "2020-11-04T11:42:10.311727Z",
     "iopub.status.idle": "2020-11-04T11:49:40.885362Z",
     "shell.execute_reply": "2020-11-04T11:49:40.885948Z"
    },
    "papermill": {
     "duration": 450.613191,
     "end_time": "2020-11-04T11:49:40.886171",
     "exception": false,
     "start_time": "2020-11-04T11:42:10.272980",
     "status": "completed"
    },
    "tags": []
   },
   "outputs": [
    {
     "name": "stderr",
     "output_type": "stream",
     "text": [
      "100%|██████████| 100/100 [07:30<00:00,  4.51s/it]\n"
     ]
    }
   ],
   "source": [
    "candidate_labels = list(category_map.values()) #candidate labels are basically the classes that the classifier will predict\n",
    "predictedCategories = []\n",
    "trueCategories = []\n",
    "for i in tqdm(range(100)):\n",
    "    text = df.iloc[i,]['abstract']\n",
    "    cat = df.iloc[i,]['categories']\n",
    "    cat = cat.split()\n",
    "    res = classifier(text, candidate_labels, multi_class=True)#setting multi-class as True\n",
    "    labels = res['labels'] \n",
    "    scores = res['scores'] #extracting the scores associated with the labels\n",
    "    res_dict = {label : score for label,score in zip(labels, scores)}\n",
    "    sorted_dict = dict(sorted(res_dict.items(), key=lambda x:x[1],reverse = True)) #sorting the dictionary of labels in descending order based on their score\n",
    "    categories  = []\n",
    "    for i, (k,v) in enumerate(sorted_dict.items()):\n",
    "        if(i > 2): #storing only the best 3 predictions\n",
    "            break\n",
    "        else:\n",
    "            categories.append(k)\n",
    "    predictedCategories.append(categories)\n",
    "    trueCats = [category_map[x] for x in cat]\n",
    "    trueCategories.append(trueCats)"
   ]
  },
  {
   "cell_type": "code",
   "execution_count": 10,
   "metadata": {
    "execution": {
     "iopub.execute_input": "2020-11-04T11:49:41.034181Z",
     "iopub.status.busy": "2020-11-04T11:49:41.033146Z",
     "iopub.status.idle": "2020-11-04T11:49:41.038978Z",
     "shell.execute_reply": "2020-11-04T11:49:41.039463Z"
    },
    "papermill": {
     "duration": 0.077468,
     "end_time": "2020-11-04T11:49:41.039600",
     "exception": false,
     "start_time": "2020-11-04T11:49:40.962132",
     "status": "completed"
    },
    "tags": []
   },
   "outputs": [
    {
     "name": "stdout",
     "output_type": "stream",
     "text": [
      "True Categories ['Strongly Correlated Electrons', 'Materials Science']\n",
      "Predicted Categories ['Complex Variables', 'High Energy Physics - Experiment', 'Applied Physics']\n",
      "##################################################\n",
      "True Categories ['Dynamical Systems', 'Complex Variables']\n",
      "Predicted Categories ['Dynamical Systems', 'Applications', 'Sound']\n",
      "##################################################\n",
      "True Categories ['Statistical Mechanics']\n",
      "Predicted Categories ['Applications', 'Complex Variables', 'Systems and Control']\n",
      "##################################################\n"
     ]
    }
   ],
   "source": [
    "for y_true, y_pred in zip(trueCategories[:3], predictedCategories[:3]):\n",
    "    print(f'True Categories {y_true}')\n",
    "    print(f'Predicted Categories {y_pred}')\n",
    "    print('#'*50)"
   ]
  },
  {
   "cell_type": "markdown",
   "metadata": {
    "papermill": {
     "duration": 0.065916,
     "end_time": "2020-11-04T11:49:41.171355",
     "exception": false,
     "start_time": "2020-11-04T11:49:41.105439",
     "status": "completed"
    },
    "tags": []
   },
   "source": [
    "# <center>Manual One-Hot Encoding</center>"
   ]
  },
  {
   "cell_type": "code",
   "execution_count": 11,
   "metadata": {
    "_kg_hide-input": true,
    "execution": {
     "iopub.execute_input": "2020-11-04T11:49:41.307671Z",
     "iopub.status.busy": "2020-11-04T11:49:41.306660Z",
     "iopub.status.idle": "2020-11-04T11:49:41.309302Z",
     "shell.execute_reply": "2020-11-04T11:49:41.309857Z"
    },
    "papermill": {
     "duration": 0.072644,
     "end_time": "2020-11-04T11:49:41.309986",
     "exception": false,
     "start_time": "2020-11-04T11:49:41.237342",
     "status": "completed"
    },
    "tags": []
   },
   "outputs": [],
   "source": [
    "category_idx = {cat : i for i,cat in enumerate(category_map.values())} "
   ]
  },
  {
   "cell_type": "code",
   "execution_count": 12,
   "metadata": {
    "execution": {
     "iopub.execute_input": "2020-11-04T11:49:41.448472Z",
     "iopub.status.busy": "2020-11-04T11:49:41.447511Z",
     "iopub.status.idle": "2020-11-04T11:49:41.450770Z",
     "shell.execute_reply": "2020-11-04T11:49:41.450223Z"
    },
    "papermill": {
     "duration": 0.076522,
     "end_time": "2020-11-04T11:49:41.450875",
     "exception": false,
     "start_time": "2020-11-04T11:49:41.374353",
     "status": "completed"
    },
    "tags": []
   },
   "outputs": [],
   "source": [
    "y_trueEncoded = []\n",
    "y_predEncoded = []\n",
    "for y_true, y_pred in zip(trueCategories, predictedCategories):\n",
    "    encTrue = [0] * len(category_map)\n",
    "    for cat in y_true:\n",
    "        idx = category_idx[cat]\n",
    "        encTrue[idx] = 1\n",
    "    y_trueEncoded.append(encTrue)\n",
    "    encPred = [0] * len(category_map)\n",
    "    for cat in y_pred:\n",
    "        idx = category_idx[cat]\n",
    "        encPred[idx] = 1\n",
    "    y_predEncoded.append(encPred)"
   ]
  },
  {
   "cell_type": "markdown",
   "metadata": {
    "papermill": {
     "duration": 0.068343,
     "end_time": "2020-11-04T11:49:41.586871",
     "exception": false,
     "start_time": "2020-11-04T11:49:41.518528",
     "status": "completed"
    },
    "tags": []
   },
   "source": [
    "# <center>Evaluation</center>"
   ]
  },
  {
   "attachments": {
    "image.png": {
     "image/png": "[encoded data removed]"
    }
   },
   "cell_type": "markdown",
   "metadata": {
    "papermill": {
     "duration": 0.067602,
     "end_time": "2020-11-04T11:49:41.720746",
     "exception": false,
     "start_time": "2020-11-04T11:49:41.653144",
     "status": "completed"
    },
    "tags": []
   },
   "source": [
    "![image.png](attachment:image.png)"
   ]
  },
  {
   "cell_type": "markdown",
   "metadata": {
    "papermill": {
     "duration": 0.078964,
     "end_time": "2020-11-04T11:49:41.866843",
     "exception": false,
     "start_time": "2020-11-04T11:49:41.787879",
     "status": "completed"
    },
    "tags": []
   },
   "source": [
    "## Hamming Loss\n",
    "\n",
    "### The Hamming loss is the fraction of labels that are incorrectly predicted."
   ]
  },
  {
   "cell_type": "code",
   "execution_count": 13,
   "metadata": {
    "_kg_hide-input": true,
    "execution": {
     "iopub.execute_input": "2020-11-04T11:49:42.023289Z",
     "iopub.status.busy": "2020-11-04T11:49:42.022398Z",
     "iopub.status.idle": "2020-11-04T11:49:42.045891Z",
     "shell.execute_reply": "2020-11-04T11:49:42.045306Z"
    },
    "papermill": {
     "duration": 0.105755,
     "end_time": "2020-11-04T11:49:42.046002",
     "exception": false,
     "start_time": "2020-11-04T11:49:41.940247",
     "status": "completed"
    },
    "tags": []
   },
   "outputs": [
    {
     "name": "stdout",
     "output_type": "stream",
     "text": [
      "The hamming loss is 0.0288\n"
     ]
    }
   ],
   "source": [
    "from sklearn.metrics import hamming_loss\n",
    "print(f'The hamming loss is {hamming_loss(y_trueEncoded,y_predEncoded):.4f}')"
   ]
  }
 ],
 "metadata": {
  "kernelspec": {
   "display_name": "Python 3",
   "language": "python",
   "name": "python3"
  },
  "language_info": {
   "codemirror_mode": {
    "name": "ipython",
    "version": 3
   },
   "file_extension": ".py",
   "mimetype": "text/x-python",
   "name": "python",
   "nbconvert_exporter": "python",
   "pygments_lexer": "ipython3",
   "version": "3.7.6"
  },
  "papermill": {
   "duration": 611.921714,
   "end_time": "2020-11-04T11:49:43.485918",
   "environment_variables": {},
   "exception": null,
   "input_path": "__notebook__.ipynb",
   "output_path": "__notebook__.ipynb",
   "parameters": {},
   "start_time": "2020-11-04T11:39:31.564204",
   "version": "2.1.0"
  },
  "widgets": {
   "application/vnd.jupyter.widget-state+json": {
    "state": {
     "09b48e8aa6b845608eeeeedfc96ebff1": {
      "model_module": "@jupyter-widgets/controls",
      "model_module_version": "1.5.0",
      "model_name": "DescriptionStyleModel",
      "state": {
       "_model_module": "@jupyter-widgets/controls",
       "_model_module_version": "1.5.0",
       "_model_name": "DescriptionStyleModel",
       "_view_count": null,
       "_view_module": "@jupyter-widgets/base",
       "_view_module_version": "1.2.0",
       "_view_name": "StyleView",
       "description_width": ""
      }
     },
     "0a67d17bb9d44b30b52507df650747e2": {
      "model_module": "@jupyter-widgets/base",
      "model_module_version": "1.2.0",
      "model_name": "LayoutModel",
      "state": {
       "_model_module": "@jupyter-widgets/base",
       "_model_module_version": "1.2.0",
       "_model_name": "LayoutModel",
       "_view_count": null,
       "_view_module": "@jupyter-widgets/base",
       "_view_module_version": "1.2.0",
       "_view_name": "LayoutView",
       "align_content": null,
       "align_items": null,
       "align_self": null,
       "border": null,
       "bottom": null,
       "display": null,
       "flex": null,
       "flex_flow": null,
       "grid_area": null,
       "grid_auto_columns": null,
       "grid_auto_flow": null,
       "grid_auto_rows": null,
       "grid_column": null,
       "grid_gap": null,
       "grid_row": null,
       "grid_template_areas": null,
       "grid_template_columns": null,
       "grid_template_rows": null,
       "height": null,
       "justify_content": null,
       "justify_items": null,
       "left": null,
       "margin": null,
       "max_height": null,
       "max_width": null,
       "min_height": null,
       "min_width": null,
       "object_fit": null,
       "object_position": null,
       "order": null,
       "overflow": null,
       "overflow_x": null,
       "overflow_y": null,
       "padding": null,
       "right": null,
       "top": null,
       "visibility": null,
       "width": null
      }
     },
     "29188b2116364653b7e0a2c604247cf9": {
      "model_module": "@jupyter-widgets/controls",
      "model_module_version": "1.5.0",
      "model_name": "HBoxModel",
      "state": {
       "_dom_classes": [],
       "_model_module": "@jupyter-widgets/controls",
       "_model_module_version": "1.5.0",
       "_model_name": "HBoxModel",
       "_view_count": null,
       "_view_module": "@jupyter-widgets/controls",
       "_view_module_version": "1.5.0",
       "_view_name": "HBoxView",
       "box_style": "",
       "children": [
        "IPY_MODEL_ec32e02ee4264936b37ec352de632a45",
        "IPY_MODEL_fd7d3049c812481aad83e9e5a282a22b"
       ],
       "layout": "IPY_MODEL_fa7722ea7cb7419cb03a4da139b55990"
      }
     },
     "2ac155147e9d4e87b9aaa51f2f4f3f5f": {
      "model_module": "@jupyter-widgets/controls",
      "model_module_version": "1.5.0",
      "model_name": "FloatProgressModel",
      "state": {
       "_dom_classes": [],
       "_model_module": "@jupyter-widgets/controls",
       "_model_module_version": "1.5.0",
       "_model_name": "FloatProgressModel",
       "_view_count": null,
       "_view_module": "@jupyter-widgets/controls",
       "_view_module_version": "1.5.0",
       "_view_name": "ProgressView",
       "bar_style": "success",
       "description": "Downloading: 100%",
       "description_tooltip": null,
       "layout": "IPY_MODEL_d0c801534069445bb295c6e015e96e72",
       "max": 898823.0,
       "min": 0.0,
       "orientation": "horizontal",
       "style": "IPY_MODEL_70b700a827d144d7a278b3630694073a",
       "value": 898823.0
      }
     },
     "2e9a6b1f7a734abca62913246c44712e": {
      "model_module": "@jupyter-widgets/base",
      "model_module_version": "1.2.0",
      "model_name": "LayoutModel",
      "state": {
       "_model_module": "@jupyter-widgets/base",
       "_model_module_version": "1.2.0",
       "_model_name": "LayoutModel",
       "_view_count": null,
       "_view_module": "@jupyter-widgets/base",
       "_view_module_version": "1.2.0",
       "_view_name": "LayoutView",
       "align_content": null,
       "align_items": null,
       "align_self": null,
       "border": null,
       "bottom": null,
       "display": null,
       "flex": null,
       "flex_flow": null,
       "grid_area": null,
       "grid_auto_columns": null,
       "grid_auto_flow": null,
       "grid_auto_rows": null,
       "grid_column": null,
       "grid_gap": null,
       "grid_row": null,
       "grid_template_areas": null,
       "grid_template_columns": null,
       "grid_template_rows": null,
       "height": null,
       "justify_content": null,
       "justify_items": null,
       "left": null,
       "margin": null,
       "max_height": null,
       "max_width": null,
       "min_height": null,
       "min_width": null,
       "object_fit": null,
       "object_position": null,
       "order": null,
       "overflow": null,
       "overflow_x": null,
       "overflow_y": null,
       "padding": null,
       "right": null,
       "top": null,
       "visibility": null,
       "width": null
      }
     },
     "33255f1da51e445da87b733d8b87874a": {
      "model_module": "@jupyter-widgets/controls",
      "model_module_version": "1.5.0",
      "model_name": "DescriptionStyleModel",
      "state": {
       "_model_module": "@jupyter-widgets/controls",
       "_model_module_version": "1.5.0",
       "_model_name": "DescriptionStyleModel",
       "_view_count": null,
       "_view_module": "@jupyter-widgets/base",
       "_view_module_version": "1.2.0",
       "_view_name": "StyleView",
       "description_width": ""
      }
     },
     "35fc62e95e1a422aa3fd447677ad7d51": {
      "model_module": "@jupyter-widgets/controls",
      "model_module_version": "1.5.0",
      "model_name": "HBoxModel",
      "state": {
       "_dom_classes": [],
       "_model_module": "@jupyter-widgets/controls",
       "_model_module_version": "1.5.0",
       "_model_name": "HBoxModel",
       "_view_count": null,
       "_view_module": "@jupyter-widgets/controls",
       "_view_module_version": "1.5.0",
       "_view_name": "HBoxView",
       "box_style": "",
       "children": [
        "IPY_MODEL_ebf8b4755eb7474c86b1b8d8b6d0a60c",
        "IPY_MODEL_ef72076fd50f4b8aa09a61e14dc6a481"
       ],
       "layout": "IPY_MODEL_0a67d17bb9d44b30b52507df650747e2"
      }
     },
     "43a29c9c9300402b9843fc833147de9e": {
      "model_module": "@jupyter-widgets/base",
      "model_module_version": "1.2.0",
      "model_name": "LayoutModel",
      "state": {
       "_model_module": "@jupyter-widgets/base",
       "_model_module_version": "1.2.0",
       "_model_name": "LayoutModel",
       "_view_count": null,
       "_view_module": "@jupyter-widgets/base",
       "_view_module_version": "1.2.0",
       "_view_name": "LayoutView",
       "align_content": null,
       "align_items": null,
       "align_self": null,
       "border": null,
       "bottom": null,
       "display": null,
       "flex": null,
       "flex_flow": null,
       "grid_area": null,
       "grid_auto_columns": null,
       "grid_auto_flow": null,
       "grid_auto_rows": null,
       "grid_column": null,
       "grid_gap": null,
       "grid_row": null,
       "grid_template_areas": null,
       "grid_template_columns": null,
       "grid_template_rows": null,
       "height": null,
       "justify_content": null,
       "justify_items": null,
       "left": null,
       "margin": null,
       "max_height": null,
       "max_width": null,
       "min_height": null,
       "min_width": null,
       "object_fit": null,
       "object_position": null,
       "order": null,
       "overflow": null,
       "overflow_x": null,
       "overflow_y": null,
       "padding": null,
       "right": null,
       "top": null,
       "visibility": null,
       "width": null
      }
     },
     "4d24e667db76495c94de382af4adcbf1": {
      "model_module": "@jupyter-widgets/base",
      "model_module_version": "1.2.0",
      "model_name": "LayoutModel",
      "state": {
       "_model_module": "@jupyter-widgets/base",
       "_model_module_version": "1.2.0",
       "_model_name": "LayoutModel",
       "_view_count": null,
       "_view_module": "@jupyter-widgets/base",
       "_view_module_version": "1.2.0",
       "_view_name": "LayoutView",
       "align_content": null,
       "align_items": null,
       "align_self": null,
       "border": null,
       "bottom": null,
       "display": null,
       "flex": null,
       "flex_flow": null,
       "grid_area": null,
       "grid_auto_columns": null,
       "grid_auto_flow": null,
       "grid_auto_rows": null,
       "grid_column": null,
       "grid_gap": null,
       "grid_row": null,
       "grid_template_areas": null,
       "grid_template_columns": null,
       "grid_template_rows": null,
       "height": null,
       "justify_content": null,
       "justify_items": null,
       "left": null,
       "margin": null,
       "max_height": null,
       "max_width": null,
       "min_height": null,
       "min_width": null,
       "object_fit": null,
       "object_position": null,
       "order": null,
       "overflow": null,
       "overflow_x": null,
       "overflow_y": null,
       "padding": null,
       "right": null,
       "top": null,
       "visibility": null,
       "width": null
      }
     },
     "4e6401d9b91d45e69cfcfbda41e8f926": {
      "model_module": "@jupyter-widgets/controls",
      "model_module_version": "1.5.0",
      "model_name": "DescriptionStyleModel",
      "state": {
       "_model_module": "@jupyter-widgets/controls",
       "_model_module_version": "1.5.0",
       "_model_name": "DescriptionStyleModel",
       "_view_count": null,
       "_view_module": "@jupyter-widgets/base",
       "_view_module_version": "1.2.0",
       "_view_name": "StyleView",
       "description_width": ""
      }
     },
     "507f6b584bb8428699728c8ae8cdae7d": {
      "model_module": "@jupyter-widgets/controls",
      "model_module_version": "1.5.0",
      "model_name": "HTMLModel",
      "state": {
       "_dom_classes": [],
       "_model_module": "@jupyter-widgets/controls",
       "_model_module_version": "1.5.0",
       "_model_name": "HTMLModel",
       "_view_count": null,
       "_view_module": "@jupyter-widgets/controls",
       "_view_module_version": "1.5.0",
       "_view_name": "HTMLView",
       "description": "",
       "description_tooltip": null,
       "layout": "IPY_MODEL_4d24e667db76495c94de382af4adcbf1",
       "placeholder": "​",
       "style": "IPY_MODEL_09b48e8aa6b845608eeeeedfc96ebff1",
       "value": " 899k/899k [00:00&lt;00:00, 3.06MB/s]"
      }
     },
     "511f3bc513a842a5a827052590c28c0b": {
      "model_module": "@jupyter-widgets/controls",
      "model_module_version": "1.5.0",
      "model_name": "ProgressStyleModel",
      "state": {
       "_model_module": "@jupyter-widgets/controls",
       "_model_module_version": "1.5.0",
       "_model_name": "ProgressStyleModel",
       "_view_count": null,
       "_view_module": "@jupyter-widgets/base",
       "_view_module_version": "1.2.0",
       "_view_name": "StyleView",
       "bar_color": null,
       "description_width": "initial"
      }
     },
     "70b700a827d144d7a278b3630694073a": {
      "model_module": "@jupyter-widgets/controls",
      "model_module_version": "1.5.0",
      "model_name": "ProgressStyleModel",
      "state": {
       "_model_module": "@jupyter-widgets/controls",
       "_model_module_version": "1.5.0",
       "_model_name": "ProgressStyleModel",
       "_view_count": null,
       "_view_module": "@jupyter-widgets/base",
       "_view_module_version": "1.2.0",
       "_view_name": "StyleView",
       "bar_color": null,
       "description_width": "initial"
      }
     },
     "819e8eee77c64a85b4315bf62fd1abe5": {
      "model_module": "@jupyter-widgets/base",
      "model_module_version": "1.2.0",
      "model_name": "LayoutModel",
      "state": {
       "_model_module": "@jupyter-widgets/base",
       "_model_module_version": "1.2.0",
       "_model_name": "LayoutModel",
       "_view_count": null,
       "_view_module": "@jupyter-widgets/base",
       "_view_module_version": "1.2.0",
       "_view_name": "LayoutView",
       "align_content": null,
       "align_items": null,
       "align_self": null,
       "border": null,
       "bottom": null,
       "display": null,
       "flex": null,
       "flex_flow": null,
       "grid_area": null,
       "grid_auto_columns": null,
       "grid_auto_flow": null,
       "grid_auto_rows": null,
       "grid_column": null,
       "grid_gap": null,
       "grid_row": null,
       "grid_template_areas": null,
       "grid_template_columns": null,
       "grid_template_rows": null,
       "height": null,
       "justify_content": null,
       "justify_items": null,
       "left": null,
       "margin": null,
       "max_height": null,
       "max_width": null,
       "min_height": null,
       "min_width": null,
       "object_fit": null,
       "object_position": null,
       "order": null,
       "overflow": null,
       "overflow_x": null,
       "overflow_y": null,
       "padding": null,
       "right": null,
       "top": null,
       "visibility": null,
       "width": null
      }
     },
     "c2cc14a1671b4d82922408a1d348483f": {
      "model_module": "@jupyter-widgets/controls",
      "model_module_version": "1.5.0",
      "model_name": "ProgressStyleModel",
      "state": {
       "_model_module": "@jupyter-widgets/controls",
       "_model_module_version": "1.5.0",
       "_model_name": "ProgressStyleModel",
       "_view_count": null,
       "_view_module": "@jupyter-widgets/base",
       "_view_module_version": "1.2.0",
       "_view_name": "StyleView",
       "bar_color": null,
       "description_width": "initial"
      }
     },
     "c461b09b119a462ea75cadfccb83a680": {
      "model_module": "@jupyter-widgets/controls",
      "model_module_version": "1.5.0",
      "model_name": "ProgressStyleModel",
      "state": {
       "_model_module": "@jupyter-widgets/controls",
       "_model_module_version": "1.5.0",
       "_model_name": "ProgressStyleModel",
       "_view_count": null,
       "_view_module": "@jupyter-widgets/base",
       "_view_module_version": "1.2.0",
       "_view_name": "StyleView",
       "bar_color": null,
       "description_width": "initial"
      }
     },
     "c559bd59fec24751955662d8c4f17146": {
      "model_module": "@jupyter-widgets/base",
      "model_module_version": "1.2.0",
      "model_name": "LayoutModel",
      "state": {
       "_model_module": "@jupyter-widgets/base",
       "_model_module_version": "1.2.0",
       "_model_name": "LayoutModel",
       "_view_count": null,
       "_view_module": "@jupyter-widgets/base",
       "_view_module_version": "1.2.0",
       "_view_name": "LayoutView",
       "align_content": null,
       "align_items": null,
       "align_self": null,
       "border": null,
       "bottom": null,
       "display": null,
       "flex": null,
       "flex_flow": null,
       "grid_area": null,
       "grid_auto_columns": null,
       "grid_auto_flow": null,
       "grid_auto_rows": null,
       "grid_column": null,
       "grid_gap": null,
       "grid_row": null,
       "grid_template_areas": null,
       "grid_template_columns": null,
       "grid_template_rows": null,
       "height": null,
       "justify_content": null,
       "justify_items": null,
       "left": null,
       "margin": null,
       "max_height": null,
       "max_width": null,
       "min_height": null,
       "min_width": null,
       "object_fit": null,
       "object_position": null,
       "order": null,
       "overflow": null,
       "overflow_x": null,
       "overflow_y": null,
       "padding": null,
       "right": null,
       "top": null,
       "visibility": null,
       "width": null
      }
     },
     "c6794bcacbf44232a55fd2b20f1ece3c": {
      "model_module": "@jupyter-widgets/base",
      "model_module_version": "1.2.0",
      "model_name": "LayoutModel",
      "state": {
       "_model_module": "@jupyter-widgets/base",
       "_model_module_version": "1.2.0",
       "_model_name": "LayoutModel",
       "_view_count": null,
       "_view_module": "@jupyter-widgets/base",
       "_view_module_version": "1.2.0",
       "_view_name": "LayoutView",
       "align_content": null,
       "align_items": null,
       "align_self": null,
       "border": null,
       "bottom": null,
       "display": null,
       "flex": null,
       "flex_flow": null,
       "grid_area": null,
       "grid_auto_columns": null,
       "grid_auto_flow": null,
       "grid_auto_rows": null,
       "grid_column": null,
       "grid_gap": null,
       "grid_row": null,
       "grid_template_areas": null,
       "grid_template_columns": null,
       "grid_template_rows": null,
       "height": null,
       "justify_content": null,
       "justify_items": null,
       "left": null,
       "margin": null,
       "max_height": null,
       "max_width": null,
       "min_height": null,
       "min_width": null,
       "object_fit": null,
       "object_position": null,
       "order": null,
       "overflow": null,
       "overflow_x": null,
       "overflow_y": null,
       "padding": null,
       "right": null,
       "top": null,
       "visibility": null,
       "width": null
      }
     },
     "cdd3b8c2fa714abf8deaced858a4ea98": {
      "model_module": "@jupyter-widgets/controls",
      "model_module_version": "1.5.0",
      "model_name": "FloatProgressModel",
      "state": {
       "_dom_classes": [],
       "_model_module": "@jupyter-widgets/controls",
       "_model_module_version": "1.5.0",
       "_model_name": "FloatProgressModel",
       "_view_count": null,
       "_view_module": "@jupyter-widgets/controls",
       "_view_module_version": "1.5.0",
       "_view_name": "ProgressView",
       "bar_style": "success",
       "description": "Downloading: 100%",
       "description_tooltip": null,
       "layout": "IPY_MODEL_819e8eee77c64a85b4315bf62fd1abe5",
       "max": 1629486723.0,
       "min": 0.0,
       "orientation": "horizontal",
       "style": "IPY_MODEL_511f3bc513a842a5a827052590c28c0b",
       "value": 1629486723.0
      }
     },
     "d0c801534069445bb295c6e015e96e72": {
      "model_module": "@jupyter-widgets/base",
      "model_module_version": "1.2.0",
      "model_name": "LayoutModel",
      "state": {
       "_model_module": "@jupyter-widgets/base",
       "_model_module_version": "1.2.0",
       "_model_name": "LayoutModel",
       "_view_count": null,
       "_view_module": "@jupyter-widgets/base",
       "_view_module_version": "1.2.0",
       "_view_name": "LayoutView",
       "align_content": null,
       "align_items": null,
       "align_self": null,
       "border": null,
       "bottom": null,
       "display": null,
       "flex": null,
       "flex_flow": null,
       "grid_area": null,
       "grid_auto_columns": null,
       "grid_auto_flow": null,
       "grid_auto_rows": null,
       "grid_column": null,
       "grid_gap": null,
       "grid_row": null,
       "grid_template_areas": null,
       "grid_template_columns": null,
       "grid_template_rows": null,
       "height": null,
       "justify_content": null,
       "justify_items": null,
       "left": null,
       "margin": null,
       "max_height": null,
       "max_width": null,
       "min_height": null,
       "min_width": null,
       "object_fit": null,
       "object_position": null,
       "order": null,
       "overflow": null,
       "overflow_x": null,
       "overflow_y": null,
       "padding": null,
       "right": null,
       "top": null,
       "visibility": null,
       "width": null
      }
     },
     "d2ca230ee8da4a6db3ef6e753e19609c": {
      "model_module": "@jupyter-widgets/controls",
      "model_module_version": "1.5.0",
      "model_name": "HBoxModel",
      "state": {
       "_dom_classes": [],
       "_model_module": "@jupyter-widgets/controls",
       "_model_module_version": "1.5.0",
       "_model_name": "HBoxModel",
       "_view_count": null,
       "_view_module": "@jupyter-widgets/controls",
       "_view_module_version": "1.5.0",
       "_view_name": "HBoxView",
       "box_style": "",
       "children": [
        "IPY_MODEL_2ac155147e9d4e87b9aaa51f2f4f3f5f",
        "IPY_MODEL_507f6b584bb8428699728c8ae8cdae7d"
       ],
       "layout": "IPY_MODEL_f5e3d885b35f4e9283ca673ceeb3edac"
      }
     },
     "e95cd5c69f9e46c28f8715eebf4f80ea": {
      "model_module": "@jupyter-widgets/base",
      "model_module_version": "1.2.0",
      "model_name": "LayoutModel",
      "state": {
       "_model_module": "@jupyter-widgets/base",
       "_model_module_version": "1.2.0",
       "_model_name": "LayoutModel",
       "_view_count": null,
       "_view_module": "@jupyter-widgets/base",
       "_view_module_version": "1.2.0",
       "_view_name": "LayoutView",
       "align_content": null,
       "align_items": null,
       "align_self": null,
       "border": null,
       "bottom": null,
       "display": null,
       "flex": null,
       "flex_flow": null,
       "grid_area": null,
       "grid_auto_columns": null,
       "grid_auto_flow": null,
       "grid_auto_rows": null,
       "grid_column": null,
       "grid_gap": null,
       "grid_row": null,
       "grid_template_areas": null,
       "grid_template_columns": null,
       "grid_template_rows": null,
       "height": null,
       "justify_content": null,
       "justify_items": null,
       "left": null,
       "margin": null,
       "max_height": null,
       "max_width": null,
       "min_height": null,
       "min_width": null,
       "object_fit": null,
       "object_position": null,
       "order": null,
       "overflow": null,
       "overflow_x": null,
       "overflow_y": null,
       "padding": null,
       "right": null,
       "top": null,
       "visibility": null,
       "width": null
      }
     },
     "ebf8b4755eb7474c86b1b8d8b6d0a60c": {
      "model_module": "@jupyter-widgets/controls",
      "model_module_version": "1.5.0",
      "model_name": "FloatProgressModel",
      "state": {
       "_dom_classes": [],
       "_model_module": "@jupyter-widgets/controls",
       "_model_module_version": "1.5.0",
       "_model_name": "FloatProgressModel",
       "_view_count": null,
       "_view_module": "@jupyter-widgets/controls",
       "_view_module_version": "1.5.0",
       "_view_name": "ProgressView",
       "bar_style": "success",
       "description": "Downloading: 100%",
       "description_tooltip": null,
       "layout": "IPY_MODEL_2e9a6b1f7a734abca62913246c44712e",
       "max": 456318.0,
       "min": 0.0,
       "orientation": "horizontal",
       "style": "IPY_MODEL_c461b09b119a462ea75cadfccb83a680",
       "value": 456318.0
      }
     },
     "ec32e02ee4264936b37ec352de632a45": {
      "model_module": "@jupyter-widgets/controls",
      "model_module_version": "1.5.0",
      "model_name": "FloatProgressModel",
      "state": {
       "_dom_classes": [],
       "_model_module": "@jupyter-widgets/controls",
       "_model_module_version": "1.5.0",
       "_model_name": "FloatProgressModel",
       "_view_count": null,
       "_view_module": "@jupyter-widgets/controls",
       "_view_module_version": "1.5.0",
       "_view_name": "ProgressView",
       "bar_style": "success",
       "description": "Downloading: 100%",
       "description_tooltip": null,
       "layout": "IPY_MODEL_e95cd5c69f9e46c28f8715eebf4f80ea",
       "max": 908.0,
       "min": 0.0,
       "orientation": "horizontal",
       "style": "IPY_MODEL_c2cc14a1671b4d82922408a1d348483f",
       "value": 908.0
      }
     },
     "ef72076fd50f4b8aa09a61e14dc6a481": {
      "model_module": "@jupyter-widgets/controls",
      "model_module_version": "1.5.0",
      "model_name": "HTMLModel",
      "state": {
       "_dom_classes": [],
       "_model_module": "@jupyter-widgets/controls",
       "_model_module_version": "1.5.0",
       "_model_name": "HTMLModel",
       "_view_count": null,
       "_view_module": "@jupyter-widgets/controls",
       "_view_module_version": "1.5.0",
       "_view_name": "HTMLView",
       "description": "",
       "description_tooltip": null,
       "layout": "IPY_MODEL_fa57f03e847f4ded824443f5edd4e245",
       "placeholder": "​",
       "style": "IPY_MODEL_33255f1da51e445da87b733d8b87874a",
       "value": " 456k/456k [00:00&lt;00:00, 3.27MB/s]"
      }
     },
     "f5e3d885b35f4e9283ca673ceeb3edac": {
      "model_module": "@jupyter-widgets/base",
      "model_module_version": "1.2.0",
      "model_name": "LayoutModel",
      "state": {
       "_model_module": "@jupyter-widgets/base",
       "_model_module_version": "1.2.0",
       "_model_name": "LayoutModel",
       "_view_count": null,
       "_view_module": "@jupyter-widgets/base",
       "_view_module_version": "1.2.0",
       "_view_name": "LayoutView",
       "align_content": null,
       "align_items": null,
       "align_self": null,
       "border": null,
       "bottom": null,
       "display": null,
       "flex": null,
       "flex_flow": null,
       "grid_area": null,
       "grid_auto_columns": null,
       "grid_auto_flow": null,
       "grid_auto_rows": null,
       "grid_column": null,
       "grid_gap": null,
       "grid_row": null,
       "grid_template_areas": null,
       "grid_template_columns": null,
       "grid_template_rows": null,
       "height": null,
       "justify_content": null,
       "justify_items": null,
       "left": null,
       "margin": null,
       "max_height": null,
       "max_width": null,
       "min_height": null,
       "min_width": null,
       "object_fit": null,
       "object_position": null,
       "order": null,
       "overflow": null,
       "overflow_x": null,
       "overflow_y": null,
       "padding": null,
       "right": null,
       "top": null,
       "visibility": null,
       "width": null
      }
     },
     "fa471da5db1f4f6aa640ce5f0413b5e7": {
      "model_module": "@jupyter-widgets/controls",
      "model_module_version": "1.5.0",
      "model_name": "HBoxModel",
      "state": {
       "_dom_classes": [],
       "_model_module": "@jupyter-widgets/controls",
       "_model_module_version": "1.5.0",
       "_model_name": "HBoxModel",
       "_view_count": null,
       "_view_module": "@jupyter-widgets/controls",
       "_view_module_version": "1.5.0",
       "_view_name": "HBoxView",
       "box_style": "",
       "children": [
        "IPY_MODEL_cdd3b8c2fa714abf8deaced858a4ea98",
        "IPY_MODEL_fbe68287edb94c6a839f6499f2c54e30"
       ],
       "layout": "IPY_MODEL_c559bd59fec24751955662d8c4f17146"
      }
     },
     "fa57f03e847f4ded824443f5edd4e245": {
      "model_module": "@jupyter-widgets/base",
      "model_module_version": "1.2.0",
      "model_name": "LayoutModel",
      "state": {
       "_model_module": "@jupyter-widgets/base",
       "_model_module_version": "1.2.0",
       "_model_name": "LayoutModel",
       "_view_count": null,
       "_view_module": "@jupyter-widgets/base",
       "_view_module_version": "1.2.0",
       "_view_name": "LayoutView",
       "align_content": null,
       "align_items": null,
       "align_self": null,
       "border": null,
       "bottom": null,
       "display": null,
       "flex": null,
       "flex_flow": null,
       "grid_area": null,
       "grid_auto_columns": null,
       "grid_auto_flow": null,
       "grid_auto_rows": null,
       "grid_column": null,
       "grid_gap": null,
       "grid_row": null,
       "grid_template_areas": null,
       "grid_template_columns": null,
       "grid_template_rows": null,
       "height": null,
       "justify_content": null,
       "justify_items": null,
       "left": null,
       "margin": null,
       "max_height": null,
       "max_width": null,
       "min_height": null,
       "min_width": null,
       "object_fit": null,
       "object_position": null,
       "order": null,
       "overflow": null,
       "overflow_x": null,
       "overflow_y": null,
       "padding": null,
       "right": null,
       "top": null,
       "visibility": null,
       "width": null
      }
     },
     "fa7722ea7cb7419cb03a4da139b55990": {
      "model_module": "@jupyter-widgets/base",
      "model_module_version": "1.2.0",
      "model_name": "LayoutModel",
      "state": {
       "_model_module": "@jupyter-widgets/base",
       "_model_module_version": "1.2.0",
       "_model_name": "LayoutModel",
       "_view_count": null,
       "_view_module": "@jupyter-widgets/base",
       "_view_module_version": "1.2.0",
       "_view_name": "LayoutView",
       "align_content": null,
       "align_items": null,
       "align_self": null,
       "border": null,
       "bottom": null,
       "display": null,
       "flex": null,
       "flex_flow": null,
       "grid_area": null,
       "grid_auto_columns": null,
       "grid_auto_flow": null,
       "grid_auto_rows": null,
       "grid_column": null,
       "grid_gap": null,
       "grid_row": null,
       "grid_template_areas": null,
       "grid_template_columns": null,
       "grid_template_rows": null,
       "height": null,
       "justify_content": null,
       "justify_items": null,
       "left": null,
       "margin": null,
       "max_height": null,
       "max_width": null,
       "min_height": null,
       "min_width": null,
       "object_fit": null,
       "object_position": null,
       "order": null,
       "overflow": null,
       "overflow_x": null,
       "overflow_y": null,
       "padding": null,
       "right": null,
       "top": null,
       "visibility": null,
       "width": null
      }
     },
     "fbe68287edb94c6a839f6499f2c54e30": {
      "model_module": "@jupyter-widgets/controls",
      "model_module_version": "1.5.0",
      "model_name": "HTMLModel",
      "state": {
       "_dom_classes": [],
       "_model_module": "@jupyter-widgets/controls",
       "_model_module_version": "1.5.0",
       "_model_name": "HTMLModel",
       "_view_count": null,
       "_view_module": "@jupyter-widgets/controls",
       "_view_module_version": "1.5.0",
       "_view_name": "HTMLView",
       "description": "",
       "description_tooltip": null,
       "layout": "IPY_MODEL_43a29c9c9300402b9843fc833147de9e",
       "placeholder": "​",
       "style": "IPY_MODEL_4e6401d9b91d45e69cfcfbda41e8f926",
       "value": " 1.63G/1.63G [00:55&lt;00:00, 29.5MB/s]"
      }
     },
     "fd7d3049c812481aad83e9e5a282a22b": {
      "model_module": "@jupyter-widgets/controls",
      "model_module_version": "1.5.0",
      "model_name": "HTMLModel",
      "state": {
       "_dom_classes": [],
       "_model_module": "@jupyter-widgets/controls",
       "_model_module_version": "1.5.0",
       "_model_name": "HTMLModel",
       "_view_count": null,
       "_view_module": "@jupyter-widgets/controls",
       "_view_module_version": "1.5.0",
       "_view_name": "HTMLView",
       "description": "",
       "description_tooltip": null,
       "layout": "IPY_MODEL_c6794bcacbf44232a55fd2b20f1ece3c",
       "placeholder": "​",
       "style": "IPY_MODEL_fe19ccda135b4d47ad1fde26d29e15e7",
       "value": " 908/908 [00:57&lt;00:00, 15.9B/s]"
      }
     },
     "fe19ccda135b4d47ad1fde26d29e15e7": {
      "model_module": "@jupyter-widgets/controls",
      "model_module_version": "1.5.0",
      "model_name": "DescriptionStyleModel",
      "state": {
       "_model_module": "@jupyter-widgets/controls",
       "_model_module_version": "1.5.0",
       "_model_name": "DescriptionStyleModel",
       "_view_count": null,
       "_view_module": "@jupyter-widgets/base",
       "_view_module_version": "1.2.0",
       "_view_name": "StyleView",
       "description_width": ""
      }
     }
    },
    "version_major": 2,
    "version_minor": 0
   }
  }
 },
 "nbformat": 4,
 "nbformat_minor": 4
}
