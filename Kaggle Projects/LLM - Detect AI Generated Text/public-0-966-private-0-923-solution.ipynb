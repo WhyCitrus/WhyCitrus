{
 "cells": [
  {
   "cell_type": "markdown",
   "id": "eb13f660",
   "metadata": {
    "papermill": {
     "duration": 0.014227,
     "end_time": "2024-01-23T12:36:58.971203",
     "exception": false,
     "start_time": "2024-01-23T12:36:58.956976",
     "status": "completed"
    },
    "tags": []
   },
   "source": [
    "## Importing Libraries\n"
   ]
  },
  {
   "cell_type": "code",
   "execution_count": 1,
   "id": "11d01b5a",
   "metadata": {
    "execution": {
     "iopub.execute_input": "2024-01-23T12:36:58.999498Z",
     "iopub.status.busy": "2024-01-23T12:36:58.999166Z",
     "iopub.status.idle": "2024-01-23T12:37:09.696786Z",
     "shell.execute_reply": "2024-01-23T12:37:09.695687Z"
    },
    "papermill": {
     "duration": 10.714632,
     "end_time": "2024-01-23T12:37:09.699324",
     "exception": false,
     "start_time": "2024-01-23T12:36:58.984692",
     "status": "completed"
    },
    "tags": []
   },
   "outputs": [
    {
     "name": "stderr",
     "output_type": "stream",
     "text": [
      "/opt/conda/lib/python3.10/site-packages/scipy/__init__.py:146: UserWarning: A NumPy version >=1.16.5 and <1.23.0 is required for this version of SciPy (detected version 1.24.3\n",
      "  warnings.warn(f\"A NumPy version >={np_minversion} and <{np_maxversion}\"\n",
      "/opt/conda/lib/python3.10/site-packages/dask/dataframe/_pyarrow_compat.py:23: UserWarning: You are using pyarrow version 11.0.0 which is known to be insecure. See https://www.cve.org/CVERecord?id=CVE-2023-47248 for further details. Please upgrade to pyarrow>=14.0.1 or install pyarrow-hotfix to patch your current version.\n",
      "  warnings.warn(\n"
     ]
    }
   ],
   "source": [
    "import sys\n",
    "import gc\n",
    "\n",
    "import pandas as pd\n",
    "from sklearn.model_selection import StratifiedKFold\n",
    "import numpy as np\n",
    "from sklearn.metrics import roc_auc_score\n",
    "import numpy as np\n",
    "from lightgbm import LGBMClassifier\n",
    "from catboost import CatBoostClassifier\n",
    "from sklearn.feature_extraction.text import TfidfVectorizer\n",
    "\n",
    "from tokenizers import (\n",
    "    decoders,\n",
    "    models,\n",
    "    normalizers,\n",
    "    pre_tokenizers,\n",
    "    processors,\n",
    "    trainers,\n",
    "    Tokenizer,\n",
    ")\n",
    "\n",
    "from datasets import Dataset\n",
    "from tqdm.auto import tqdm\n",
    "from transformers import PreTrainedTokenizerFast\n",
    "\n",
    "from sklearn.linear_model import SGDClassifier\n",
    "from sklearn.naive_bayes import MultinomialNB\n",
    "from sklearn.ensemble import VotingClassifier"
   ]
  },
  {
   "cell_type": "markdown",
   "id": "b3826a2e",
   "metadata": {
    "papermill": {
     "duration": 0.013756,
     "end_time": "2024-01-23T12:37:09.729213",
     "exception": false,
     "start_time": "2024-01-23T12:37:09.715457",
     "status": "completed"
    },
    "tags": []
   },
   "source": [
    "## Distilroberta for prediction"
   ]
  },
  {
   "cell_type": "code",
   "execution_count": 2,
   "id": "aee4fe6a",
   "metadata": {
    "execution": {
     "iopub.execute_input": "2024-01-23T12:37:09.758516Z",
     "iopub.status.busy": "2024-01-23T12:37:09.757720Z",
     "iopub.status.idle": "2024-01-23T12:37:26.690662Z",
     "shell.execute_reply": "2024-01-23T12:37:26.689741Z"
    },
    "papermill": {
     "duration": 16.949994,
     "end_time": "2024-01-23T12:37:26.692893",
     "exception": false,
     "start_time": "2024-01-23T12:37:09.742899",
     "status": "completed"
    },
    "tags": []
   },
   "outputs": [
    {
     "name": "stderr",
     "output_type": "stream",
     "text": [
      "/opt/conda/lib/python3.10/site-packages/pyarrow/pandas_compat.py:373: FutureWarning: is_sparse is deprecated and will be removed in a future version. Check `isinstance(dtype, pd.SparseDtype)` instead.\n",
      "  if _pandas_api.is_sparse(col):\n"
     ]
    },
    {
     "data": {
      "application/vnd.jupyter.widget-view+json": {
       "model_id": "547f376d34984c6e870b6a5a748c4491",
       "version_major": 2,
       "version_minor": 0
      },
      "text/plain": [
       "  0%|          | 0/1 [00:00<?, ?ba/s]"
      ]
     },
     "metadata": {},
     "output_type": "display_data"
    },
    {
     "name": "stderr",
     "output_type": "stream",
     "text": [
      "You're using a RobertaTokenizerFast tokenizer. Please note that with a fast tokenizer, using the `__call__` method is faster than using a method to encode the text followed by a call to the `pad` method to get a padded encoding.\n"
     ]
    },
    {
     "data": {
      "text/html": [],
      "text/plain": [
       "<IPython.core.display.HTML object>"
      ]
     },
     "metadata": {},
     "output_type": "display_data"
    },
    {
     "data": {
      "text/html": [
       "<div>\n",
       "<style scoped>\n",
       "    .dataframe tbody tr th:only-of-type {\n",
       "        vertical-align: middle;\n",
       "    }\n",
       "\n",
       "    .dataframe tbody tr th {\n",
       "        vertical-align: top;\n",
       "    }\n",
       "\n",
       "    .dataframe thead th {\n",
       "        text-align: right;\n",
       "    }\n",
       "</style>\n",
       "<table border=\"1\" class=\"dataframe\">\n",
       "  <thead>\n",
       "    <tr style=\"text-align: right;\">\n",
       "      <th></th>\n",
       "      <th>id</th>\n",
       "      <th>generated</th>\n",
       "    </tr>\n",
       "  </thead>\n",
       "  <tbody>\n",
       "    <tr>\n",
       "      <th>0</th>\n",
       "      <td>0000aaaa</td>\n",
       "      <td>0.001225</td>\n",
       "    </tr>\n",
       "    <tr>\n",
       "      <th>1</th>\n",
       "      <td>1111bbbb</td>\n",
       "      <td>0.001146</td>\n",
       "    </tr>\n",
       "    <tr>\n",
       "      <th>2</th>\n",
       "      <td>2222cccc</td>\n",
       "      <td>0.001189</td>\n",
       "    </tr>\n",
       "  </tbody>\n",
       "</table>\n",
       "</div>"
      ],
      "text/plain": [
       "         id  generated\n",
       "0  0000aaaa   0.001225\n",
       "1  1111bbbb   0.001146\n",
       "2  2222cccc   0.001189"
      ]
     },
     "execution_count": 2,
     "metadata": {},
     "output_type": "execute_result"
    }
   ],
   "source": [
    "import transformers\n",
    "import datasets\n",
    "import pandas as pd\n",
    "import numpy as np\n",
    "from datasets import Dataset\n",
    "import os\n",
    "from transformers import AutoModelForSequenceClassification, TrainingArguments, Trainer\n",
    "import torch\n",
    "from transformers import AutoTokenizer\n",
    "model_checkpoint = \"/kaggle/input/detect-llm-models/distilroberta-finetuned_v5/checkpoint-49654\"\n",
    "tokenizer = AutoTokenizer.from_pretrained(model_checkpoint)\n",
    "def preprocess_function(examples):\n",
    "    return tokenizer(examples['text'], max_length = 512 , padding=True, truncation=True)\n",
    "def tf_lower_and_split_punct(text):\n",
    "    text = tf_text.normalize_utf8(text, 'NFKD')\n",
    "    text = tf.strings.lower(text)\n",
    "    text = tf.strings.regex_replace(text, '[^ a-z.?!,¿]', '')\n",
    "    text = tf.strings.regex_replace(text, '[.?!,¿]', r' \\0 ')\n",
    "    text = tf.strings.strip(text)\n",
    "    text = tf.strings.join(['[START]', text, '[END]'], separator=' ')\n",
    "    return text\n",
    "\n",
    "num_labels = 2\n",
    "model = AutoModelForSequenceClassification.from_pretrained(model_checkpoint, num_labels=num_labels)\n",
    "device = torch.device(\"cuda:0\" if torch.cuda.is_available() else \"cpu\")\n",
    "    # Move your model and data to the GPU\n",
    "model.to(device);\n",
    "trainer = Trainer(\n",
    "    model,\n",
    "    tokenizer=tokenizer,\n",
    ")\n",
    "test = pd.read_csv('/kaggle/input/llm-detect-ai-generated-text/test_essays.csv')\n",
    "test_ds = Dataset.from_pandas(test)\n",
    "test_ds_enc = test_ds.map(preprocess_function, batched=True)\n",
    "test_preds = trainer.predict(test_ds_enc)\n",
    "logits = test_preds.predictions\n",
    "probs = (np.exp(logits) / np.sum(np.exp(logits), axis=-1, keepdims=True))[:,0]\n",
    "sub = pd.DataFrame()\n",
    "sub['id'] = test['id']\n",
    "sub['generated'] = probs\n",
    "sub.to_csv('submission_old.csv', index=False)\n",
    "sub.head()"
   ]
  },
  {
   "cell_type": "markdown",
   "id": "09b036cd",
   "metadata": {
    "papermill": {
     "duration": 0.014606,
     "end_time": "2024-01-23T12:37:26.725627",
     "exception": false,
     "start_time": "2024-01-23T12:37:26.711021",
     "status": "completed"
    },
    "tags": []
   },
   "source": [
    "## Loading Data"
   ]
  },
  {
   "cell_type": "code",
   "execution_count": 3,
   "id": "b9910fca",
   "metadata": {
    "execution": {
     "iopub.execute_input": "2024-01-23T12:37:26.755702Z",
     "iopub.status.busy": "2024-01-23T12:37:26.755406Z",
     "iopub.status.idle": "2024-01-23T12:37:29.022940Z",
     "shell.execute_reply": "2024-01-23T12:37:29.022160Z"
    },
    "papermill": {
     "duration": 2.285319,
     "end_time": "2024-01-23T12:37:29.025605",
     "exception": false,
     "start_time": "2024-01-23T12:37:26.740286",
     "status": "completed"
    },
    "tags": []
   },
   "outputs": [],
   "source": [
    "test = pd.read_csv('/kaggle/input/llm-detect-ai-generated-text/test_essays.csv')\n",
    "sub = pd.read_csv('/kaggle/input/llm-detect-ai-generated-text/sample_submission.csv')\n",
    "org_train = pd.read_csv('/kaggle/input/llm-detect-ai-generated-text/train_essays.csv')\n",
    "train = pd.read_csv(\"/kaggle/input/daigt-v2-train-dataset/train_v2_drcat_02.csv\", sep=',')"
   ]
  },
  {
   "cell_type": "code",
   "execution_count": 4,
   "id": "e8ac3c23",
   "metadata": {
    "execution": {
     "iopub.execute_input": "2024-01-23T12:37:29.057131Z",
     "iopub.status.busy": "2024-01-23T12:37:29.056749Z",
     "iopub.status.idle": "2024-01-23T12:37:29.126775Z",
     "shell.execute_reply": "2024-01-23T12:37:29.126088Z"
    },
    "papermill": {
     "duration": 0.088094,
     "end_time": "2024-01-23T12:37:29.128776",
     "exception": false,
     "start_time": "2024-01-23T12:37:29.040682",
     "status": "completed"
    },
    "tags": []
   },
   "outputs": [],
   "source": [
    "train = train.drop_duplicates(subset=['text'])\n",
    "train.reset_index(drop=True, inplace=True)"
   ]
  },
  {
   "cell_type": "code",
   "execution_count": 5,
   "id": "18447fdc",
   "metadata": {
    "execution": {
     "iopub.execute_input": "2024-01-23T12:37:29.159241Z",
     "iopub.status.busy": "2024-01-23T12:37:29.158943Z",
     "iopub.status.idle": "2024-01-23T12:37:29.166701Z",
     "shell.execute_reply": "2024-01-23T12:37:29.165904Z"
    },
    "papermill": {
     "duration": 0.024727,
     "end_time": "2024-01-23T12:37:29.168555",
     "exception": false,
     "start_time": "2024-01-23T12:37:29.143828",
     "status": "completed"
    },
    "tags": []
   },
   "outputs": [
    {
     "data": {
      "text/plain": [
       "0        Phones\\n\\nModern humans today are always on th...\n",
       "1        This essay will explain if drivers should or s...\n",
       "2        Driving while the use of cellular devices\\n\\nT...\n",
       "3        Phones & Driving\\n\\nDrivers should not be able...\n",
       "4        Cell Phone Operation While Driving\\n\\nThe abil...\n",
       "                               ...                        \n",
       "44863    Dear Senator,\\n\\nI am writing to you today to ...\n",
       "44864    Dear Senator,\\n\\nI am writing to you today to ...\n",
       "44865    Dear Senator,\\n\\nI am writing to you today to ...\n",
       "44866    Dear Senator,\\n\\nI am writing to you today to ...\n",
       "44867    Dear Senator,\\n\\nI am writing to you today to ...\n",
       "Name: text, Length: 44868, dtype: object"
      ]
     },
     "execution_count": 5,
     "metadata": {},
     "output_type": "execute_result"
    }
   ],
   "source": [
    "train['text']"
   ]
  },
  {
   "cell_type": "markdown",
   "id": "6228f8d5",
   "metadata": {
    "papermill": {
     "duration": 0.01414,
     "end_time": "2024-01-23T12:37:29.197213",
     "exception": false,
     "start_time": "2024-01-23T12:37:29.183073",
     "status": "completed"
    },
    "tags": []
   },
   "source": [
    "## Levenshtein distance for error correction"
   ]
  },
  {
   "cell_type": "code",
   "execution_count": 6,
   "id": "944b78e0",
   "metadata": {
    "execution": {
     "iopub.execute_input": "2024-01-23T12:37:29.226931Z",
     "iopub.status.busy": "2024-01-23T12:37:29.226670Z",
     "iopub.status.idle": "2024-01-23T12:37:31.411510Z",
     "shell.execute_reply": "2024-01-23T12:37:31.410709Z"
    },
    "papermill": {
     "duration": 2.202319,
     "end_time": "2024-01-23T12:37:31.413820",
     "exception": false,
     "start_time": "2024-01-23T12:37:29.211501",
     "status": "completed"
    },
    "tags": []
   },
   "outputs": [],
   "source": [
    "from leven_search import LevenSearch, EditCost, EditCostConfig, GranularEditCostConfig\n",
    "import pickle\n",
    "from tqdm.auto import tqdm\n",
    "\n",
    "with open('/kaggle/usr/lib/install_levenshtein_search_library/leven_search.pkl', 'rb') as file:\n",
    "    lev_search = pickle.load(file)"
   ]
  },
  {
   "cell_type": "code",
   "execution_count": 7,
   "id": "b588792f",
   "metadata": {
    "execution": {
     "iopub.execute_input": "2024-01-23T12:37:31.445088Z",
     "iopub.status.busy": "2024-01-23T12:37:31.444775Z",
     "iopub.status.idle": "2024-01-23T12:37:31.457008Z",
     "shell.execute_reply": "2024-01-23T12:37:31.456174Z"
    },
    "papermill": {
     "duration": 0.030191,
     "end_time": "2024-01-23T12:37:31.458947",
     "exception": false,
     "start_time": "2024-01-23T12:37:31.428756",
     "status": "completed"
    },
    "tags": []
   },
   "outputs": [],
   "source": [
    "from collections import defaultdict\n",
    "import re\n",
    "\n",
    "def fix_text(text):\n",
    "    wrong_words = []\n",
    "    correct_words = dict()\n",
    "    word_list = re.findall(r'\\b\\w+\\b|[.,\\s]', text)\n",
    "\n",
    "    for t in word_list:\n",
    "        correct_word = t\n",
    "\n",
    "        if len(t) > 2:\n",
    "            result = lev_search.find_dist(t, max_distance=0)\n",
    "            result = list(result.__dict__['words'].values())\n",
    "\n",
    "            if len(result) == 0:\n",
    "                result = lev_search.find_dist(t, max_distance=1)\n",
    "                result = list(result.__dict__['words'].values())\n",
    "                if len(result):\n",
    "                    correct_word = result[0].word\n",
    "                    wrong_words.append((t, result))\n",
    "\n",
    "        correct_words[t] = correct_word\n",
    "\n",
    "    dict_freq = defaultdict(lambda: 0)\n",
    "    for wrong_word in wrong_words:\n",
    "        _, result = wrong_word\n",
    "\n",
    "        for res in result:\n",
    "            updates = res.updates\n",
    "            from_char = updates[0].l1\n",
    "            to_char = updates[0].l2\n",
    "            if from_char != \"\" or to_char != \"\":\n",
    "                dict_freq[(from_char, to_char)] += 1\n",
    "\n",
    "    if len(dict_freq):\n",
    "        max_key = max(dict_freq, key=dict_freq.get)\n",
    "        count = dict_freq[max_key]\n",
    "    else:\n",
    "        count = 0\n",
    "\n",
    "    if count > 0.06 * len(text.split()):\n",
    "        gec = GranularEditCostConfig(default_cost=10, edit_costs=[EditCost(max_key[0], max_key[1], 1)])\n",
    "\n",
    "        for wrong_word in wrong_words:\n",
    "            word, _ = wrong_word\n",
    "            result = lev_search.find_dist(word, max_distance=9, edit_cost_config=gec)\n",
    "            result = list(result.__dict__['words'].values())\n",
    "            if len(result):\n",
    "                correct_words[word] = result[0].word\n",
    "            else:\n",
    "                correct_word = word\n",
    "\n",
    "    correct_sentence = []\n",
    "    for t in word_list:\n",
    "        correct_sentence.append(correct_words[t])\n",
    "\n",
    "    return \"\".join(correct_sentence)"
   ]
  },
  {
   "cell_type": "code",
   "execution_count": 8,
   "id": "33058262",
   "metadata": {
    "execution": {
     "iopub.execute_input": "2024-01-23T12:37:31.489486Z",
     "iopub.status.busy": "2024-01-23T12:37:31.489224Z",
     "iopub.status.idle": "2024-01-23T12:43:44.959113Z",
     "shell.execute_reply": "2024-01-23T12:43:44.958138Z"
    },
    "papermill": {
     "duration": 373.488029,
     "end_time": "2024-01-23T12:43:44.961800",
     "exception": false,
     "start_time": "2024-01-23T12:37:31.473771",
     "status": "completed"
    },
    "tags": []
   },
   "outputs": [
    {
     "name": "stderr",
     "output_type": "stream",
     "text": [
      "huggingface/tokenizers: The current process just got forked, after parallelism has already been used. Disabling parallelism to avoid deadlocks...\n",
      "To disable this warning, you can either:\n",
      "\t- Avoid using `tokenizers` before the fork if possible\n",
      "\t- Explicitly set the environment variable TOKENIZERS_PARALLELISM=(true | false)\n",
      "huggingface/tokenizers: The current process just got forked, after parallelism has already been used. Disabling parallelism to avoid deadlocks...\n",
      "To disable this warning, you can either:\n",
      "\t- Avoid using `tokenizers` before the fork if possible\n",
      "\t- Explicitly set the environment variable TOKENIZERS_PARALLELISM=(true | false)\n",
      "huggingface/tokenizers: The current process just got forked, after parallelism has already been used. Disabling parallelism to avoid deadlocks...\n",
      "To disable this warning, you can either:\n",
      "\t- Avoid using `tokenizers` before the fork if possible\n",
      "\t- Explicitly set the environment variable TOKENIZERS_PARALLELISM=(true | false)\n",
      "huggingface/tokenizers: The current process just got forked, after parallelism has already been used. Disabling parallelism to avoid deadlocks...\n",
      "To disable this warning, you can either:\n",
      "\t- Avoid using `tokenizers` before the fork if possible\n",
      "\t- Explicitly set the environment variable TOKENIZERS_PARALLELISM=(true | false)\n"
     ]
    }
   ],
   "source": [
    "from concurrent.futures import ProcessPoolExecutor\n",
    "import re\n",
    "with ProcessPoolExecutor() as executor:\n",
    "    train['text'] = list(executor.map(fix_text, train['text']))"
   ]
  },
  {
   "cell_type": "code",
   "execution_count": 9,
   "id": "0e382ad8",
   "metadata": {
    "execution": {
     "iopub.execute_input": "2024-01-23T12:43:44.994432Z",
     "iopub.status.busy": "2024-01-23T12:43:44.993603Z",
     "iopub.status.idle": "2024-01-23T12:43:45.153899Z",
     "shell.execute_reply": "2024-01-23T12:43:45.152827Z"
    },
    "papermill": {
     "duration": 0.178702,
     "end_time": "2024-01-23T12:43:45.156188",
     "exception": false,
     "start_time": "2024-01-23T12:43:44.977486",
     "status": "completed"
    },
    "tags": []
   },
   "outputs": [
    {
     "name": "stderr",
     "output_type": "stream",
     "text": [
      "huggingface/tokenizers: The current process just got forked, after parallelism has already been used. Disabling parallelism to avoid deadlocks...\n",
      "To disable this warning, you can either:\n",
      "\t- Avoid using `tokenizers` before the fork if possible\n",
      "\t- Explicitly set the environment variable TOKENIZERS_PARALLELISM=(true | false)\n",
      "huggingface/tokenizers: The current process just got forked, after parallelism has already been used. Disabling parallelism to avoid deadlocks...\n",
      "To disable this warning, you can either:\n",
      "\t- Avoid using `tokenizers` before the fork if possible\n",
      "\t- Explicitly set the environment variable TOKENIZERS_PARALLELISM=(true | false)\n",
      "huggingface/tokenizers: The current process just got forked, after parallelism has already been used. Disabling parallelism to avoid deadlocks...\n",
      "To disable this warning, you can either:\n",
      "\t- Avoid using `tokenizers` before the fork if possible\n",
      "\t- Explicitly set the environment variable TOKENIZERS_PARALLELISM=(true | false)\n",
      "huggingface/tokenizers: The current process just got forked, after parallelism has already been used. Disabling parallelism to avoid deadlocks...\n",
      "To disable this warning, you can either:\n",
      "\t- Avoid using `tokenizers` before the fork if possible\n",
      "\t- Explicitly set the environment variable TOKENIZERS_PARALLELISM=(true | false)\n"
     ]
    }
   ],
   "source": [
    "with ProcessPoolExecutor() as executor:\n",
    "    test['text'] = list(executor.map(fix_text, test['text']))"
   ]
  },
  {
   "cell_type": "markdown",
   "id": "d71df879",
   "metadata": {
    "papermill": {
     "duration": 0.058345,
     "end_time": "2024-01-23T12:43:45.230496",
     "exception": false,
     "start_time": "2024-01-23T12:43:45.172151",
     "status": "completed"
    },
    "tags": []
   },
   "source": [
    "## Removing Duplicate Rows"
   ]
  },
  {
   "cell_type": "code",
   "execution_count": 10,
   "id": "9d5c6e08",
   "metadata": {
    "execution": {
     "iopub.execute_input": "2024-01-23T12:43:45.262961Z",
     "iopub.status.busy": "2024-01-23T12:43:45.262576Z",
     "iopub.status.idle": "2024-01-23T12:43:45.368520Z",
     "shell.execute_reply": "2024-01-23T12:43:45.367754Z"
    },
    "papermill": {
     "duration": 0.124503,
     "end_time": "2024-01-23T12:43:45.370526",
     "exception": false,
     "start_time": "2024-01-23T12:43:45.246023",
     "status": "completed"
    },
    "tags": []
   },
   "outputs": [],
   "source": [
    "train = train.drop_duplicates(subset=['text'])\n",
    "train.reset_index(drop=True, inplace=True)"
   ]
  },
  {
   "cell_type": "markdown",
   "id": "daed0dff",
   "metadata": {
    "papermill": {
     "duration": 0.015159,
     "end_time": "2024-01-23T12:43:45.401058",
     "exception": false,
     "start_time": "2024-01-23T12:43:45.385899",
     "status": "completed"
    },
    "tags": []
   },
   "source": [
    "## Configuration Parameters"
   ]
  },
  {
   "cell_type": "code",
   "execution_count": 11,
   "id": "1eeebf97",
   "metadata": {
    "execution": {
     "iopub.execute_input": "2024-01-23T12:43:45.432378Z",
     "iopub.status.busy": "2024-01-23T12:43:45.432036Z",
     "iopub.status.idle": "2024-01-23T12:43:45.436227Z",
     "shell.execute_reply": "2024-01-23T12:43:45.435448Z"
    },
    "papermill": {
     "duration": 0.022055,
     "end_time": "2024-01-23T12:43:45.438152",
     "exception": false,
     "start_time": "2024-01-23T12:43:45.416097",
     "status": "completed"
    },
    "tags": []
   },
   "outputs": [],
   "source": [
    "LOWERCASE = False\n",
    "VOCAB_SIZE = 1000000"
   ]
  },
  {
   "cell_type": "markdown",
   "id": "4a73f97e",
   "metadata": {
    "papermill": {
     "duration": 0.014848,
     "end_time": "2024-01-23T12:43:45.468564",
     "exception": false,
     "start_time": "2024-01-23T12:43:45.453716",
     "status": "completed"
    },
    "tags": []
   },
   "source": [
    "## Byte-Pair Encoding Tokenizer Training"
   ]
  },
  {
   "cell_type": "code",
   "execution_count": 12,
   "id": "7b94fb7d",
   "metadata": {
    "execution": {
     "iopub.execute_input": "2024-01-23T12:43:45.500460Z",
     "iopub.status.busy": "2024-01-23T12:43:45.500164Z",
     "iopub.status.idle": "2024-01-23T12:43:45.539949Z",
     "shell.execute_reply": "2024-01-23T12:43:45.538865Z"
    },
    "papermill": {
     "duration": 0.057918,
     "end_time": "2024-01-23T12:43:45.542083",
     "exception": false,
     "start_time": "2024-01-23T12:43:45.484165",
     "status": "completed"
    },
    "tags": []
   },
   "outputs": [
    {
     "name": "stdout",
     "output_type": "stream",
     "text": [
      "\n",
      "\n",
      "\n"
     ]
    },
    {
     "name": "stderr",
     "output_type": "stream",
     "text": [
      "/opt/conda/lib/python3.10/site-packages/pyarrow/pandas_compat.py:373: FutureWarning: is_sparse is deprecated and will be removed in a future version. Check `isinstance(dtype, pd.SparseDtype)` instead.\n",
      "  if _pandas_api.is_sparse(col):\n"
     ]
    }
   ],
   "source": [
    "# Creating Byte-Pair Encoding tokenizer\n",
    "raw_tokenizer = Tokenizer(models.BPE(unk_token=\"[UNK]\"))\n",
    "raw_tokenizer.normalizer = normalizers.Sequence([normalizers.NFC()] + [normalizers.Lowercase()] if LOWERCASE else [])\n",
    "raw_tokenizer.pre_tokenizer = pre_tokenizers.ByteLevel()\n",
    "special_tokens = [\"[UNK]\", \"[PAD]\", \"[CLS]\", \"[SEP]\", \"[MASK]\"]\n",
    "trainer = trainers.BpeTrainer(vocab_size=VOCAB_SIZE, special_tokens=special_tokens)\n",
    "dataset = Dataset.from_pandas(test[['text']])\n",
    "def train_corp_iter(): \n",
    "    for i in range(0, len(dataset), 1000):\n",
    "        yield dataset[i : i + 1000][\"text\"]\n",
    "raw_tokenizer.train_from_iterator(train_corp_iter(), trainer=trainer)\n",
    "tokenizer = PreTrainedTokenizerFast(\n",
    "    tokenizer_object=raw_tokenizer,\n",
    "    unk_token=\"[UNK]\",\n",
    "    pad_token=\"[PAD]\",\n",
    "    cls_token=\"[CLS]\",\n",
    "    sep_token=\"[SEP]\",\n",
    "    mask_token=\"[MASK]\",\n",
    ")"
   ]
  },
  {
   "cell_type": "code",
   "execution_count": 13,
   "id": "2747c13a",
   "metadata": {
    "execution": {
     "iopub.execute_input": "2024-01-23T12:43:45.574025Z",
     "iopub.status.busy": "2024-01-23T12:43:45.573743Z",
     "iopub.status.idle": "2024-01-23T12:45:37.659467Z",
     "shell.execute_reply": "2024-01-23T12:45:37.658473Z"
    },
    "papermill": {
     "duration": 112.103932,
     "end_time": "2024-01-23T12:45:37.661477",
     "exception": false,
     "start_time": "2024-01-23T12:43:45.557545",
     "status": "completed"
    },
    "tags": []
   },
   "outputs": [
    {
     "data": {
      "application/vnd.jupyter.widget-view+json": {
       "model_id": "f4ca953560e74201beddd28f1f7c9ca9",
       "version_major": 2,
       "version_minor": 0
      },
      "text/plain": [
       "  0%|          | 0/3 [00:00<?, ?it/s]"
      ]
     },
     "metadata": {},
     "output_type": "display_data"
    },
    {
     "data": {
      "application/vnd.jupyter.widget-view+json": {
       "model_id": "fe977ace392744fc9df67b1ed32b04f3",
       "version_major": 2,
       "version_minor": 0
      },
      "text/plain": [
       "  0%|          | 0/44868 [00:00<?, ?it/s]"
      ]
     },
     "metadata": {},
     "output_type": "display_data"
    }
   ],
   "source": [
    "\n",
    "tokenized_texts_test = []\n",
    "\n",
    "for text in tqdm(test['text'].tolist()):\n",
    "    tokenized_texts_test.append(tokenizer.tokenize(text))\n",
    "\n",
    "tokenized_texts_train = []\n",
    "\n",
    "for text in tqdm(train['text'].tolist()):\n",
    "    tokenized_texts_train.append(tokenizer.tokenize(text))"
   ]
  },
  {
   "cell_type": "markdown",
   "id": "e7e98a40",
   "metadata": {
    "papermill": {
     "duration": 0.016015,
     "end_time": "2024-01-23T12:45:37.693911",
     "exception": false,
     "start_time": "2024-01-23T12:45:37.677896",
     "status": "completed"
    },
    "tags": []
   },
   "source": [
    "## TF-IDF Vectorization"
   ]
  },
  {
   "cell_type": "code",
   "execution_count": 14,
   "id": "c917db46",
   "metadata": {
    "execution": {
     "iopub.execute_input": "2024-01-23T12:45:37.727515Z",
     "iopub.status.busy": "2024-01-23T12:45:37.726908Z",
     "iopub.status.idle": "2024-01-23T12:49:48.591610Z",
     "shell.execute_reply": "2024-01-23T12:49:48.590621Z"
    },
    "papermill": {
     "duration": 250.899403,
     "end_time": "2024-01-23T12:49:48.609687",
     "exception": false,
     "start_time": "2024-01-23T12:45:37.710284",
     "status": "completed"
    },
    "tags": []
   },
   "outputs": [
    {
     "name": "stdout",
     "output_type": "stream",
     "text": [
      "{'ĠAaa Ġbbb Ġccc': 0, 'Ġbbb Ġccc .': 6, 'ĠAaa Ġbbb Ġccc .': 1, 'ĠBbb Ġccc Ġidd': 2, 'Ġccc Ġidd .': 7, 'ĠBbb Ġccc Ġidd .': 3, 'ĠCCC Ġidd Ġeee': 4, 'Ġidd Ġeee .': 8, 'ĠCCC Ġidd Ġeee .': 5}\n"
     ]
    },
    {
     "data": {
      "text/plain": [
       "23"
      ]
     },
     "execution_count": 14,
     "metadata": {},
     "output_type": "execute_result"
    }
   ],
   "source": [
    "def dummy(text):\n",
    "    return text\n",
    "vectorizer = TfidfVectorizer(ngram_range=(3, 5), lowercase=False, sublinear_tf=True, analyzer = 'word',\n",
    "    tokenizer = dummy,\n",
    "    preprocessor = dummy,\n",
    "    token_pattern = None, strip_accents='unicode')\n",
    "\n",
    "vectorizer.fit(tokenized_texts_test)\n",
    "\n",
    "# Getting vocab\n",
    "vocab = vectorizer.vocabulary_\n",
    "\n",
    "print(vocab)\n",
    "\n",
    "vectorizer = TfidfVectorizer(ngram_range=(3, 5), lowercase=False, sublinear_tf=True, vocabulary=vocab,\n",
    "                            analyzer = 'word',\n",
    "                            tokenizer = dummy,\n",
    "                            preprocessor = dummy,\n",
    "                            token_pattern = None, strip_accents='unicode'\n",
    "                            )\n",
    "\n",
    "tf_train = vectorizer.fit_transform(tokenized_texts_train)\n",
    "tf_test = vectorizer.transform(tokenized_texts_test)\n",
    "\n",
    "del vectorizer\n",
    "gc.collect()"
   ]
  },
  {
   "cell_type": "code",
   "execution_count": 15,
   "id": "cbe59716",
   "metadata": {
    "execution": {
     "iopub.execute_input": "2024-01-23T12:49:48.643558Z",
     "iopub.status.busy": "2024-01-23T12:49:48.643217Z",
     "iopub.status.idle": "2024-01-23T12:49:48.647829Z",
     "shell.execute_reply": "2024-01-23T12:49:48.646943Z"
    },
    "papermill": {
     "duration": 0.023422,
     "end_time": "2024-01-23T12:49:48.649650",
     "exception": false,
     "start_time": "2024-01-23T12:49:48.626228",
     "status": "completed"
    },
    "tags": []
   },
   "outputs": [],
   "source": [
    "y_train = train['label'].values"
   ]
  },
  {
   "cell_type": "markdown",
   "id": "4b31b143",
   "metadata": {
    "papermill": {
     "duration": 0.01559,
     "end_time": "2024-01-23T12:49:48.681415",
     "exception": false,
     "start_time": "2024-01-23T12:49:48.665825",
     "status": "completed"
    },
    "tags": []
   },
   "source": [
    "## Model Training and Prediction"
   ]
  },
  {
   "cell_type": "code",
   "execution_count": 16,
   "id": "216b7ef5",
   "metadata": {
    "execution": {
     "iopub.execute_input": "2024-01-23T12:49:48.715976Z",
     "iopub.status.busy": "2024-01-23T12:49:48.715673Z",
     "iopub.status.idle": "2024-01-23T12:49:48.727343Z",
     "shell.execute_reply": "2024-01-23T12:49:48.726520Z"
    },
    "papermill": {
     "duration": 0.031283,
     "end_time": "2024-01-23T12:49:48.729398",
     "exception": false,
     "start_time": "2024-01-23T12:49:48.698115",
     "status": "completed"
    },
    "tags": []
   },
   "outputs": [],
   "source": [
    "if len(test.text.values) <= 5:\n",
    "    sub.to_csv('submission_new.csv', index=False)\n",
    "else:\n",
    "    clf = MultinomialNB(alpha=0.0225)\n",
    "    \n",
    "    sgd_model = SGDClassifier(\n",
    "        max_iter     = 9000, \n",
    "        tol          = 1e-4, \n",
    "        random_state = 6743,\n",
    "        loss         = \"modified_huber\"\n",
    "    ) \n",
    "    \n",
    "    p={\n",
    "        'verbose'          : -1,\n",
    "        'n_iter'           : 3000,\n",
    "        'colsample_bytree' : 0.7800,\n",
    "        'colsample_bynode' : 0.8000, \n",
    "        'random_state'     : 6743,\n",
    "        'metric'           : 'auc',\n",
    "        'objective'        : 'cross_entropy',\n",
    "        'learning_rate'    : 0.00581909898961407, \n",
    "      }\n",
    "    lgb=LGBMClassifier(**p)\n",
    "    \n",
    "    \n",
    "    cat = CatBoostClassifier(\n",
    "        iterations        = 3000,\n",
    "        verbose           = 0,\n",
    "        subsample         = 0.35,\n",
    "        random_seed       = 6543,\n",
    "        allow_const_label = True,\n",
    "        loss_function     = 'CrossEntropy',\n",
    "        learning_rate     = 0.005599066836106983,\n",
    "    )\n",
    "    \n",
    "    \n",
    "    ensemble = VotingClassifier(\n",
    "        estimators = [('mnb', clf),\n",
    "                      ('sgd', sgd_model),\n",
    "                      ('lgb', lgb), \n",
    "                      ('cat', cat)],\n",
    "        weights    = [0.1, 0.31, 0.28, 0.67], \n",
    "        voting     = 'soft', \n",
    "        n_jobs     = -1\n",
    "    )\n",
    "    \n",
    "    ensemble.fit(tf_train, y_train_label)\n",
    "    gc.collect()\n",
    "    \n",
    "    final_preds = ensemble.predict_proba(tf_test)[:,1]\n",
    "    sub['generated'] = final_preds\n",
    "    sub.to_csv('submission_new.csv', index=False)\n",
    "    sub"
   ]
  },
  {
   "cell_type": "markdown",
   "id": "5612ecb5",
   "metadata": {
    "papermill": {
     "duration": 0.015563,
     "end_time": "2024-01-23T12:49:48.762386",
     "exception": false,
     "start_time": "2024-01-23T12:49:48.746823",
     "status": "completed"
    },
    "tags": []
   },
   "source": [
    "## Model Ensemble"
   ]
  },
  {
   "cell_type": "code",
   "execution_count": 17,
   "id": "165422f4",
   "metadata": {
    "execution": {
     "iopub.execute_input": "2024-01-23T12:49:48.794986Z",
     "iopub.status.busy": "2024-01-23T12:49:48.794701Z",
     "iopub.status.idle": "2024-01-23T12:49:48.802432Z",
     "shell.execute_reply": "2024-01-23T12:49:48.801722Z"
    },
    "papermill": {
     "duration": 0.026224,
     "end_time": "2024-01-23T12:49:48.804403",
     "exception": false,
     "start_time": "2024-01-23T12:49:48.778179",
     "status": "completed"
    },
    "tags": []
   },
   "outputs": [],
   "source": [
    "submission1 = pd.read_csv('submission_old.csv')\n",
    "submission2 = pd.read_csv('submission_new.csv')"
   ]
  },
  {
   "cell_type": "code",
   "execution_count": 18,
   "id": "5d5b2e7c",
   "metadata": {
    "execution": {
     "iopub.execute_input": "2024-01-23T12:49:48.837480Z",
     "iopub.status.busy": "2024-01-23T12:49:48.837208Z",
     "iopub.status.idle": "2024-01-23T12:49:48.847383Z",
     "shell.execute_reply": "2024-01-23T12:49:48.846670Z"
    },
    "papermill": {
     "duration": 0.028724,
     "end_time": "2024-01-23T12:49:48.849194",
     "exception": false,
     "start_time": "2024-01-23T12:49:48.820470",
     "status": "completed"
    },
    "tags": []
   },
   "outputs": [],
   "source": [
    "submission = submission1.copy()\n",
    "submission['generated'] = submission1['generated'].rank(pct=True)*0.25+submission2['generated'].rank(pct=True)*0.75\n",
    "submission.to_csv('submission.csv', index=False)"
   ]
  }
 ],
 "metadata": {
  "kaggle": {
   "accelerator": "gpu",
   "dataSources": [
    {
     "databundleVersionId": 7516023,
     "sourceId": 61542,
     "sourceType": "competition"
    },
    {
     "datasetId": 3945154,
     "sourceId": 6865136,
     "sourceType": "datasetVersion"
    },
    {
     "datasetId": 3942644,
     "sourceId": 6890527,
     "sourceType": "datasetVersion"
    },
    {
     "datasetId": 3960967,
     "sourceId": 6901341,
     "sourceType": "datasetVersion"
    },
    {
     "datasetId": 4005256,
     "sourceId": 6977472,
     "sourceType": "datasetVersion"
    },
    {
     "datasetId": 3954249,
     "sourceId": 7407169,
     "sourceType": "datasetVersion"
    },
    {
     "sourceId": 159219517,
     "sourceType": "kernelVersion"
    }
   ],
   "dockerImageVersionId": 30588,
   "isGpuEnabled": true,
   "isInternetEnabled": false,
   "language": "python",
   "sourceType": "notebook"
  },
  "kernelspec": {
   "display_name": "Python 3",
   "language": "python",
   "name": "python3"
  },
  "language_info": {
   "codemirror_mode": {
    "name": "ipython",
    "version": 3
   },
   "file_extension": ".py",
   "mimetype": "text/x-python",
   "name": "python",
   "nbconvert_exporter": "python",
   "pygments_lexer": "ipython3",
   "version": "3.10.12"
  },
  "papermill": {
   "default_parameters": {},
   "duration": 776.171093,
   "end_time": "2024-01-23T12:49:51.787580",
   "environment_variables": {},
   "exception": null,
   "input_path": "__notebook__.ipynb",
   "output_path": "__notebook__.ipynb",
   "parameters": {},
   "start_time": "2024-01-23T12:36:55.616487",
   "version": "2.4.0"
  },
  "widgets": {
   "application/vnd.jupyter.widget-state+json": {
    "state": {
     "00a05a7bb5164566a93a54a64e239991": {
      "model_module": "@jupyter-widgets/controls",
      "model_module_version": "1.5.0",
      "model_name": "DescriptionStyleModel",
      "state": {
       "_model_module": "@jupyter-widgets/controls",
       "_model_module_version": "1.5.0",
       "_model_name": "DescriptionStyleModel",
       "_view_count": null,
       "_view_module": "@jupyter-widgets/base",
       "_view_module_version": "1.2.0",
       "_view_name": "StyleView",
       "description_width": ""
      }
     },
     "029754c5d4244afc93cb2bfbdb02ee5e": {
      "model_module": "@jupyter-widgets/controls",
      "model_module_version": "1.5.0",
      "model_name": "HTMLModel",
      "state": {
       "_dom_classes": [],
       "_model_module": "@jupyter-widgets/controls",
       "_model_module_version": "1.5.0",
       "_model_name": "HTMLModel",
       "_view_count": null,
       "_view_module": "@jupyter-widgets/controls",
       "_view_module_version": "1.5.0",
       "_view_name": "HTMLView",
       "description": "",
       "description_tooltip": null,
       "layout": "IPY_MODEL_a3d30bd23514479796176cca2507a8bd",
       "placeholder": "​",
       "style": "IPY_MODEL_9a1812a0ec3e4b93905a1a7052ff8e30",
       "value": " 44868/44868 [01:52&lt;00:00, 412.56it/s]"
      }
     },
     "085b1b6c5502453cb15d37d2ccf579d9": {
      "model_module": "@jupyter-widgets/base",
      "model_module_version": "1.2.0",
      "model_name": "LayoutModel",
      "state": {
       "_model_module": "@jupyter-widgets/base",
       "_model_module_version": "1.2.0",
       "_model_name": "LayoutModel",
       "_view_count": null,
       "_view_module": "@jupyter-widgets/base",
       "_view_module_version": "1.2.0",
       "_view_name": "LayoutView",
       "align_content": null,
       "align_items": null,
       "align_self": null,
       "border": null,
       "bottom": null,
       "display": null,
       "flex": null,
       "flex_flow": null,
       "grid_area": null,
       "grid_auto_columns": null,
       "grid_auto_flow": null,
       "grid_auto_rows": null,
       "grid_column": null,
       "grid_gap": null,
       "grid_row": null,
       "grid_template_areas": null,
       "grid_template_columns": null,
       "grid_template_rows": null,
       "height": null,
       "justify_content": null,
       "justify_items": null,
       "left": null,
       "margin": null,
       "max_height": null,
       "max_width": null,
       "min_height": null,
       "min_width": null,
       "object_fit": null,
       "object_position": null,
       "order": null,
       "overflow": null,
       "overflow_x": null,
       "overflow_y": null,
       "padding": null,
       "right": null,
       "top": null,
       "visibility": null,
       "width": null
      }
     },
     "0a07dce2a84e4b2db304f79c57323cea": {
      "model_module": "@jupyter-widgets/controls",
      "model_module_version": "1.5.0",
      "model_name": "HTMLModel",
      "state": {
       "_dom_classes": [],
       "_model_module": "@jupyter-widgets/controls",
       "_model_module_version": "1.5.0",
       "_model_name": "HTMLModel",
       "_view_count": null,
       "_view_module": "@jupyter-widgets/controls",
       "_view_module_version": "1.5.0",
       "_view_name": "HTMLView",
       "description": "",
       "description_tooltip": null,
       "layout": "IPY_MODEL_9664c4457e564f3b8203f49c5bdab79a",
       "placeholder": "​",
       "style": "IPY_MODEL_97211b1db40340eb8054cbd3fe155bf9",
       "value": " 1/1 [00:00&lt;00:00, 18.31ba/s]"
      }
     },
     "0ce079c57dfe4de5a2886477aad0412e": {
      "model_module": "@jupyter-widgets/controls",
      "model_module_version": "1.5.0",
      "model_name": "HTMLModel",
      "state": {
       "_dom_classes": [],
       "_model_module": "@jupyter-widgets/controls",
       "_model_module_version": "1.5.0",
       "_model_name": "HTMLModel",
       "_view_count": null,
       "_view_module": "@jupyter-widgets/controls",
       "_view_module_version": "1.5.0",
       "_view_name": "HTMLView",
       "description": "",
       "description_tooltip": null,
       "layout": "IPY_MODEL_b27eb75565064ea49e0f161706660068",
       "placeholder": "​",
       "style": "IPY_MODEL_00a05a7bb5164566a93a54a64e239991",
       "value": "100%"
      }
     },
     "1377112ca23645fbad55cabbc77e71c2": {
      "model_module": "@jupyter-widgets/controls",
      "model_module_version": "1.5.0",
      "model_name": "HTMLModel",
      "state": {
       "_dom_classes": [],
       "_model_module": "@jupyter-widgets/controls",
       "_model_module_version": "1.5.0",
       "_model_name": "HTMLModel",
       "_view_count": null,
       "_view_module": "@jupyter-widgets/controls",
       "_view_module_version": "1.5.0",
       "_view_name": "HTMLView",
       "description": "",
       "description_tooltip": null,
       "layout": "IPY_MODEL_d6b0c76aa3d24b6f8568d2053ad14114",
       "placeholder": "​",
       "style": "IPY_MODEL_94c31a6795344b69b0dddb042749b6e6",
       "value": "100%"
      }
     },
     "1a1e2f45144c42f591968d06ee47786d": {
      "model_module": "@jupyter-widgets/controls",
      "model_module_version": "1.5.0",
      "model_name": "HTMLModel",
      "state": {
       "_dom_classes": [],
       "_model_module": "@jupyter-widgets/controls",
       "_model_module_version": "1.5.0",
       "_model_name": "HTMLModel",
       "_view_count": null,
       "_view_module": "@jupyter-widgets/controls",
       "_view_module_version": "1.5.0",
       "_view_name": "HTMLView",
       "description": "",
       "description_tooltip": null,
       "layout": "IPY_MODEL_95f318478f534ec2bfc5cdb2bf17c199",
       "placeholder": "​",
       "style": "IPY_MODEL_d2672c0afadc4691a1c989bbd2dd6d8f",
       "value": " 3/3 [00:00&lt;00:00, 204.19it/s]"
      }
     },
     "335f87b6648b4c8187619d31a16b7551": {
      "model_module": "@jupyter-widgets/base",
      "model_module_version": "1.2.0",
      "model_name": "LayoutModel",
      "state": {
       "_model_module": "@jupyter-widgets/base",
       "_model_module_version": "1.2.0",
       "_model_name": "LayoutModel",
       "_view_count": null,
       "_view_module": "@jupyter-widgets/base",
       "_view_module_version": "1.2.0",
       "_view_name": "LayoutView",
       "align_content": null,
       "align_items": null,
       "align_self": null,
       "border": null,
       "bottom": null,
       "display": null,
       "flex": null,
       "flex_flow": null,
       "grid_area": null,
       "grid_auto_columns": null,
       "grid_auto_flow": null,
       "grid_auto_rows": null,
       "grid_column": null,
       "grid_gap": null,
       "grid_row": null,
       "grid_template_areas": null,
       "grid_template_columns": null,
       "grid_template_rows": null,
       "height": null,
       "justify_content": null,
       "justify_items": null,
       "left": null,
       "margin": null,
       "max_height": null,
       "max_width": null,
       "min_height": null,
       "min_width": null,
       "object_fit": null,
       "object_position": null,
       "order": null,
       "overflow": null,
       "overflow_x": null,
       "overflow_y": null,
       "padding": null,
       "right": null,
       "top": null,
       "visibility": null,
       "width": null
      }
     },
     "377218f233454715baa9a10fb319fb73": {
      "model_module": "@jupyter-widgets/base",
      "model_module_version": "1.2.0",
      "model_name": "LayoutModel",
      "state": {
       "_model_module": "@jupyter-widgets/base",
       "_model_module_version": "1.2.0",
       "_model_name": "LayoutModel",
       "_view_count": null,
       "_view_module": "@jupyter-widgets/base",
       "_view_module_version": "1.2.0",
       "_view_name": "LayoutView",
       "align_content": null,
       "align_items": null,
       "align_self": null,
       "border": null,
       "bottom": null,
       "display": null,
       "flex": null,
       "flex_flow": null,
       "grid_area": null,
       "grid_auto_columns": null,
       "grid_auto_flow": null,
       "grid_auto_rows": null,
       "grid_column": null,
       "grid_gap": null,
       "grid_row": null,
       "grid_template_areas": null,
       "grid_template_columns": null,
       "grid_template_rows": null,
       "height": null,
       "justify_content": null,
       "justify_items": null,
       "left": null,
       "margin": null,
       "max_height": null,
       "max_width": null,
       "min_height": null,
       "min_width": null,
       "object_fit": null,
       "object_position": null,
       "order": null,
       "overflow": null,
       "overflow_x": null,
       "overflow_y": null,
       "padding": null,
       "right": null,
       "top": null,
       "visibility": null,
       "width": null
      }
     },
     "3eeea7d5d9f94bcb8785afe4161f47d4": {
      "model_module": "@jupyter-widgets/controls",
      "model_module_version": "1.5.0",
      "model_name": "ProgressStyleModel",
      "state": {
       "_model_module": "@jupyter-widgets/controls",
       "_model_module_version": "1.5.0",
       "_model_name": "ProgressStyleModel",
       "_view_count": null,
       "_view_module": "@jupyter-widgets/base",
       "_view_module_version": "1.2.0",
       "_view_name": "StyleView",
       "bar_color": null,
       "description_width": ""
      }
     },
     "43863dc13e5d4b24a9911058d24f2757": {
      "model_module": "@jupyter-widgets/controls",
      "model_module_version": "1.5.0",
      "model_name": "FloatProgressModel",
      "state": {
       "_dom_classes": [],
       "_model_module": "@jupyter-widgets/controls",
       "_model_module_version": "1.5.0",
       "_model_name": "FloatProgressModel",
       "_view_count": null,
       "_view_module": "@jupyter-widgets/controls",
       "_view_module_version": "1.5.0",
       "_view_name": "ProgressView",
       "bar_style": "success",
       "description": "",
       "description_tooltip": null,
       "layout": "IPY_MODEL_62fd03ce3ee9443bbeaabb2dbfd12605",
       "max": 1.0,
       "min": 0.0,
       "orientation": "horizontal",
       "style": "IPY_MODEL_a6508281a12748bc9bf0d059d642e0a2",
       "value": 1.0
      }
     },
     "547f376d34984c6e870b6a5a748c4491": {
      "model_module": "@jupyter-widgets/controls",
      "model_module_version": "1.5.0",
      "model_name": "HBoxModel",
      "state": {
       "_dom_classes": [],
       "_model_module": "@jupyter-widgets/controls",
       "_model_module_version": "1.5.0",
       "_model_name": "HBoxModel",
       "_view_count": null,
       "_view_module": "@jupyter-widgets/controls",
       "_view_module_version": "1.5.0",
       "_view_name": "HBoxView",
       "box_style": "",
       "children": [
        "IPY_MODEL_58dfc2aa128c4fe090df7c04a98dbbb8",
        "IPY_MODEL_43863dc13e5d4b24a9911058d24f2757",
        "IPY_MODEL_0a07dce2a84e4b2db304f79c57323cea"
       ],
       "layout": "IPY_MODEL_377218f233454715baa9a10fb319fb73"
      }
     },
     "58dfc2aa128c4fe090df7c04a98dbbb8": {
      "model_module": "@jupyter-widgets/controls",
      "model_module_version": "1.5.0",
      "model_name": "HTMLModel",
      "state": {
       "_dom_classes": [],
       "_model_module": "@jupyter-widgets/controls",
       "_model_module_version": "1.5.0",
       "_model_name": "HTMLModel",
       "_view_count": null,
       "_view_module": "@jupyter-widgets/controls",
       "_view_module_version": "1.5.0",
       "_view_name": "HTMLView",
       "description": "",
       "description_tooltip": null,
       "layout": "IPY_MODEL_9671eafe4ec74f7fa7e41dafe5f3bed8",
       "placeholder": "​",
       "style": "IPY_MODEL_fc7cc5d75ebb48dd9fa189ca4e6d41bc",
       "value": "100%"
      }
     },
     "62fd03ce3ee9443bbeaabb2dbfd12605": {
      "model_module": "@jupyter-widgets/base",
      "model_module_version": "1.2.0",
      "model_name": "LayoutModel",
      "state": {
       "_model_module": "@jupyter-widgets/base",
       "_model_module_version": "1.2.0",
       "_model_name": "LayoutModel",
       "_view_count": null,
       "_view_module": "@jupyter-widgets/base",
       "_view_module_version": "1.2.0",
       "_view_name": "LayoutView",
       "align_content": null,
       "align_items": null,
       "align_self": null,
       "border": null,
       "bottom": null,
       "display": null,
       "flex": null,
       "flex_flow": null,
       "grid_area": null,
       "grid_auto_columns": null,
       "grid_auto_flow": null,
       "grid_auto_rows": null,
       "grid_column": null,
       "grid_gap": null,
       "grid_row": null,
       "grid_template_areas": null,
       "grid_template_columns": null,
       "grid_template_rows": null,
       "height": null,
       "justify_content": null,
       "justify_items": null,
       "left": null,
       "margin": null,
       "max_height": null,
       "max_width": null,
       "min_height": null,
       "min_width": null,
       "object_fit": null,
       "object_position": null,
       "order": null,
       "overflow": null,
       "overflow_x": null,
       "overflow_y": null,
       "padding": null,
       "right": null,
       "top": null,
       "visibility": null,
       "width": null
      }
     },
     "94c31a6795344b69b0dddb042749b6e6": {
      "model_module": "@jupyter-widgets/controls",
      "model_module_version": "1.5.0",
      "model_name": "DescriptionStyleModel",
      "state": {
       "_model_module": "@jupyter-widgets/controls",
       "_model_module_version": "1.5.0",
       "_model_name": "DescriptionStyleModel",
       "_view_count": null,
       "_view_module": "@jupyter-widgets/base",
       "_view_module_version": "1.2.0",
       "_view_name": "StyleView",
       "description_width": ""
      }
     },
     "95f318478f534ec2bfc5cdb2bf17c199": {
      "model_module": "@jupyter-widgets/base",
      "model_module_version": "1.2.0",
      "model_name": "LayoutModel",
      "state": {
       "_model_module": "@jupyter-widgets/base",
       "_model_module_version": "1.2.0",
       "_model_name": "LayoutModel",
       "_view_count": null,
       "_view_module": "@jupyter-widgets/base",
       "_view_module_version": "1.2.0",
       "_view_name": "LayoutView",
       "align_content": null,
       "align_items": null,
       "align_self": null,
       "border": null,
       "bottom": null,
       "display": null,
       "flex": null,
       "flex_flow": null,
       "grid_area": null,
       "grid_auto_columns": null,
       "grid_auto_flow": null,
       "grid_auto_rows": null,
       "grid_column": null,
       "grid_gap": null,
       "grid_row": null,
       "grid_template_areas": null,
       "grid_template_columns": null,
       "grid_template_rows": null,
       "height": null,
       "justify_content": null,
       "justify_items": null,
       "left": null,
       "margin": null,
       "max_height": null,
       "max_width": null,
       "min_height": null,
       "min_width": null,
       "object_fit": null,
       "object_position": null,
       "order": null,
       "overflow": null,
       "overflow_x": null,
       "overflow_y": null,
       "padding": null,
       "right": null,
       "top": null,
       "visibility": null,
       "width": null
      }
     },
     "9664c4457e564f3b8203f49c5bdab79a": {
      "model_module": "@jupyter-widgets/base",
      "model_module_version": "1.2.0",
      "model_name": "LayoutModel",
      "state": {
       "_model_module": "@jupyter-widgets/base",
       "_model_module_version": "1.2.0",
       "_model_name": "LayoutModel",
       "_view_count": null,
       "_view_module": "@jupyter-widgets/base",
       "_view_module_version": "1.2.0",
       "_view_name": "LayoutView",
       "align_content": null,
       "align_items": null,
       "align_self": null,
       "border": null,
       "bottom": null,
       "display": null,
       "flex": null,
       "flex_flow": null,
       "grid_area": null,
       "grid_auto_columns": null,
       "grid_auto_flow": null,
       "grid_auto_rows": null,
       "grid_column": null,
       "grid_gap": null,
       "grid_row": null,
       "grid_template_areas": null,
       "grid_template_columns": null,
       "grid_template_rows": null,
       "height": null,
       "justify_content": null,
       "justify_items": null,
       "left": null,
       "margin": null,
       "max_height": null,
       "max_width": null,
       "min_height": null,
       "min_width": null,
       "object_fit": null,
       "object_position": null,
       "order": null,
       "overflow": null,
       "overflow_x": null,
       "overflow_y": null,
       "padding": null,
       "right": null,
       "top": null,
       "visibility": null,
       "width": null
      }
     },
     "9671eafe4ec74f7fa7e41dafe5f3bed8": {
      "model_module": "@jupyter-widgets/base",
      "model_module_version": "1.2.0",
      "model_name": "LayoutModel",
      "state": {
       "_model_module": "@jupyter-widgets/base",
       "_model_module_version": "1.2.0",
       "_model_name": "LayoutModel",
       "_view_count": null,
       "_view_module": "@jupyter-widgets/base",
       "_view_module_version": "1.2.0",
       "_view_name": "LayoutView",
       "align_content": null,
       "align_items": null,
       "align_self": null,
       "border": null,
       "bottom": null,
       "display": null,
       "flex": null,
       "flex_flow": null,
       "grid_area": null,
       "grid_auto_columns": null,
       "grid_auto_flow": null,
       "grid_auto_rows": null,
       "grid_column": null,
       "grid_gap": null,
       "grid_row": null,
       "grid_template_areas": null,
       "grid_template_columns": null,
       "grid_template_rows": null,
       "height": null,
       "justify_content": null,
       "justify_items": null,
       "left": null,
       "margin": null,
       "max_height": null,
       "max_width": null,
       "min_height": null,
       "min_width": null,
       "object_fit": null,
       "object_position": null,
       "order": null,
       "overflow": null,
       "overflow_x": null,
       "overflow_y": null,
       "padding": null,
       "right": null,
       "top": null,
       "visibility": null,
       "width": null
      }
     },
     "97211b1db40340eb8054cbd3fe155bf9": {
      "model_module": "@jupyter-widgets/controls",
      "model_module_version": "1.5.0",
      "model_name": "DescriptionStyleModel",
      "state": {
       "_model_module": "@jupyter-widgets/controls",
       "_model_module_version": "1.5.0",
       "_model_name": "DescriptionStyleModel",
       "_view_count": null,
       "_view_module": "@jupyter-widgets/base",
       "_view_module_version": "1.2.0",
       "_view_name": "StyleView",
       "description_width": ""
      }
     },
     "9a1812a0ec3e4b93905a1a7052ff8e30": {
      "model_module": "@jupyter-widgets/controls",
      "model_module_version": "1.5.0",
      "model_name": "DescriptionStyleModel",
      "state": {
       "_model_module": "@jupyter-widgets/controls",
       "_model_module_version": "1.5.0",
       "_model_name": "DescriptionStyleModel",
       "_view_count": null,
       "_view_module": "@jupyter-widgets/base",
       "_view_module_version": "1.2.0",
       "_view_name": "StyleView",
       "description_width": ""
      }
     },
     "a3d30bd23514479796176cca2507a8bd": {
      "model_module": "@jupyter-widgets/base",
      "model_module_version": "1.2.0",
      "model_name": "LayoutModel",
      "state": {
       "_model_module": "@jupyter-widgets/base",
       "_model_module_version": "1.2.0",
       "_model_name": "LayoutModel",
       "_view_count": null,
       "_view_module": "@jupyter-widgets/base",
       "_view_module_version": "1.2.0",
       "_view_name": "LayoutView",
       "align_content": null,
       "align_items": null,
       "align_self": null,
       "border": null,
       "bottom": null,
       "display": null,
       "flex": null,
       "flex_flow": null,
       "grid_area": null,
       "grid_auto_columns": null,
       "grid_auto_flow": null,
       "grid_auto_rows": null,
       "grid_column": null,
       "grid_gap": null,
       "grid_row": null,
       "grid_template_areas": null,
       "grid_template_columns": null,
       "grid_template_rows": null,
       "height": null,
       "justify_content": null,
       "justify_items": null,
       "left": null,
       "margin": null,
       "max_height": null,
       "max_width": null,
       "min_height": null,
       "min_width": null,
       "object_fit": null,
       "object_position": null,
       "order": null,
       "overflow": null,
       "overflow_x": null,
       "overflow_y": null,
       "padding": null,
       "right": null,
       "top": null,
       "visibility": null,
       "width": null
      }
     },
     "a6508281a12748bc9bf0d059d642e0a2": {
      "model_module": "@jupyter-widgets/controls",
      "model_module_version": "1.5.0",
      "model_name": "ProgressStyleModel",
      "state": {
       "_model_module": "@jupyter-widgets/controls",
       "_model_module_version": "1.5.0",
       "_model_name": "ProgressStyleModel",
       "_view_count": null,
       "_view_module": "@jupyter-widgets/base",
       "_view_module_version": "1.2.0",
       "_view_name": "StyleView",
       "bar_color": null,
       "description_width": ""
      }
     },
     "a984608bc8f54495a2423dbf7ab6296c": {
      "model_module": "@jupyter-widgets/controls",
      "model_module_version": "1.5.0",
      "model_name": "ProgressStyleModel",
      "state": {
       "_model_module": "@jupyter-widgets/controls",
       "_model_module_version": "1.5.0",
       "_model_name": "ProgressStyleModel",
       "_view_count": null,
       "_view_module": "@jupyter-widgets/base",
       "_view_module_version": "1.2.0",
       "_view_name": "StyleView",
       "bar_color": null,
       "description_width": ""
      }
     },
     "b27eb75565064ea49e0f161706660068": {
      "model_module": "@jupyter-widgets/base",
      "model_module_version": "1.2.0",
      "model_name": "LayoutModel",
      "state": {
       "_model_module": "@jupyter-widgets/base",
       "_model_module_version": "1.2.0",
       "_model_name": "LayoutModel",
       "_view_count": null,
       "_view_module": "@jupyter-widgets/base",
       "_view_module_version": "1.2.0",
       "_view_name": "LayoutView",
       "align_content": null,
       "align_items": null,
       "align_self": null,
       "border": null,
       "bottom": null,
       "display": null,
       "flex": null,
       "flex_flow": null,
       "grid_area": null,
       "grid_auto_columns": null,
       "grid_auto_flow": null,
       "grid_auto_rows": null,
       "grid_column": null,
       "grid_gap": null,
       "grid_row": null,
       "grid_template_areas": null,
       "grid_template_columns": null,
       "grid_template_rows": null,
       "height": null,
       "justify_content": null,
       "justify_items": null,
       "left": null,
       "margin": null,
       "max_height": null,
       "max_width": null,
       "min_height": null,
       "min_width": null,
       "object_fit": null,
       "object_position": null,
       "order": null,
       "overflow": null,
       "overflow_x": null,
       "overflow_y": null,
       "padding": null,
       "right": null,
       "top": null,
       "visibility": null,
       "width": null
      }
     },
     "b407c6788128495a970d250cc391542a": {
      "model_module": "@jupyter-widgets/controls",
      "model_module_version": "1.5.0",
      "model_name": "FloatProgressModel",
      "state": {
       "_dom_classes": [],
       "_model_module": "@jupyter-widgets/controls",
       "_model_module_version": "1.5.0",
       "_model_name": "FloatProgressModel",
       "_view_count": null,
       "_view_module": "@jupyter-widgets/controls",
       "_view_module_version": "1.5.0",
       "_view_name": "ProgressView",
       "bar_style": "success",
       "description": "",
       "description_tooltip": null,
       "layout": "IPY_MODEL_335f87b6648b4c8187619d31a16b7551",
       "max": 3.0,
       "min": 0.0,
       "orientation": "horizontal",
       "style": "IPY_MODEL_a984608bc8f54495a2423dbf7ab6296c",
       "value": 3.0
      }
     },
     "d2672c0afadc4691a1c989bbd2dd6d8f": {
      "model_module": "@jupyter-widgets/controls",
      "model_module_version": "1.5.0",
      "model_name": "DescriptionStyleModel",
      "state": {
       "_model_module": "@jupyter-widgets/controls",
       "_model_module_version": "1.5.0",
       "_model_name": "DescriptionStyleModel",
       "_view_count": null,
       "_view_module": "@jupyter-widgets/base",
       "_view_module_version": "1.2.0",
       "_view_name": "StyleView",
       "description_width": ""
      }
     },
     "d6b0c76aa3d24b6f8568d2053ad14114": {
      "model_module": "@jupyter-widgets/base",
      "model_module_version": "1.2.0",
      "model_name": "LayoutModel",
      "state": {
       "_model_module": "@jupyter-widgets/base",
       "_model_module_version": "1.2.0",
       "_model_name": "LayoutModel",
       "_view_count": null,
       "_view_module": "@jupyter-widgets/base",
       "_view_module_version": "1.2.0",
       "_view_name": "LayoutView",
       "align_content": null,
       "align_items": null,
       "align_self": null,
       "border": null,
       "bottom": null,
       "display": null,
       "flex": null,
       "flex_flow": null,
       "grid_area": null,
       "grid_auto_columns": null,
       "grid_auto_flow": null,
       "grid_auto_rows": null,
       "grid_column": null,
       "grid_gap": null,
       "grid_row": null,
       "grid_template_areas": null,
       "grid_template_columns": null,
       "grid_template_rows": null,
       "height": null,
       "justify_content": null,
       "justify_items": null,
       "left": null,
       "margin": null,
       "max_height": null,
       "max_width": null,
       "min_height": null,
       "min_width": null,
       "object_fit": null,
       "object_position": null,
       "order": null,
       "overflow": null,
       "overflow_x": null,
       "overflow_y": null,
       "padding": null,
       "right": null,
       "top": null,
       "visibility": null,
       "width": null
      }
     },
     "d6ce6837129844ddb16f727a0b061677": {
      "model_module": "@jupyter-widgets/controls",
      "model_module_version": "1.5.0",
      "model_name": "FloatProgressModel",
      "state": {
       "_dom_classes": [],
       "_model_module": "@jupyter-widgets/controls",
       "_model_module_version": "1.5.0",
       "_model_name": "FloatProgressModel",
       "_view_count": null,
       "_view_module": "@jupyter-widgets/controls",
       "_view_module_version": "1.5.0",
       "_view_name": "ProgressView",
       "bar_style": "success",
       "description": "",
       "description_tooltip": null,
       "layout": "IPY_MODEL_085b1b6c5502453cb15d37d2ccf579d9",
       "max": 44868.0,
       "min": 0.0,
       "orientation": "horizontal",
       "style": "IPY_MODEL_3eeea7d5d9f94bcb8785afe4161f47d4",
       "value": 44868.0
      }
     },
     "f0fbca4bad6f4b16b71856a67c3082a0": {
      "model_module": "@jupyter-widgets/base",
      "model_module_version": "1.2.0",
      "model_name": "LayoutModel",
      "state": {
       "_model_module": "@jupyter-widgets/base",
       "_model_module_version": "1.2.0",
       "_model_name": "LayoutModel",
       "_view_count": null,
       "_view_module": "@jupyter-widgets/base",
       "_view_module_version": "1.2.0",
       "_view_name": "LayoutView",
       "align_content": null,
       "align_items": null,
       "align_self": null,
       "border": null,
       "bottom": null,
       "display": null,
       "flex": null,
       "flex_flow": null,
       "grid_area": null,
       "grid_auto_columns": null,
       "grid_auto_flow": null,
       "grid_auto_rows": null,
       "grid_column": null,
       "grid_gap": null,
       "grid_row": null,
       "grid_template_areas": null,
       "grid_template_columns": null,
       "grid_template_rows": null,
       "height": null,
       "justify_content": null,
       "justify_items": null,
       "left": null,
       "margin": null,
       "max_height": null,
       "max_width": null,
       "min_height": null,
       "min_width": null,
       "object_fit": null,
       "object_position": null,
       "order": null,
       "overflow": null,
       "overflow_x": null,
       "overflow_y": null,
       "padding": null,
       "right": null,
       "top": null,
       "visibility": null,
       "width": null
      }
     },
     "f4ca953560e74201beddd28f1f7c9ca9": {
      "model_module": "@jupyter-widgets/controls",
      "model_module_version": "1.5.0",
      "model_name": "HBoxModel",
      "state": {
       "_dom_classes": [],
       "_model_module": "@jupyter-widgets/controls",
       "_model_module_version": "1.5.0",
       "_model_name": "HBoxModel",
       "_view_count": null,
       "_view_module": "@jupyter-widgets/controls",
       "_view_module_version": "1.5.0",
       "_view_name": "HBoxView",
       "box_style": "",
       "children": [
        "IPY_MODEL_0ce079c57dfe4de5a2886477aad0412e",
        "IPY_MODEL_b407c6788128495a970d250cc391542a",
        "IPY_MODEL_1a1e2f45144c42f591968d06ee47786d"
       ],
       "layout": "IPY_MODEL_f7de335688ff4fd3b9dcfec772687306"
      }
     },
     "f7de335688ff4fd3b9dcfec772687306": {
      "model_module": "@jupyter-widgets/base",
      "model_module_version": "1.2.0",
      "model_name": "LayoutModel",
      "state": {
       "_model_module": "@jupyter-widgets/base",
       "_model_module_version": "1.2.0",
       "_model_name": "LayoutModel",
       "_view_count": null,
       "_view_module": "@jupyter-widgets/base",
       "_view_module_version": "1.2.0",
       "_view_name": "LayoutView",
       "align_content": null,
       "align_items": null,
       "align_self": null,
       "border": null,
       "bottom": null,
       "display": null,
       "flex": null,
       "flex_flow": null,
       "grid_area": null,
       "grid_auto_columns": null,
       "grid_auto_flow": null,
       "grid_auto_rows": null,
       "grid_column": null,
       "grid_gap": null,
       "grid_row": null,
       "grid_template_areas": null,
       "grid_template_columns": null,
       "grid_template_rows": null,
       "height": null,
       "justify_content": null,
       "justify_items": null,
       "left": null,
       "margin": null,
       "max_height": null,
       "max_width": null,
       "min_height": null,
       "min_width": null,
       "object_fit": null,
       "object_position": null,
       "order": null,
       "overflow": null,
       "overflow_x": null,
       "overflow_y": null,
       "padding": null,
       "right": null,
       "top": null,
       "visibility": null,
       "width": null
      }
     },
     "fc7cc5d75ebb48dd9fa189ca4e6d41bc": {
      "model_module": "@jupyter-widgets/controls",
      "model_module_version": "1.5.0",
      "model_name": "DescriptionStyleModel",
      "state": {
       "_model_module": "@jupyter-widgets/controls",
       "_model_module_version": "1.5.0",
       "_model_name": "DescriptionStyleModel",
       "_view_count": null,
       "_view_module": "@jupyter-widgets/base",
       "_view_module_version": "1.2.0",
       "_view_name": "StyleView",
       "description_width": ""
      }
     },
     "fe977ace392744fc9df67b1ed32b04f3": {
      "model_module": "@jupyter-widgets/controls",
      "model_module_version": "1.5.0",
      "model_name": "HBoxModel",
      "state": {
       "_dom_classes": [],
       "_model_module": "@jupyter-widgets/controls",
       "_model_module_version": "1.5.0",
       "_model_name": "HBoxModel",
       "_view_count": null,
       "_view_module": "@jupyter-widgets/controls",
       "_view_module_version": "1.5.0",
       "_view_name": "HBoxView",
       "box_style": "",
       "children": [
        "IPY_MODEL_1377112ca23645fbad55cabbc77e71c2",
        "IPY_MODEL_d6ce6837129844ddb16f727a0b061677",
        "IPY_MODEL_029754c5d4244afc93cb2bfbdb02ee5e"
       ],
       "layout": "IPY_MODEL_f0fbca4bad6f4b16b71856a67c3082a0"
      }
     }
    },
    "version_major": 2,
    "version_minor": 0
   }
  }
 },
 "nbformat": 4,
 "nbformat_minor": 5
}
