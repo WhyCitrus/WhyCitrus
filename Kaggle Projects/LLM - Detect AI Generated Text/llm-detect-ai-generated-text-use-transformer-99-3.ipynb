{
 "cells": [
  {
   "cell_type": "markdown",
   "id": "97c13420",
   "metadata": {
    "papermill": {
     "duration": 0.01064,
     "end_time": "2024-01-29T19:28:53.774613",
     "exception": false,
     "start_time": "2024-01-29T19:28:53.763973",
     "status": "completed"
    },
    "tags": []
   },
   "source": [
    "# <p><center style=\"font-family:newtimeroman;font-size:180%;\">LLM Detect AI Generated Text </center></p>\n",
    "### Table of contents:\n",
    "\n",
    "* [Import Libraries](#1)\n",
    "* [Read Data](#2)\n",
    "* [Text Cleaning](#3)\n",
    "* [Text Vectorization](#4)\n",
    "* [TransformerBlock Model](#10)\n",
    "* [Evaluate The Model](#11)\n",
    "* [Submission](#12)"
   ]
  },
  {
   "cell_type": "markdown",
   "id": "197d3706",
   "metadata": {
    "papermill": {
     "duration": 0.00953,
     "end_time": "2024-01-29T19:28:53.793996",
     "exception": false,
     "start_time": "2024-01-29T19:28:53.784466",
     "status": "completed"
    },
    "tags": []
   },
   "source": [
    "**<a id=\"1\"></a>\n",
    "# <p style=\"background-image: url(https://i.postimg.cc/K87ByXmr/stage5.jpg);font-family:camtasia;font-size:120%;color:white;text-align:center;border-radius:15px 50px; padding:7px\">Import Libraries </p>\n",
    "<a class=\"btn\" href=\"#home\">Tabel of Contents</a>"
   ]
  },
  {
   "cell_type": "code",
   "execution_count": 1,
   "id": "70e1456a",
   "metadata": {
    "execution": {
     "iopub.execute_input": "2024-01-29T19:28:53.815332Z",
     "iopub.status.busy": "2024-01-29T19:28:53.814704Z",
     "iopub.status.idle": "2024-01-29T19:29:16.055532Z",
     "shell.execute_reply": "2024-01-29T19:29:16.054738Z"
    },
    "papermill": {
     "duration": 22.254025,
     "end_time": "2024-01-29T19:29:16.057838",
     "exception": false,
     "start_time": "2024-01-29T19:28:53.803813",
     "status": "completed"
    },
    "tags": []
   },
   "outputs": [
    {
     "name": "stderr",
     "output_type": "stream",
     "text": [
      "/opt/conda/lib/python3.10/site-packages/scipy/__init__.py:146: UserWarning: A NumPy version >=1.16.5 and <1.23.0 is required for this version of SciPy (detected version 1.24.3\n",
      "  warnings.warn(f\"A NumPy version >={np_minversion} and <{np_maxversion}\"\n"
     ]
    }
   ],
   "source": [
    "import pandas as pd\n",
    "import numpy as np\n",
    "import seaborn as sns\n",
    "import matplotlib.pyplot as plt\n",
    "import warnings\n",
    "warnings.filterwarnings(\"ignore\")\n",
    "import tensorflow as tf\n",
    "from sklearn.model_selection import train_test_split\n",
    "import re\n",
    "import tensorflow_text as tf_text\n",
    "from tensorflow.keras.layers import TextVectorization, Embedding, Bidirectional, LSTM, Conv1D, GlobalMaxPooling1D, Dense, Dropout\n",
    "from tensorflow.keras import Model, Input\n",
    "from keras.callbacks import EarlyStopping,ModelCheckpoint\n",
    "from sklearn.metrics import confusion_matrix\n",
    "from sklearn.metrics import classification_report\n",
    "from imblearn.over_sampling import SMOTE"
   ]
  },
  {
   "cell_type": "markdown",
   "id": "3fe66e40",
   "metadata": {
    "papermill": {
     "duration": 0.010034,
     "end_time": "2024-01-29T19:29:16.078775",
     "exception": false,
     "start_time": "2024-01-29T19:29:16.068741",
     "status": "completed"
    },
    "tags": []
   },
   "source": [
    "**<a id=\"2\"></a>\n",
    "# <p style=\"background-image: url(https://i.postimg.cc/K87ByXmr/stage5.jpg);font-family:camtasia;font-size:120%;color:white;text-align:center;border-radius:15px 50px; padding:7px\">Read Data </p>\n",
    "<a class=\"btn\" href=\"#home\">Tabel of Contents</a>"
   ]
  },
  {
   "cell_type": "code",
   "execution_count": 2,
   "id": "c31bfcab",
   "metadata": {
    "execution": {
     "iopub.execute_input": "2024-01-29T19:29:16.099724Z",
     "iopub.status.busy": "2024-01-29T19:29:16.099189Z",
     "iopub.status.idle": "2024-01-29T19:29:16.236890Z",
     "shell.execute_reply": "2024-01-29T19:29:16.236057Z"
    },
    "papermill": {
     "duration": 0.15034,
     "end_time": "2024-01-29T19:29:16.238862",
     "exception": false,
     "start_time": "2024-01-29T19:29:16.088522",
     "status": "completed"
    },
    "tags": []
   },
   "outputs": [
    {
     "data": {
      "text/html": [
       "<div>\n",
       "<style scoped>\n",
       "    .dataframe tbody tr th:only-of-type {\n",
       "        vertical-align: middle;\n",
       "    }\n",
       "\n",
       "    .dataframe tbody tr th {\n",
       "        vertical-align: top;\n",
       "    }\n",
       "\n",
       "    .dataframe thead th {\n",
       "        text-align: right;\n",
       "    }\n",
       "</style>\n",
       "<table border=\"1\" class=\"dataframe\">\n",
       "  <thead>\n",
       "    <tr style=\"text-align: right;\">\n",
       "      <th></th>\n",
       "      <th>id</th>\n",
       "      <th>prompt_id</th>\n",
       "      <th>text</th>\n",
       "      <th>generated</th>\n",
       "    </tr>\n",
       "  </thead>\n",
       "  <tbody>\n",
       "    <tr>\n",
       "      <th>0</th>\n",
       "      <td>0059830c</td>\n",
       "      <td>0</td>\n",
       "      <td>Cars. Cars have been around since they became ...</td>\n",
       "      <td>0</td>\n",
       "    </tr>\n",
       "    <tr>\n",
       "      <th>1</th>\n",
       "      <td>005db917</td>\n",
       "      <td>0</td>\n",
       "      <td>Transportation is a large necessity in most co...</td>\n",
       "      <td>0</td>\n",
       "    </tr>\n",
       "    <tr>\n",
       "      <th>2</th>\n",
       "      <td>008f63e3</td>\n",
       "      <td>0</td>\n",
       "      <td>\"America's love affair with it's vehicles seem...</td>\n",
       "      <td>0</td>\n",
       "    </tr>\n",
       "    <tr>\n",
       "      <th>3</th>\n",
       "      <td>00940276</td>\n",
       "      <td>0</td>\n",
       "      <td>How often do you ride in a car? Do you drive a...</td>\n",
       "      <td>0</td>\n",
       "    </tr>\n",
       "    <tr>\n",
       "      <th>4</th>\n",
       "      <td>00c39458</td>\n",
       "      <td>0</td>\n",
       "      <td>Cars are a wonderful thing. They are perhaps o...</td>\n",
       "      <td>0</td>\n",
       "    </tr>\n",
       "  </tbody>\n",
       "</table>\n",
       "</div>"
      ],
      "text/plain": [
       "         id  prompt_id                                               text  \\\n",
       "0  0059830c          0  Cars. Cars have been around since they became ...   \n",
       "1  005db917          0  Transportation is a large necessity in most co...   \n",
       "2  008f63e3          0  \"America's love affair with it's vehicles seem...   \n",
       "3  00940276          0  How often do you ride in a car? Do you drive a...   \n",
       "4  00c39458          0  Cars are a wonderful thing. They are perhaps o...   \n",
       "\n",
       "   generated  \n",
       "0          0  \n",
       "1          0  \n",
       "2          0  \n",
       "3          0  \n",
       "4          0  "
      ]
     },
     "execution_count": 2,
     "metadata": {},
     "output_type": "execute_result"
    }
   ],
   "source": [
    "train=pd.read_csv('/kaggle/input/llm-detect-ai-generated-text/train_essays.csv')\n",
    "train.head()"
   ]
  },
  {
   "cell_type": "code",
   "execution_count": 3,
   "id": "7540afad",
   "metadata": {
    "execution": {
     "iopub.execute_input": "2024-01-29T19:29:16.261736Z",
     "iopub.status.busy": "2024-01-29T19:29:16.261450Z",
     "iopub.status.idle": "2024-01-29T19:29:16.276920Z",
     "shell.execute_reply": "2024-01-29T19:29:16.276045Z"
    },
    "papermill": {
     "duration": 0.028628,
     "end_time": "2024-01-29T19:29:16.278792",
     "exception": false,
     "start_time": "2024-01-29T19:29:16.250164",
     "status": "completed"
    },
    "tags": []
   },
   "outputs": [
    {
     "data": {
      "text/html": [
       "<div>\n",
       "<style scoped>\n",
       "    .dataframe tbody tr th:only-of-type {\n",
       "        vertical-align: middle;\n",
       "    }\n",
       "\n",
       "    .dataframe tbody tr th {\n",
       "        vertical-align: top;\n",
       "    }\n",
       "\n",
       "    .dataframe thead th {\n",
       "        text-align: right;\n",
       "    }\n",
       "</style>\n",
       "<table border=\"1\" class=\"dataframe\">\n",
       "  <thead>\n",
       "    <tr style=\"text-align: right;\">\n",
       "      <th></th>\n",
       "      <th>id</th>\n",
       "      <th>prompt_id</th>\n",
       "      <th>text</th>\n",
       "    </tr>\n",
       "  </thead>\n",
       "  <tbody>\n",
       "    <tr>\n",
       "      <th>0</th>\n",
       "      <td>0000aaaa</td>\n",
       "      <td>2</td>\n",
       "      <td>Aaa bbb ccc.</td>\n",
       "    </tr>\n",
       "    <tr>\n",
       "      <th>1</th>\n",
       "      <td>1111bbbb</td>\n",
       "      <td>3</td>\n",
       "      <td>Bbb ccc ddd.</td>\n",
       "    </tr>\n",
       "    <tr>\n",
       "      <th>2</th>\n",
       "      <td>2222cccc</td>\n",
       "      <td>4</td>\n",
       "      <td>CCC ddd eee.</td>\n",
       "    </tr>\n",
       "  </tbody>\n",
       "</table>\n",
       "</div>"
      ],
      "text/plain": [
       "         id  prompt_id          text\n",
       "0  0000aaaa          2  Aaa bbb ccc.\n",
       "1  1111bbbb          3  Bbb ccc ddd.\n",
       "2  2222cccc          4  CCC ddd eee."
      ]
     },
     "execution_count": 3,
     "metadata": {},
     "output_type": "execute_result"
    }
   ],
   "source": [
    "test=pd.read_csv('/kaggle/input/llm-detect-ai-generated-text/test_essays.csv')\n",
    "test.head()"
   ]
  },
  {
   "cell_type": "code",
   "execution_count": 4,
   "id": "db4ed4ae",
   "metadata": {
    "execution": {
     "iopub.execute_input": "2024-01-29T19:29:16.300506Z",
     "iopub.status.busy": "2024-01-29T19:29:16.300259Z",
     "iopub.status.idle": "2024-01-29T19:29:16.315161Z",
     "shell.execute_reply": "2024-01-29T19:29:16.314304Z"
    },
    "papermill": {
     "duration": 0.027971,
     "end_time": "2024-01-29T19:29:16.317119",
     "exception": false,
     "start_time": "2024-01-29T19:29:16.289148",
     "status": "completed"
    },
    "tags": []
   },
   "outputs": [
    {
     "data": {
      "text/html": [
       "<div>\n",
       "<style scoped>\n",
       "    .dataframe tbody tr th:only-of-type {\n",
       "        vertical-align: middle;\n",
       "    }\n",
       "\n",
       "    .dataframe tbody tr th {\n",
       "        vertical-align: top;\n",
       "    }\n",
       "\n",
       "    .dataframe thead th {\n",
       "        text-align: right;\n",
       "    }\n",
       "</style>\n",
       "<table border=\"1\" class=\"dataframe\">\n",
       "  <thead>\n",
       "    <tr style=\"text-align: right;\">\n",
       "      <th></th>\n",
       "      <th>prompt_id</th>\n",
       "      <th>prompt_name</th>\n",
       "      <th>instructions</th>\n",
       "      <th>source_text</th>\n",
       "    </tr>\n",
       "  </thead>\n",
       "  <tbody>\n",
       "    <tr>\n",
       "      <th>0</th>\n",
       "      <td>0</td>\n",
       "      <td>Car-free cities</td>\n",
       "      <td>Write an explanatory essay to inform fellow ci...</td>\n",
       "      <td># In German Suburb, Life Goes On Without Cars ...</td>\n",
       "    </tr>\n",
       "    <tr>\n",
       "      <th>1</th>\n",
       "      <td>1</td>\n",
       "      <td>Does the electoral college work?</td>\n",
       "      <td>Write a letter to your state senator in which ...</td>\n",
       "      <td># What Is the Electoral College? by the Office...</td>\n",
       "    </tr>\n",
       "  </tbody>\n",
       "</table>\n",
       "</div>"
      ],
      "text/plain": [
       "   prompt_id                       prompt_name  \\\n",
       "0          0                   Car-free cities   \n",
       "1          1  Does the electoral college work?   \n",
       "\n",
       "                                        instructions  \\\n",
       "0  Write an explanatory essay to inform fellow ci...   \n",
       "1  Write a letter to your state senator in which ...   \n",
       "\n",
       "                                         source_text  \n",
       "0  # In German Suburb, Life Goes On Without Cars ...  \n",
       "1  # What Is the Electoral College? by the Office...  "
      ]
     },
     "execution_count": 4,
     "metadata": {},
     "output_type": "execute_result"
    }
   ],
   "source": [
    "train_prompts=pd.read_csv('/kaggle/input/llm-detect-ai-generated-text/train_prompts.csv')\n",
    "train_prompts.head()"
   ]
  },
  {
   "cell_type": "code",
   "execution_count": 5,
   "id": "a6370d1b",
   "metadata": {
    "execution": {
     "iopub.execute_input": "2024-01-29T19:29:16.339987Z",
     "iopub.status.busy": "2024-01-29T19:29:16.339713Z",
     "iopub.status.idle": "2024-01-29T19:29:16.358739Z",
     "shell.execute_reply": "2024-01-29T19:29:16.357917Z"
    },
    "papermill": {
     "duration": 0.032305,
     "end_time": "2024-01-29T19:29:16.360654",
     "exception": false,
     "start_time": "2024-01-29T19:29:16.328349",
     "status": "completed"
    },
    "tags": []
   },
   "outputs": [
    {
     "data": {
      "text/plain": [
       "prompt_id\n",
       "0    708\n",
       "1    670\n",
       "Name: count, dtype: int64"
      ]
     },
     "execution_count": 5,
     "metadata": {},
     "output_type": "execute_result"
    }
   ],
   "source": [
    "train['prompt_id'].value_counts()"
   ]
  },
  {
   "cell_type": "code",
   "execution_count": 6,
   "id": "e7f0d18b",
   "metadata": {
    "execution": {
     "iopub.execute_input": "2024-01-29T19:29:16.382945Z",
     "iopub.status.busy": "2024-01-29T19:29:16.382418Z",
     "iopub.status.idle": "2024-01-29T19:29:16.691529Z",
     "shell.execute_reply": "2024-01-29T19:29:16.690671Z"
    },
    "papermill": {
     "duration": 0.32236,
     "end_time": "2024-01-29T19:29:16.693595",
     "exception": false,
     "start_time": "2024-01-29T19:29:16.371235",
     "status": "completed"
    },
    "tags": []
   },
   "outputs": [
    {
     "data": {
      "image/png": "[encoded data removed]",
      "text/plain": [
       "<Figure size 800x500 with 1 Axes>"
      ]
     },
     "metadata": {},
     "output_type": "display_data"
    }
   ],
   "source": [
    "plt.figure(figsize=(8,5))\n",
    "ax=sns.countplot(data=train,x=\"prompt_id\",palette='Set3')\n",
    "abs_values = train['prompt_id'].value_counts().values\n",
    "ax.bar_label(container=ax.containers[0], labels=abs_values)\n",
    "ax.set_title(\"Distribution Of Prompt ID\")\n",
    "plt.grid(True)\n",
    "plt.xticks(rotation=45)\n",
    "plt.yticks(rotation=45)\n",
    "plt.show()"
   ]
  },
  {
   "cell_type": "code",
   "execution_count": 7,
   "id": "b677539f",
   "metadata": {
    "execution": {
     "iopub.execute_input": "2024-01-29T19:29:16.716953Z",
     "iopub.status.busy": "2024-01-29T19:29:16.716662Z",
     "iopub.status.idle": "2024-01-29T19:29:16.723130Z",
     "shell.execute_reply": "2024-01-29T19:29:16.722258Z"
    },
    "papermill": {
     "duration": 0.020259,
     "end_time": "2024-01-29T19:29:16.725043",
     "exception": false,
     "start_time": "2024-01-29T19:29:16.704784",
     "status": "completed"
    },
    "tags": []
   },
   "outputs": [
    {
     "data": {
      "text/plain": [
       "generated\n",
       "0    1375\n",
       "1       3\n",
       "Name: count, dtype: int64"
      ]
     },
     "execution_count": 7,
     "metadata": {},
     "output_type": "execute_result"
    }
   ],
   "source": [
    "train['generated'].value_counts()"
   ]
  },
  {
   "cell_type": "code",
   "execution_count": 8,
   "id": "747f500e",
   "metadata": {
    "execution": {
     "iopub.execute_input": "2024-01-29T19:29:16.748722Z",
     "iopub.status.busy": "2024-01-29T19:29:16.748097Z",
     "iopub.status.idle": "2024-01-29T19:29:16.998977Z",
     "shell.execute_reply": "2024-01-29T19:29:16.998063Z"
    },
    "papermill": {
     "duration": 0.264732,
     "end_time": "2024-01-29T19:29:17.000915",
     "exception": false,
     "start_time": "2024-01-29T19:29:16.736183",
     "status": "completed"
    },
    "tags": []
   },
   "outputs": [
    {
     "data": {
      "image/png": "[encoded data removed]",
      "text/plain": [
       "<Figure size 800x500 with 1 Axes>"
      ]
     },
     "metadata": {},
     "output_type": "display_data"
    }
   ],
   "source": [
    "plt.figure(figsize=(8,5))\n",
    "ax=sns.countplot(data=train,x=\"generated\",palette='Set3')\n",
    "abs_values = train['generated'].value_counts().values\n",
    "ax.bar_label(container=ax.containers[0], labels=abs_values)\n",
    "ax.set_title(\"Distribution Of Generated\")\n",
    "plt.grid(True)\n",
    "plt.xticks(rotation=45)\n",
    "plt.yticks(rotation=45)\n",
    "plt.show()"
   ]
  },
  {
   "cell_type": "code",
   "execution_count": 9,
   "id": "19f32619",
   "metadata": {
    "execution": {
     "iopub.execute_input": "2024-01-29T19:29:17.025031Z",
     "iopub.status.busy": "2024-01-29T19:29:17.024749Z",
     "iopub.status.idle": "2024-01-29T19:29:19.302187Z",
     "shell.execute_reply": "2024-01-29T19:29:19.300960Z"
    },
    "papermill": {
     "duration": 2.292016,
     "end_time": "2024-01-29T19:29:19.304467",
     "exception": false,
     "start_time": "2024-01-29T19:29:17.012451",
     "status": "completed"
    },
    "tags": []
   },
   "outputs": [
    {
     "data": {
      "text/html": [
       "<div>\n",
       "<style scoped>\n",
       "    .dataframe tbody tr th:only-of-type {\n",
       "        vertical-align: middle;\n",
       "    }\n",
       "\n",
       "    .dataframe tbody tr th {\n",
       "        vertical-align: top;\n",
       "    }\n",
       "\n",
       "    .dataframe thead th {\n",
       "        text-align: right;\n",
       "    }\n",
       "</style>\n",
       "<table border=\"1\" class=\"dataframe\">\n",
       "  <thead>\n",
       "    <tr style=\"text-align: right;\">\n",
       "      <th></th>\n",
       "      <th>text</th>\n",
       "      <th>label</th>\n",
       "      <th>prompt_name</th>\n",
       "      <th>source</th>\n",
       "      <th>RDizzl3_seven</th>\n",
       "    </tr>\n",
       "  </thead>\n",
       "  <tbody>\n",
       "    <tr>\n",
       "      <th>0</th>\n",
       "      <td>Phones\\n\\nModern humans today are always on th...</td>\n",
       "      <td>0</td>\n",
       "      <td>Phones and driving</td>\n",
       "      <td>persuade_corpus</td>\n",
       "      <td>False</td>\n",
       "    </tr>\n",
       "    <tr>\n",
       "      <th>1</th>\n",
       "      <td>This essay will explain if drivers should or s...</td>\n",
       "      <td>0</td>\n",
       "      <td>Phones and driving</td>\n",
       "      <td>persuade_corpus</td>\n",
       "      <td>False</td>\n",
       "    </tr>\n",
       "    <tr>\n",
       "      <th>2</th>\n",
       "      <td>Driving while the use of cellular devices\\n\\nT...</td>\n",
       "      <td>0</td>\n",
       "      <td>Phones and driving</td>\n",
       "      <td>persuade_corpus</td>\n",
       "      <td>False</td>\n",
       "    </tr>\n",
       "    <tr>\n",
       "      <th>3</th>\n",
       "      <td>Phones &amp; Driving\\n\\nDrivers should not be able...</td>\n",
       "      <td>0</td>\n",
       "      <td>Phones and driving</td>\n",
       "      <td>persuade_corpus</td>\n",
       "      <td>False</td>\n",
       "    </tr>\n",
       "    <tr>\n",
       "      <th>4</th>\n",
       "      <td>Cell Phone Operation While Driving\\n\\nThe abil...</td>\n",
       "      <td>0</td>\n",
       "      <td>Phones and driving</td>\n",
       "      <td>persuade_corpus</td>\n",
       "      <td>False</td>\n",
       "    </tr>\n",
       "  </tbody>\n",
       "</table>\n",
       "</div>"
      ],
      "text/plain": [
       "                                                text  label  \\\n",
       "0  Phones\\n\\nModern humans today are always on th...      0   \n",
       "1  This essay will explain if drivers should or s...      0   \n",
       "2  Driving while the use of cellular devices\\n\\nT...      0   \n",
       "3  Phones & Driving\\n\\nDrivers should not be able...      0   \n",
       "4  Cell Phone Operation While Driving\\n\\nThe abil...      0   \n",
       "\n",
       "          prompt_name           source  RDizzl3_seven  \n",
       "0  Phones and driving  persuade_corpus          False  \n",
       "1  Phones and driving  persuade_corpus          False  \n",
       "2  Phones and driving  persuade_corpus          False  \n",
       "3  Phones and driving  persuade_corpus          False  \n",
       "4  Phones and driving  persuade_corpus          False  "
      ]
     },
     "execution_count": 9,
     "metadata": {},
     "output_type": "execute_result"
    }
   ],
   "source": [
    "new_data=pd.read_csv('/kaggle/input/daigt-v2-train-dataset/train_v2_drcat_02.csv')\n",
    "new_data.head()"
   ]
  },
  {
   "cell_type": "code",
   "execution_count": 10,
   "id": "c5eca513",
   "metadata": {
    "execution": {
     "iopub.execute_input": "2024-01-29T19:29:19.331614Z",
     "iopub.status.busy": "2024-01-29T19:29:19.331277Z",
     "iopub.status.idle": "2024-01-29T19:29:19.339398Z",
     "shell.execute_reply": "2024-01-29T19:29:19.338346Z"
    },
    "papermill": {
     "duration": 0.024099,
     "end_time": "2024-01-29T19:29:19.341454",
     "exception": false,
     "start_time": "2024-01-29T19:29:19.317355",
     "status": "completed"
    },
    "tags": []
   },
   "outputs": [
    {
     "data": {
      "text/plain": [
       "label\n",
       "0    27371\n",
       "1    17497\n",
       "Name: count, dtype: int64"
      ]
     },
     "execution_count": 10,
     "metadata": {},
     "output_type": "execute_result"
    }
   ],
   "source": [
    "new_data.label.value_counts()"
   ]
  },
  {
   "cell_type": "code",
   "execution_count": 11,
   "id": "72deaa8e",
   "metadata": {
    "execution": {
     "iopub.execute_input": "2024-01-29T19:29:19.369378Z",
     "iopub.status.busy": "2024-01-29T19:29:19.369012Z",
     "iopub.status.idle": "2024-01-29T19:29:19.377103Z",
     "shell.execute_reply": "2024-01-29T19:29:19.376204Z"
    },
    "papermill": {
     "duration": 0.025026,
     "end_time": "2024-01-29T19:29:19.379459",
     "exception": false,
     "start_time": "2024-01-29T19:29:19.354433",
     "status": "completed"
    },
    "tags": []
   },
   "outputs": [
    {
     "data": {
      "text/plain": [
       "prompt_name\n",
       "Car-free cities                     1\n",
       "Does the electoral college work?    1\n",
       "Name: count, dtype: int64"
      ]
     },
     "execution_count": 11,
     "metadata": {},
     "output_type": "execute_result"
    }
   ],
   "source": [
    "train_prompts.prompt_name.value_counts()"
   ]
  },
  {
   "cell_type": "code",
   "execution_count": 12,
   "id": "165330cd",
   "metadata": {
    "execution": {
     "iopub.execute_input": "2024-01-29T19:29:19.412412Z",
     "iopub.status.busy": "2024-01-29T19:29:19.411791Z",
     "iopub.status.idle": "2024-01-29T19:29:19.427206Z",
     "shell.execute_reply": "2024-01-29T19:29:19.426326Z"
    },
    "papermill": {
     "duration": 0.031438,
     "end_time": "2024-01-29T19:29:19.429272",
     "exception": false,
     "start_time": "2024-01-29T19:29:19.397834",
     "status": "completed"
    },
    "tags": []
   },
   "outputs": [
    {
     "data": {
      "text/plain": [
       "prompt_name\n",
       "Distance learning                        5554\n",
       "Seeking multiple opinions                5176\n",
       "Car-free cities                          4717\n",
       "Does the electoral college work?         4434\n",
       "Facial action coding system              3084\n",
       "Mandatory extracurricular activities     3077\n",
       "Summer projects                          2701\n",
       "Driverless cars                          2250\n",
       "Exploring Venus                          2176\n",
       "Cell phones at school                    2119\n",
       "Grades for extracurricular activities    2116\n",
       "Community service                        2092\n",
       "\"A Cowboy Who Rode the Waves\"            1896\n",
       "The Face on Mars                         1893\n",
       "Phones and driving                       1583\n",
       "Name: count, dtype: int64"
      ]
     },
     "execution_count": 12,
     "metadata": {},
     "output_type": "execute_result"
    }
   ],
   "source": [
    "new_data.prompt_name.value_counts()"
   ]
  },
  {
   "cell_type": "code",
   "execution_count": 13,
   "id": "74a567b5",
   "metadata": {
    "execution": {
     "iopub.execute_input": "2024-01-29T19:29:19.457337Z",
     "iopub.status.busy": "2024-01-29T19:29:19.456986Z",
     "iopub.status.idle": "2024-01-29T19:29:19.481326Z",
     "shell.execute_reply": "2024-01-29T19:29:19.480455Z"
    },
    "papermill": {
     "duration": 0.039859,
     "end_time": "2024-01-29T19:29:19.483369",
     "exception": false,
     "start_time": "2024-01-29T19:29:19.443510",
     "status": "completed"
    },
    "tags": []
   },
   "outputs": [
    {
     "data": {
      "text/html": [
       "<div>\n",
       "<style scoped>\n",
       "    .dataframe tbody tr th:only-of-type {\n",
       "        vertical-align: middle;\n",
       "    }\n",
       "\n",
       "    .dataframe tbody tr th {\n",
       "        vertical-align: top;\n",
       "    }\n",
       "\n",
       "    .dataframe thead th {\n",
       "        text-align: right;\n",
       "    }\n",
       "</style>\n",
       "<table border=\"1\" class=\"dataframe\">\n",
       "  <thead>\n",
       "    <tr style=\"text-align: right;\">\n",
       "      <th></th>\n",
       "      <th>text</th>\n",
       "      <th>label</th>\n",
       "    </tr>\n",
       "  </thead>\n",
       "  <tbody>\n",
       "    <tr>\n",
       "      <th>1168</th>\n",
       "      <td>Cars have been around for awhile and they have...</td>\n",
       "      <td>0</td>\n",
       "    </tr>\n",
       "    <tr>\n",
       "      <th>1169</th>\n",
       "      <td>Have you ever thought what it would be like no...</td>\n",
       "      <td>0</td>\n",
       "    </tr>\n",
       "    <tr>\n",
       "      <th>1170</th>\n",
       "      <td>What you are about to read is going to give yo...</td>\n",
       "      <td>0</td>\n",
       "    </tr>\n",
       "    <tr>\n",
       "      <th>1171</th>\n",
       "      <td>cars have many flaws nd and in this day and ag...</td>\n",
       "      <td>0</td>\n",
       "    </tr>\n",
       "    <tr>\n",
       "      <th>1172</th>\n",
       "      <td>There are many advantages of limiting car usag...</td>\n",
       "      <td>0</td>\n",
       "    </tr>\n",
       "    <tr>\n",
       "      <th>...</th>\n",
       "      <td>...</td>\n",
       "      <td>...</td>\n",
       "    </tr>\n",
       "    <tr>\n",
       "      <th>44863</th>\n",
       "      <td>Dear Senator,\\n\\nI am writing to you today to ...</td>\n",
       "      <td>1</td>\n",
       "    </tr>\n",
       "    <tr>\n",
       "      <th>44864</th>\n",
       "      <td>Dear Senator,\\n\\nI am writing to you today to ...</td>\n",
       "      <td>1</td>\n",
       "    </tr>\n",
       "    <tr>\n",
       "      <th>44865</th>\n",
       "      <td>Dear Senator,\\n\\nI am writing to you today to ...</td>\n",
       "      <td>1</td>\n",
       "    </tr>\n",
       "    <tr>\n",
       "      <th>44866</th>\n",
       "      <td>Dear Senator,\\n\\nI am writing to you today to ...</td>\n",
       "      <td>1</td>\n",
       "    </tr>\n",
       "    <tr>\n",
       "      <th>44867</th>\n",
       "      <td>Dear Senator,\\n\\nI am writing to you today to ...</td>\n",
       "      <td>1</td>\n",
       "    </tr>\n",
       "  </tbody>\n",
       "</table>\n",
       "<p>9151 rows × 2 columns</p>\n",
       "</div>"
      ],
      "text/plain": [
       "                                                    text  label\n",
       "1168   Cars have been around for awhile and they have...      0\n",
       "1169   Have you ever thought what it would be like no...      0\n",
       "1170   What you are about to read is going to give yo...      0\n",
       "1171   cars have many flaws nd and in this day and ag...      0\n",
       "1172   There are many advantages of limiting car usag...      0\n",
       "...                                                  ...    ...\n",
       "44863  Dear Senator,\\n\\nI am writing to you today to ...      1\n",
       "44864  Dear Senator,\\n\\nI am writing to you today to ...      1\n",
       "44865  Dear Senator,\\n\\nI am writing to you today to ...      1\n",
       "44866  Dear Senator,\\n\\nI am writing to you today to ...      1\n",
       "44867  Dear Senator,\\n\\nI am writing to you today to ...      1\n",
       "\n",
       "[9151 rows x 2 columns]"
      ]
     },
     "execution_count": 13,
     "metadata": {},
     "output_type": "execute_result"
    }
   ],
   "source": [
    "new_=new_data.iloc[:, 0:2][new_data['prompt_name'].isin(train_prompts['prompt_name'].values)]\n",
    "new_"
   ]
  },
  {
   "cell_type": "code",
   "execution_count": 14,
   "id": "4b9ff0aa",
   "metadata": {
    "execution": {
     "iopub.execute_input": "2024-01-29T19:29:19.509788Z",
     "iopub.status.busy": "2024-01-29T19:29:19.509144Z",
     "iopub.status.idle": "2024-01-29T19:29:19.523497Z",
     "shell.execute_reply": "2024-01-29T19:29:19.522641Z"
    },
    "papermill": {
     "duration": 0.02967,
     "end_time": "2024-01-29T19:29:19.525473",
     "exception": false,
     "start_time": "2024-01-29T19:29:19.495803",
     "status": "completed"
    },
    "tags": []
   },
   "outputs": [
    {
     "data": {
      "text/html": [
       "<div>\n",
       "<style scoped>\n",
       "    .dataframe tbody tr th:only-of-type {\n",
       "        vertical-align: middle;\n",
       "    }\n",
       "\n",
       "    .dataframe tbody tr th {\n",
       "        vertical-align: top;\n",
       "    }\n",
       "\n",
       "    .dataframe thead th {\n",
       "        text-align: right;\n",
       "    }\n",
       "</style>\n",
       "<table border=\"1\" class=\"dataframe\">\n",
       "  <thead>\n",
       "    <tr style=\"text-align: right;\">\n",
       "      <th></th>\n",
       "      <th>text</th>\n",
       "      <th>label</th>\n",
       "    </tr>\n",
       "  </thead>\n",
       "  <tbody>\n",
       "    <tr>\n",
       "      <th>0</th>\n",
       "      <td>Cars have been around for awhile and they have...</td>\n",
       "      <td>0</td>\n",
       "    </tr>\n",
       "    <tr>\n",
       "      <th>1</th>\n",
       "      <td>Have you ever thought what it would be like no...</td>\n",
       "      <td>0</td>\n",
       "    </tr>\n",
       "    <tr>\n",
       "      <th>2</th>\n",
       "      <td>What you are about to read is going to give yo...</td>\n",
       "      <td>0</td>\n",
       "    </tr>\n",
       "    <tr>\n",
       "      <th>3</th>\n",
       "      <td>cars have many flaws nd and in this day and ag...</td>\n",
       "      <td>0</td>\n",
       "    </tr>\n",
       "    <tr>\n",
       "      <th>4</th>\n",
       "      <td>There are many advantages of limiting car usag...</td>\n",
       "      <td>0</td>\n",
       "    </tr>\n",
       "  </tbody>\n",
       "</table>\n",
       "</div>"
      ],
      "text/plain": [
       "                                                text  label\n",
       "0  Cars have been around for awhile and they have...      0\n",
       "1  Have you ever thought what it would be like no...      0\n",
       "2  What you are about to read is going to give yo...      0\n",
       "3  cars have many flaws nd and in this day and ag...      0\n",
       "4  There are many advantages of limiting car usag...      0"
      ]
     },
     "execution_count": 14,
     "metadata": {},
     "output_type": "execute_result"
    }
   ],
   "source": [
    "t=train.iloc[:,2:]\n",
    "t.columns=['text','label']\n",
    "train_data=pd.concat([new_,t])\n",
    "train_data=train_data.reset_index().iloc[:,1:]\n",
    "train_data.head()"
   ]
  },
  {
   "cell_type": "code",
   "execution_count": 15,
   "id": "4635461b",
   "metadata": {
    "execution": {
     "iopub.execute_input": "2024-01-29T19:29:19.593463Z",
     "iopub.status.busy": "2024-01-29T19:29:19.592692Z",
     "iopub.status.idle": "2024-01-29T19:29:19.601015Z",
     "shell.execute_reply": "2024-01-29T19:29:19.600009Z"
    },
    "papermill": {
     "duration": 0.024595,
     "end_time": "2024-01-29T19:29:19.602948",
     "exception": false,
     "start_time": "2024-01-29T19:29:19.578353",
     "status": "completed"
    },
    "tags": []
   },
   "outputs": [
    {
     "data": {
      "text/plain": [
       "label\n",
       "0    6755\n",
       "1    3774\n",
       "Name: count, dtype: int64"
      ]
     },
     "execution_count": 15,
     "metadata": {},
     "output_type": "execute_result"
    }
   ],
   "source": [
    "train_data.label.value_counts()"
   ]
  },
  {
   "cell_type": "code",
   "execution_count": 16,
   "id": "2f7ffeb2",
   "metadata": {
    "execution": {
     "iopub.execute_input": "2024-01-29T19:29:19.630035Z",
     "iopub.status.busy": "2024-01-29T19:29:19.629361Z",
     "iopub.status.idle": "2024-01-29T19:29:19.886229Z",
     "shell.execute_reply": "2024-01-29T19:29:19.885384Z"
    },
    "papermill": {
     "duration": 0.27305,
     "end_time": "2024-01-29T19:29:19.888680",
     "exception": false,
     "start_time": "2024-01-29T19:29:19.615630",
     "status": "completed"
    },
    "tags": []
   },
   "outputs": [
    {
     "data": {
      "image/png": "[encoded data removed]",
      "text/plain": [
       "<Figure size 800x500 with 1 Axes>"
      ]
     },
     "metadata": {},
     "output_type": "display_data"
    }
   ],
   "source": [
    "plt.figure(figsize=(8,5))\n",
    "ax=sns.countplot(data=train_data,x=\"label\",palette='Set3')\n",
    "abs_values = train_data['label'].value_counts().values\n",
    "ax.bar_label(container=ax.containers[0], labels=abs_values)\n",
    "ax.set_title(\"Distribution Of Label\")\n",
    "plt.grid(True)\n",
    "plt.xticks(rotation=45)\n",
    "plt.yticks(rotation=45)\n",
    "plt.show()"
   ]
  },
  {
   "cell_type": "markdown",
   "id": "bbb2afc2",
   "metadata": {
    "papermill": {
     "duration": 0.013166,
     "end_time": "2024-01-29T19:29:19.917582",
     "exception": false,
     "start_time": "2024-01-29T19:29:19.904416",
     "status": "completed"
    },
    "tags": []
   },
   "source": [
    "**<a id=\"3\"></a>\n",
    "# <p style=\"background-image: url(https://i.postimg.cc/K87ByXmr/stage5.jpg);font-family:camtasia;font-size:120%;color:white;text-align:center;border-radius:15px 50px; padding:7px\">Text Cleaning </p>\n",
    "<a class=\"btn\" href=\"#home\">Tabel of Contents</a>"
   ]
  },
  {
   "cell_type": "code",
   "execution_count": 17,
   "id": "3d14d358",
   "metadata": {
    "execution": {
     "iopub.execute_input": "2024-01-29T19:29:19.945158Z",
     "iopub.status.busy": "2024-01-29T19:29:19.944847Z",
     "iopub.status.idle": "2024-01-29T19:29:19.951819Z",
     "shell.execute_reply": "2024-01-29T19:29:19.950998Z"
    },
    "papermill": {
     "duration": 0.022838,
     "end_time": "2024-01-29T19:29:19.953658",
     "exception": false,
     "start_time": "2024-01-29T19:29:19.930820",
     "status": "completed"
    },
    "tags": []
   },
   "outputs": [],
   "source": [
    "def Clean(text):\n",
    "    text = tf_text.normalize_utf8(text, 'NFKD')\n",
    "    text = tf.strings.lower(text)\n",
    "    text = tf.strings.regex_replace(text, '[^ a-z.?!,¿]', '')\n",
    "    text = tf.strings.regex_replace(text, '[.?!,¿]', r' \\0 ')\n",
    "    text = tf.strings.strip(text)\n",
    "    text = tf.strings.regex_replace(text, '\\.\\.\\.', ' ')\n",
    "    text = tf.strings.join(['',text, ''], separator=' ')\n",
    "    return text\n",
    "def clean_text(text):\n",
    "    # Remove Twitter handles starting with '@'\n",
    "    text = re.sub(r'@\\w+', '', text)\n",
    "    # Remove non-alphanumeric characters and extra whitespace\n",
    "    text = re.sub(r'[^a-zA-Z\\s]', '', text)\n",
    "    # Convert multiple whitespace characters to a single space\n",
    "    text = re.sub(r'\\s+', ' ', text)\n",
    "    # Convert the text to lowercase\n",
    "    text = text.lower()\n",
    "    return text"
   ]
  },
  {
   "cell_type": "code",
   "execution_count": 18,
   "id": "0136fb6b",
   "metadata": {
    "execution": {
     "iopub.execute_input": "2024-01-29T19:29:19.981602Z",
     "iopub.status.busy": "2024-01-29T19:29:19.980874Z",
     "iopub.status.idle": "2024-01-29T19:29:19.987252Z",
     "shell.execute_reply": "2024-01-29T19:29:19.986310Z"
    },
    "papermill": {
     "duration": 0.022438,
     "end_time": "2024-01-29T19:29:19.989278",
     "exception": false,
     "start_time": "2024-01-29T19:29:19.966840",
     "status": "completed"
    },
    "tags": []
   },
   "outputs": [
    {
     "data": {
      "text/plain": [
       "'Cars have been around for awhile and they have had a major impact on society. Many people believe that there is no problem with the frequency of cars being driven. But, there are many advantages to less car use such as improving our cities and suburbs, improving safety, and decreasing pollution.\\n\\nMany have tried to make cities a little more dense and better for walking but nothing has seemed to work; therefore, they have moved on to suburbs. Now, people are trying to make suburbs better for getting around while walking instead of driving. By doing so, places such as shops will be made closer and more convienent which allows people to be able to consider walking as a better option. By having these suburbs, and soon hopefully cities, reduce the amount of cars used, the people living in these areas will be able to accomplish more in a healthier and safer way.\\n\\nSafety has been an issue in almost all areas due to a variety of reasons; one being cars. People pass by \"Drive Safely\" signs or memorials on the side of the road too often. Many accidents occur because of all the cars and traffic and careless driving. By reducing the amount of cars being driven, the moment of deaths in car accidents can be reduced as well. In \"The End of Car Culture\", author Elisabeth Rosenthal states, \"Mine (19 and 21) have not bothered to get a driver\\'s license, even though they both live in places where one could come in handy. They are interested, but it\\'s not a priority. They organize their summer jobs and social life around where they can walk or take public transportation or car-pool with friends.\" Recently, teenagers who are able to get their license haven\\'t really made it a priority. This could be caused by factors such as fear of driving or just because they\\'ve figured out a way around driving. Not everyone needs a car to get around; there are plenty of other ways to safely get from point A to point B.\\n\\nAnother large issue cars contribute to is pollution. Pollution is in every city, every state, every country, every continent. Cars are \"a huge impediment to current efforts to drastically reduce greenhouse gas emissions from tailpipes...\" (Rosenthal, Elisabeth, \"In German Suburb, Life Goes on Without Cars\"). Cars don\\'t help with environmental issues what-so-ever. They add to the smog issues and they increase the about of greenhouse gases in the atmosphere. In the capital of France, for example, congestion was down sixty percent due to smog causing delivery companies to lose money since they couldn\\'t delieve what was needed. Cars are extremely harmful to the environment and they make the issues we already have even larger. By limiting car usage, people could hopefully work on repairing the damage we have already done to the environment instead of worsening it.\\n\\nCars have impacted society ever since they were made. By reducing the amount of cars driven, cities and suburbs can be improved, better safety can be implimented, and pollution will reduce. Until then, the issues cars create will continue to get worse and by the time people see it, the problems will be too late to fix.    '"
      ]
     },
     "execution_count": 18,
     "metadata": {},
     "output_type": "execute_result"
    }
   ],
   "source": [
    "train_data['text'][0]"
   ]
  },
  {
   "cell_type": "code",
   "execution_count": 19,
   "id": "129ccec8",
   "metadata": {
    "execution": {
     "iopub.execute_input": "2024-01-29T19:29:20.030395Z",
     "iopub.status.busy": "2024-01-29T19:29:20.030130Z",
     "iopub.status.idle": "2024-01-29T19:29:21.555527Z",
     "shell.execute_reply": "2024-01-29T19:29:21.554611Z"
    },
    "papermill": {
     "duration": 1.552114,
     "end_time": "2024-01-29T19:29:21.557517",
     "exception": false,
     "start_time": "2024-01-29T19:29:20.005403",
     "status": "completed"
    },
    "tags": []
   },
   "outputs": [
    {
     "data": {
      "text/plain": [
       "<tf.Tensor: shape=(), dtype=string, numpy=b' cars have been around for awhile and they have had a major impact on society .  many people believe that there is no problem with the frequency of cars being driven .  but ,  there are many advantages to less car use such as improving our cities and suburbs ,  improving safety ,  and decreasing pollution . many have tried to make cities a little more dense and better for walking but nothing has seemed to work therefore ,  they have moved on to suburbs .  now ,  people are trying to make suburbs better for getting around while walking instead of driving .  by doing so ,  places such as shops will be made closer and more convienent which allows people to be able to consider walking as a better option .  by having these suburbs ,  and soon hopefully cities ,  reduce the amount of cars used ,  the people living in these areas will be able to accomplish more in a healthier and safer way . safety has been an issue in almost all areas due to a variety of reasons one being cars .  people pass by drive safely signs or memorials on the side of the road too often .  many accidents occur because of all the cars and traffic and careless driving .  by reducing the amount of cars being driven ,  the moment of deaths in car accidents can be reduced as well .  in the end of car culture ,  author elisabeth rosenthal states ,  mine  and  have not bothered to get a drivers license ,  even though they both live in places where one could come in handy .  they are interested ,  but its not a priority .  they organize their summer jobs and social life around where they can walk or take public transportation or carpool with friends .  recently ,  teenagers who are able to get their license havent really made it a priority .  this could be caused by factors such as fear of driving or just because theyve figured out a way around driving .  not everyone needs a car to get around there are plenty of other ways to safely get from point a to point b . another large issue cars contribute to is pollution .  pollution is in every city ,  every state ,  every country ,  every continent .  cars are a huge impediment to current efforts to drastically reduce greenhouse gas emissions from tailpipes .  .  .  rosenthal ,  elisabeth ,  in german suburb ,  life goes on without cars .  cars dont help with environmental issues whatsoever .  they add to the smog issues and they increase the about of greenhouse gases in the atmosphere .  in the capital of france ,  for example ,  congestion was down sixty percent due to smog causing delivery companies to lose money since they couldnt delieve what was needed .  cars are extremely harmful to the environment and they make the issues we already have even larger .  by limiting car usage ,  people could hopefully work on repairing the damage we have already done to the environment instead of worsening it . cars have impacted society ever since they were made .  by reducing the amount of cars driven ,  cities and suburbs can be improved ,  better safety can be implimented ,  and pollution will reduce .  until then ,  the issues cars create will continue to get worse and by the time people see it ,  the problems will be too late to fix . '>"
      ]
     },
     "execution_count": 19,
     "metadata": {},
     "output_type": "execute_result"
    }
   ],
   "source": [
    "Clean(train_data['text'][0])"
   ]
  },
  {
   "cell_type": "code",
   "execution_count": 20,
   "id": "9975fe41",
   "metadata": {
    "execution": {
     "iopub.execute_input": "2024-01-29T19:29:21.586674Z",
     "iopub.status.busy": "2024-01-29T19:29:21.585781Z",
     "iopub.status.idle": "2024-01-29T19:29:21.592597Z",
     "shell.execute_reply": "2024-01-29T19:29:21.591666Z"
    },
    "papermill": {
     "duration": 0.022981,
     "end_time": "2024-01-29T19:29:21.594458",
     "exception": false,
     "start_time": "2024-01-29T19:29:21.571477",
     "status": "completed"
    },
    "tags": []
   },
   "outputs": [
    {
     "data": {
      "text/plain": [
       "'cars have been around for awhile and they have had a major impact on society many people believe that there is no problem with the frequency of cars being driven but there are many advantages to less car use such as improving our cities and suburbs improving safety and decreasing pollution many have tried to make cities a little more dense and better for walking but nothing has seemed to work therefore they have moved on to suburbs now people are trying to make suburbs better for getting around while walking instead of driving by doing so places such as shops will be made closer and more convienent which allows people to be able to consider walking as a better option by having these suburbs and soon hopefully cities reduce the amount of cars used the people living in these areas will be able to accomplish more in a healthier and safer way safety has been an issue in almost all areas due to a variety of reasons one being cars people pass by drive safely signs or memorials on the side of the road too often many accidents occur because of all the cars and traffic and careless driving by reducing the amount of cars being driven the moment of deaths in car accidents can be reduced as well in the end of car culture author elisabeth rosenthal states mine and have not bothered to get a drivers license even though they both live in places where one could come in handy they are interested but its not a priority they organize their summer jobs and social life around where they can walk or take public transportation or carpool with friends recently teenagers who are able to get their license havent really made it a priority this could be caused by factors such as fear of driving or just because theyve figured out a way around driving not everyone needs a car to get around there are plenty of other ways to safely get from point a to point b another large issue cars contribute to is pollution pollution is in every city every state every country every continent cars are a huge impediment to current efforts to drastically reduce greenhouse gas emissions from tailpipes rosenthal elisabeth in german suburb life goes on without cars cars dont help with environmental issues whatsoever they add to the smog issues and they increase the about of greenhouse gases in the atmosphere in the capital of france for example congestion was down sixty percent due to smog causing delivery companies to lose money since they couldnt delieve what was needed cars are extremely harmful to the environment and they make the issues we already have even larger by limiting car usage people could hopefully work on repairing the damage we have already done to the environment instead of worsening it cars have impacted society ever since they were made by reducing the amount of cars driven cities and suburbs can be improved better safety can be implimented and pollution will reduce until then the issues cars create will continue to get worse and by the time people see it the problems will be too late to fix '"
      ]
     },
     "execution_count": 20,
     "metadata": {},
     "output_type": "execute_result"
    }
   ],
   "source": [
    "clean_text(train_data['text'][0])"
   ]
  },
  {
   "cell_type": "markdown",
   "id": "cf65dc7e",
   "metadata": {
    "papermill": {
     "duration": 0.013642,
     "end_time": "2024-01-29T19:29:21.621971",
     "exception": false,
     "start_time": "2024-01-29T19:29:21.608329",
     "status": "completed"
    },
    "tags": []
   },
   "source": [
    "**<a id=\"4\"></a>\n",
    "# <p style=\"background-image: url(https://i.postimg.cc/K87ByXmr/stage5.jpg);font-family:camtasia;font-size:120%;color:white;text-align:center;border-radius:15px 50px; padding:7px\">Text Vectorization</p>\n",
    "<a class=\"btn\" href=\"#home\">Tabel of Contents</a>"
   ]
  },
  {
   "cell_type": "code",
   "execution_count": 21,
   "id": "19df131c",
   "metadata": {
    "execution": {
     "iopub.execute_input": "2024-01-29T19:29:21.650143Z",
     "iopub.status.busy": "2024-01-29T19:29:21.649827Z",
     "iopub.status.idle": "2024-01-29T19:29:46.037107Z",
     "shell.execute_reply": "2024-01-29T19:29:46.036027Z"
    },
    "papermill": {
     "duration": 24.403706,
     "end_time": "2024-01-29T19:29:46.039190",
     "exception": false,
     "start_time": "2024-01-29T19:29:21.635484",
     "status": "completed"
    },
    "tags": []
   },
   "outputs": [
    {
     "data": {
      "text/plain": [
       "array([[ 1138, 19101,  5729, ...,     1,     1,     1],\n",
       "       [ 3796, 10859,     1, ...,     0,     0,     0],\n",
       "       [28184,     1, 53697, ...,     1,     1,     1],\n",
       "       ...,\n",
       "       [    1, 31053,     1, ...,     1,     1,     1],\n",
       "       [24714,  8587,     1, ...,     1,     1,     1],\n",
       "       [ 1138, 19101, 21592, ...,     0,     0,     0]])"
      ]
     },
     "execution_count": 21,
     "metadata": {},
     "output_type": "execute_result"
    }
   ],
   "source": [
    "max_features = 75000\n",
    "embedding_dim = 64\n",
    "sequence_length = 512*2\n",
    "vectorize_layer = tf.keras.layers.TextVectorization(\n",
    "    standardize=Clean ,\n",
    "    max_tokens=max_features,\n",
    "    ngrams = (3,5),\n",
    "    output_mode=\"int\",\n",
    "    output_sequence_length=sequence_length,\n",
    "    pad_to_max_tokens=True\n",
    ")\n",
    "vectorize_layer.adapt(train_data['text'])\n",
    "Text = vectorize_layer(train_data['text']).numpy()\n",
    "Text"
   ]
  },
  {
   "cell_type": "code",
   "execution_count": 22,
   "id": "c0576cca",
   "metadata": {
    "execution": {
     "iopub.execute_input": "2024-01-29T19:29:46.068848Z",
     "iopub.status.busy": "2024-01-29T19:29:46.068576Z",
     "iopub.status.idle": "2024-01-29T19:29:46.556632Z",
     "shell.execute_reply": "2024-01-29T19:29:46.555632Z"
    },
    "papermill": {
     "duration": 0.505226,
     "end_time": "2024-01-29T19:29:46.558984",
     "exception": false,
     "start_time": "2024-01-29T19:29:46.053758",
     "status": "completed"
    },
    "tags": []
   },
   "outputs": [],
   "source": [
    "sm = SMOTE(random_state=44)\n",
    "Text,labels= sm.fit_resample(Text,train_data['label'])"
   ]
  },
  {
   "cell_type": "code",
   "execution_count": 23,
   "id": "c448a743",
   "metadata": {
    "execution": {
     "iopub.execute_input": "2024-01-29T19:29:46.588291Z",
     "iopub.status.busy": "2024-01-29T19:29:46.587995Z",
     "iopub.status.idle": "2024-01-29T19:29:46.635847Z",
     "shell.execute_reply": "2024-01-29T19:29:46.634697Z"
    },
    "papermill": {
     "duration": 0.064867,
     "end_time": "2024-01-29T19:29:46.638010",
     "exception": false,
     "start_time": "2024-01-29T19:29:46.573143",
     "status": "completed"
    },
    "tags": []
   },
   "outputs": [
    {
     "name": "stdout",
     "output_type": "stream",
     "text": [
      "X_train shape is  (10808, 1024)\n",
      "X_test shape is  (2702, 1024)\n",
      "y_train shape is  (10808,)\n",
      "y_test shape is  (2702,)\n"
     ]
    }
   ],
   "source": [
    "X_train, X_test, y_train, y_test = train_test_split(Text,labels, test_size=0.2, random_state=44, shuffle =True,stratify=labels)\n",
    "print('X_train shape is ' , X_train.shape)\n",
    "print('X_test shape is ' , X_test.shape)\n",
    "print('y_train shape is ' , y_train.shape)\n",
    "print('y_test shape is ' , y_test.shape)"
   ]
  },
  {
   "cell_type": "markdown",
   "id": "920d5be8",
   "metadata": {
    "papermill": {
     "duration": 0.013941,
     "end_time": "2024-01-29T19:29:46.666350",
     "exception": false,
     "start_time": "2024-01-29T19:29:46.652409",
     "status": "completed"
    },
    "tags": []
   },
   "source": [
    "**<a id=\"10\"></a>\n",
    "# <p style=\"background-image: url(https://i.postimg.cc/K87ByXmr/stage5.jpg);font-family:camtasia;font-size:120%;color:white;text-align:center;border-radius:15px 50px; padding:7px\">TransformerBlock Model</p>\n",
    "<a class=\"btn\" href=\"#home\">Tabel of Contents</a>"
   ]
  },
  {
   "cell_type": "code",
   "execution_count": 24,
   "id": "250f6f1d",
   "metadata": {
    "execution": {
     "iopub.execute_input": "2024-01-29T19:29:46.695329Z",
     "iopub.status.busy": "2024-01-29T19:29:46.694749Z",
     "iopub.status.idle": "2024-01-29T19:29:47.716055Z",
     "shell.execute_reply": "2024-01-29T19:29:47.715008Z"
    },
    "papermill": {
     "duration": 1.042071,
     "end_time": "2024-01-29T19:29:47.722176",
     "exception": false,
     "start_time": "2024-01-29T19:29:46.680105",
     "status": "completed"
    },
    "tags": []
   },
   "outputs": [
    {
     "name": "stdout",
     "output_type": "stream",
     "text": [
      "Model: \"model\"\n",
      "_________________________________________________________________\n",
      " Layer (type)                Output Shape              Param #   \n",
      "=================================================================\n",
      " input_1 (InputLayer)        [(None, 1024)]            0         \n",
      "                                                                 \n",
      " embedding (Embedding)       (None, 1024, 64)          4800000   \n",
      "                                                                 \n",
      " bidirectional (Bidirection  (None, 1024, 64)          24832     \n",
      " al)                                                             \n",
      "                                                                 \n",
      " transformer_block (Transfo  (None, 1024, 64)          37664     \n",
      " rmerBlock)                                                      \n",
      "                                                                 \n",
      " conv1d (Conv1D)             (None, 340, 128)          57472     \n",
      "                                                                 \n",
      " global_max_pooling1d (Glob  (None, 128)               0         \n",
      " alMaxPooling1D)                                                 \n",
      "                                                                 \n",
      " dense_2 (Dense)             (None, 128)               16512     \n",
      "                                                                 \n",
      " dropout_2 (Dropout)         (None, 128)               0         \n",
      "                                                                 \n",
      " predictions (Dense)         (None, 1)                 129       \n",
      "                                                                 \n",
      "=================================================================\n",
      "Total params: 4936609 (18.83 MB)\n",
      "Trainable params: 4936609 (18.83 MB)\n",
      "Non-trainable params: 0 (0.00 Byte)\n",
      "_________________________________________________________________\n"
     ]
    }
   ],
   "source": [
    "class TransformerBlock(tf.keras.layers.Layer):\n",
    "    def __init__(self, embed_dim, num_heads, ff_dim, rate=0.1):\n",
    "        super(TransformerBlock, self).__init__()\n",
    "        self.att = tf.keras.layers.MultiHeadAttention(num_heads=num_heads, key_dim=embed_dim)\n",
    "        self.ffn = tf.keras.Sequential(\n",
    "            [tf.keras.layers.Dense(ff_dim, activation=\"relu\"), tf.keras.layers.Dense(embed_dim),]\n",
    "        )\n",
    "        self.layernorm1 = tf.keras.layers.LayerNormalization(epsilon=1e-6)\n",
    "        self.layernorm2 = tf.keras.layers.LayerNormalization(epsilon=1e-6)\n",
    "        self.dropout1 = tf.keras.layers.Dropout(rate)\n",
    "        self.dropout2 = tf.keras.layers.Dropout(rate)\n",
    "\n",
    "    def call(self, inputs, training):\n",
    "        attn_output = self.att(inputs, inputs)\n",
    "        attn_output = self.dropout1(attn_output, training=training)\n",
    "        out1 = self.layernorm1(inputs + attn_output)\n",
    "        ffn_output = self.ffn(out1)\n",
    "        ffn_output = self.dropout2(ffn_output, training=training)\n",
    "        return self.layernorm2(out1 + ffn_output)\n",
    "inputs = Input(shape=(sequence_length,), dtype=\"int64\")\n",
    "x = Embedding(max_features, embedding_dim)(inputs)\n",
    "x = Bidirectional(LSTM(32, return_sequences=True))(x)\n",
    "transformer_block = TransformerBlock(embedding_dim, 2, 32)\n",
    "x = transformer_block(x)\n",
    "x = Conv1D(128, 7, padding=\"valid\", activation=\"relu\", strides=3)(x)\n",
    "x = GlobalMaxPooling1D()(x)\n",
    "x = Dense(128, activation=\"relu\")(x)\n",
    "x = Dropout(0.5)(x)\n",
    "predictions = Dense(1, activation=\"sigmoid\", name=\"predictions\")(x)\n",
    "\n",
    "model = Model(inputs=inputs, outputs=predictions)\n",
    "model.summary()"
   ]
  },
  {
   "cell_type": "code",
   "execution_count": 25,
   "id": "be61d320",
   "metadata": {
    "execution": {
     "iopub.execute_input": "2024-01-29T19:29:47.756634Z",
     "iopub.status.busy": "2024-01-29T19:29:47.756317Z",
     "iopub.status.idle": "2024-01-29T19:29:48.260211Z",
     "shell.execute_reply": "2024-01-29T19:29:48.259134Z"
    },
    "papermill": {
     "duration": 0.524879,
     "end_time": "2024-01-29T19:29:48.264034",
     "exception": false,
     "start_time": "2024-01-29T19:29:47.739155",
     "status": "completed"
    },
    "tags": []
   },
   "outputs": [
    {
     "data": {
      "image/png": "[encoded data removed]",
      "text/plain": [
       "<IPython.core.display.Image object>"
      ]
     },
     "execution_count": 25,
     "metadata": {},
     "output_type": "execute_result"
    }
   ],
   "source": [
    "tf.keras.utils.plot_model(model, to_file='model.png', show_shapes=True, show_layer_names=True,show_dtype=True,dpi=120)"
   ]
  },
  {
   "cell_type": "code",
   "execution_count": 26,
   "id": "ec79d4a4",
   "metadata": {
    "execution": {
     "iopub.execute_input": "2024-01-29T19:29:48.303083Z",
     "iopub.status.busy": "2024-01-29T19:29:48.302773Z",
     "iopub.status.idle": "2024-01-29T19:34:58.771681Z",
     "shell.execute_reply": "2024-01-29T19:34:58.770629Z"
    },
    "papermill": {
     "duration": 310.491158,
     "end_time": "2024-01-29T19:34:58.773985",
     "exception": false,
     "start_time": "2024-01-29T19:29:48.282827",
     "status": "completed"
    },
    "tags": []
   },
   "outputs": [
    {
     "name": "stdout",
     "output_type": "stream",
     "text": [
      "Epoch 1/10\n",
      "304/304 [==============================] - 97s 283ms/step - loss: 0.1273 - accuracy: 0.9496 - val_loss: 0.0199 - val_accuracy: 0.9917\n",
      "Epoch 2/10\n",
      "304/304 [==============================] - 78s 256ms/step - loss: 0.0084 - accuracy: 0.9971 - val_loss: 0.0404 - val_accuracy: 0.9880\n",
      "Epoch 3/10\n",
      "304/304 [==============================] - 71s 233ms/step - loss: 0.0061 - accuracy: 0.9981 - val_loss: 0.0460 - val_accuracy: 0.9907\n",
      "Epoch 4/10\n",
      "304/304 [==============================] - 64s 211ms/step - loss: 0.0055 - accuracy: 0.9990 - val_loss: 0.0212 - val_accuracy: 0.9907\n"
     ]
    }
   ],
   "source": [
    "checkpoint_cb =ModelCheckpoint(\"model.h5\", save_best_only=True)\n",
    "early_stopping_cb =EarlyStopping(patience=3, restore_best_weights=True)\n",
    "model.compile(optimizer ='adam', loss='binary_crossentropy', metrics=['accuracy'])\n",
    "hist = model.fit(X_train,y_train, epochs=10, validation_split=.1, callbacks=[checkpoint_cb, early_stopping_cb])"
   ]
  },
  {
   "cell_type": "markdown",
   "id": "92dde2ca",
   "metadata": {
    "papermill": {
     "duration": 0.111545,
     "end_time": "2024-01-29T19:34:58.998184",
     "exception": false,
     "start_time": "2024-01-29T19:34:58.886639",
     "status": "completed"
    },
    "tags": []
   },
   "source": [
    "**<a id=\"11\"></a>\n",
    "# <p style=\"background-image: url(https://i.postimg.cc/K87ByXmr/stage5.jpg);font-family:camtasia;font-size:120%;color:white;text-align:center;border-radius:15px 50px; padding:7px\">Evaluation</p>\n",
    "<a class=\"btn\" href=\"#home\">Tabel of Contents</a>"
   ]
  },
  {
   "cell_type": "code",
   "execution_count": 27,
   "id": "31cc8f01",
   "metadata": {
    "execution": {
     "iopub.execute_input": "2024-01-29T19:34:59.222797Z",
     "iopub.status.busy": "2024-01-29T19:34:59.222450Z",
     "iopub.status.idle": "2024-01-29T19:34:59.234233Z",
     "shell.execute_reply": "2024-01-29T19:34:59.233296Z"
    },
    "papermill": {
     "duration": 0.126264,
     "end_time": "2024-01-29T19:34:59.236081",
     "exception": false,
     "start_time": "2024-01-29T19:34:59.109817",
     "status": "completed"
    },
    "tags": []
   },
   "outputs": [
    {
     "data": {
      "text/html": [
       "<div>\n",
       "<style scoped>\n",
       "    .dataframe tbody tr th:only-of-type {\n",
       "        vertical-align: middle;\n",
       "    }\n",
       "\n",
       "    .dataframe tbody tr th {\n",
       "        vertical-align: top;\n",
       "    }\n",
       "\n",
       "    .dataframe thead th {\n",
       "        text-align: right;\n",
       "    }\n",
       "</style>\n",
       "<table border=\"1\" class=\"dataframe\">\n",
       "  <thead>\n",
       "    <tr style=\"text-align: right;\">\n",
       "      <th></th>\n",
       "      <th>loss</th>\n",
       "      <th>accuracy</th>\n",
       "      <th>val_loss</th>\n",
       "      <th>val_accuracy</th>\n",
       "    </tr>\n",
       "  </thead>\n",
       "  <tbody>\n",
       "    <tr>\n",
       "      <th>0</th>\n",
       "      <td>0.127258</td>\n",
       "      <td>0.949625</td>\n",
       "      <td>0.019851</td>\n",
       "      <td>0.991674</td>\n",
       "    </tr>\n",
       "    <tr>\n",
       "      <th>1</th>\n",
       "      <td>0.008398</td>\n",
       "      <td>0.997121</td>\n",
       "      <td>0.040408</td>\n",
       "      <td>0.987974</td>\n",
       "    </tr>\n",
       "    <tr>\n",
       "      <th>2</th>\n",
       "      <td>0.006050</td>\n",
       "      <td>0.998149</td>\n",
       "      <td>0.046024</td>\n",
       "      <td>0.990749</td>\n",
       "    </tr>\n",
       "    <tr>\n",
       "      <th>3</th>\n",
       "      <td>0.005541</td>\n",
       "      <td>0.998972</td>\n",
       "      <td>0.021248</td>\n",
       "      <td>0.990749</td>\n",
       "    </tr>\n",
       "  </tbody>\n",
       "</table>\n",
       "</div>"
      ],
      "text/plain": [
       "       loss  accuracy  val_loss  val_accuracy\n",
       "0  0.127258  0.949625  0.019851      0.991674\n",
       "1  0.008398  0.997121  0.040408      0.987974\n",
       "2  0.006050  0.998149  0.046024      0.990749\n",
       "3  0.005541  0.998972  0.021248      0.990749"
      ]
     },
     "execution_count": 27,
     "metadata": {},
     "output_type": "execute_result"
    }
   ],
   "source": [
    "hist_=pd.DataFrame(hist.history)\n",
    "hist_"
   ]
  },
  {
   "cell_type": "code",
   "execution_count": 28,
   "id": "de4b4a81",
   "metadata": {
    "execution": {
     "iopub.execute_input": "2024-01-29T19:34:59.462650Z",
     "iopub.status.busy": "2024-01-29T19:34:59.462347Z",
     "iopub.status.idle": "2024-01-29T19:35:02.948625Z",
     "shell.execute_reply": "2024-01-29T19:35:02.947639Z"
    },
    "papermill": {
     "duration": 3.601339,
     "end_time": "2024-01-29T19:35:02.950884",
     "exception": false,
     "start_time": "2024-01-29T19:34:59.349545",
     "status": "completed"
    },
    "tags": []
   },
   "outputs": [
    {
     "name": "stdout",
     "output_type": "stream",
     "text": [
      "85/85 [==============================] - 3s 40ms/step - loss: 0.0183 - accuracy: 0.9937\n",
      "Test Loss = 0.01834024488925934\n",
      "Test Accuracy = 0.9937083721160889\n"
     ]
    }
   ],
   "source": [
    "score, acc= model.evaluate(X_test,y_test)\n",
    "print('Test Loss =', score)\n",
    "print('Test Accuracy =', acc)"
   ]
  },
  {
   "cell_type": "code",
   "execution_count": 29,
   "id": "2f607838",
   "metadata": {
    "execution": {
     "iopub.execute_input": "2024-01-29T19:35:03.212197Z",
     "iopub.status.busy": "2024-01-29T19:35:03.211738Z",
     "iopub.status.idle": "2024-01-29T19:35:07.419503Z",
     "shell.execute_reply": "2024-01-29T19:35:07.418663Z"
    },
    "papermill": {
     "duration": 4.344798,
     "end_time": "2024-01-29T19:35:07.421409",
     "exception": false,
     "start_time": "2024-01-29T19:35:03.076611",
     "status": "completed"
    },
    "tags": []
   },
   "outputs": [
    {
     "name": "stdout",
     "output_type": "stream",
     "text": [
      "85/85 [==============================] - 4s 37ms/step\n"
     ]
    },
    {
     "data": {
      "text/html": [
       "<div>\n",
       "<style scoped>\n",
       "    .dataframe tbody tr th:only-of-type {\n",
       "        vertical-align: middle;\n",
       "    }\n",
       "\n",
       "    .dataframe tbody tr th {\n",
       "        vertical-align: top;\n",
       "    }\n",
       "\n",
       "    .dataframe thead th {\n",
       "        text-align: right;\n",
       "    }\n",
       "</style>\n",
       "<table border=\"1\" class=\"dataframe\">\n",
       "  <thead>\n",
       "    <tr style=\"text-align: right;\">\n",
       "      <th></th>\n",
       "      <th>Actual</th>\n",
       "      <th>Prediction</th>\n",
       "    </tr>\n",
       "  </thead>\n",
       "  <tbody>\n",
       "    <tr>\n",
       "      <th>0</th>\n",
       "      <td>1</td>\n",
       "      <td>1</td>\n",
       "    </tr>\n",
       "    <tr>\n",
       "      <th>1</th>\n",
       "      <td>0</td>\n",
       "      <td>0</td>\n",
       "    </tr>\n",
       "    <tr>\n",
       "      <th>2</th>\n",
       "      <td>1</td>\n",
       "      <td>1</td>\n",
       "    </tr>\n",
       "    <tr>\n",
       "      <th>3</th>\n",
       "      <td>0</td>\n",
       "      <td>0</td>\n",
       "    </tr>\n",
       "    <tr>\n",
       "      <th>4</th>\n",
       "      <td>0</td>\n",
       "      <td>0</td>\n",
       "    </tr>\n",
       "    <tr>\n",
       "      <th>...</th>\n",
       "      <td>...</td>\n",
       "      <td>...</td>\n",
       "    </tr>\n",
       "    <tr>\n",
       "      <th>2697</th>\n",
       "      <td>0</td>\n",
       "      <td>0</td>\n",
       "    </tr>\n",
       "    <tr>\n",
       "      <th>2698</th>\n",
       "      <td>1</td>\n",
       "      <td>1</td>\n",
       "    </tr>\n",
       "    <tr>\n",
       "      <th>2699</th>\n",
       "      <td>0</td>\n",
       "      <td>0</td>\n",
       "    </tr>\n",
       "    <tr>\n",
       "      <th>2700</th>\n",
       "      <td>1</td>\n",
       "      <td>1</td>\n",
       "    </tr>\n",
       "    <tr>\n",
       "      <th>2701</th>\n",
       "      <td>0</td>\n",
       "      <td>0</td>\n",
       "    </tr>\n",
       "  </tbody>\n",
       "</table>\n",
       "<p>2702 rows × 2 columns</p>\n",
       "</div>"
      ],
      "text/plain": [
       "      Actual  Prediction\n",
       "0          1           1\n",
       "1          0           0\n",
       "2          1           1\n",
       "3          0           0\n",
       "4          0           0\n",
       "...      ...         ...\n",
       "2697       0           0\n",
       "2698       1           1\n",
       "2699       0           0\n",
       "2700       1           1\n",
       "2701       0           0\n",
       "\n",
       "[2702 rows x 2 columns]"
      ]
     },
     "execution_count": 29,
     "metadata": {},
     "output_type": "execute_result"
    }
   ],
   "source": [
    "predictions = model.predict(X_test)\n",
    "y_pred = np.where(predictions>=.5,1,0)\n",
    "y_test_1d = np.ravel(y_test)\n",
    "y_pred_1d = np.ravel(y_pred)\n",
    "df = pd.DataFrame({'Actual': y_test_1d, 'Prediction': y_pred_1d})\n",
    "df"
   ]
  },
  {
   "cell_type": "code",
   "execution_count": 30,
   "id": "8e3f05f5",
   "metadata": {
    "execution": {
     "iopub.execute_input": "2024-01-29T19:35:07.690672Z",
     "iopub.status.busy": "2024-01-29T19:35:07.690265Z",
     "iopub.status.idle": "2024-01-29T19:35:07.876928Z",
     "shell.execute_reply": "2024-01-29T19:35:07.876009Z"
    },
    "papermill": {
     "duration": 0.329249,
     "end_time": "2024-01-29T19:35:07.878814",
     "exception": false,
     "start_time": "2024-01-29T19:35:07.549565",
     "status": "completed"
    },
    "tags": []
   },
   "outputs": [
    {
     "data": {
      "text/plain": [
       "array([[1346,    5],\n",
       "       [  12, 1339]])"
      ]
     },
     "execution_count": 30,
     "metadata": {},
     "output_type": "execute_result"
    },
    {
     "data": {
      "image/png": "[encoded data removed]",
      "text/plain": [
       "<Figure size 640x480 with 1 Axes>"
      ]
     },
     "metadata": {},
     "output_type": "display_data"
    }
   ],
   "source": [
    "CM = confusion_matrix(y_test_1d,y_pred_1d)\n",
    "CM_percent = CM.astype('float') / CM.sum(axis=1)[:, np.newaxis]\n",
    "sns.heatmap(CM_percent,fmt='g',center = True,cbar=False,annot=True,cmap='Blues')\n",
    "CM"
   ]
  },
  {
   "cell_type": "code",
   "execution_count": 31,
   "id": "7383dd3c",
   "metadata": {
    "execution": {
     "iopub.execute_input": "2024-01-29T19:35:08.127507Z",
     "iopub.status.busy": "2024-01-29T19:35:08.127164Z",
     "iopub.status.idle": "2024-01-29T19:35:08.144068Z",
     "shell.execute_reply": "2024-01-29T19:35:08.143149Z"
    },
    "papermill": {
     "duration": 0.142201,
     "end_time": "2024-01-29T19:35:08.145987",
     "exception": false,
     "start_time": "2024-01-29T19:35:08.003786",
     "status": "completed"
    },
    "tags": []
   },
   "outputs": [
    {
     "name": "stdout",
     "output_type": "stream",
     "text": [
      "Classification Report is :                precision    recall  f1-score   support\n",
      "\n",
      "           0       0.99      1.00      0.99      1351\n",
      "           1       1.00      0.99      0.99      1351\n",
      "\n",
      "    accuracy                           0.99      2702\n",
      "   macro avg       0.99      0.99      0.99      2702\n",
      "weighted avg       0.99      0.99      0.99      2702\n",
      "\n"
     ]
    }
   ],
   "source": [
    "ClassificationReport = classification_report(y_test_1d,y_pred_1d)\n",
    "print('Classification Report is : ', ClassificationReport )"
   ]
  },
  {
   "cell_type": "markdown",
   "id": "c1eac069",
   "metadata": {
    "papermill": {
     "duration": 0.120443,
     "end_time": "2024-01-29T19:35:08.386820",
     "exception": false,
     "start_time": "2024-01-29T19:35:08.266377",
     "status": "completed"
    },
    "tags": []
   },
   "source": [
    "**<a id=\"12\"></a>\n",
    "# <p style=\"background-image: url(https://i.postimg.cc/K87ByXmr/stage5.jpg);font-family:camtasia;font-size:120%;color:white;text-align:center;border-radius:15px 50px; padding:7px\">Submission</p>\n",
    "<a class=\"btn\" href=\"#home\">Tabel of Contents</a>"
   ]
  },
  {
   "cell_type": "code",
   "execution_count": 32,
   "id": "12055934",
   "metadata": {
    "execution": {
     "iopub.execute_input": "2024-01-29T19:35:08.628571Z",
     "iopub.status.busy": "2024-01-29T19:35:08.627798Z",
     "iopub.status.idle": "2024-01-29T19:35:08.801460Z",
     "shell.execute_reply": "2024-01-29T19:35:08.800568Z"
    },
    "papermill": {
     "duration": 0.297017,
     "end_time": "2024-01-29T19:35:08.803285",
     "exception": false,
     "start_time": "2024-01-29T19:35:08.506268",
     "status": "completed"
    },
    "tags": []
   },
   "outputs": [
    {
     "name": "stdout",
     "output_type": "stream",
     "text": [
      "1/1 [==============================] - 0s 107ms/step\n"
     ]
    },
    {
     "data": {
      "text/html": [
       "<div>\n",
       "<style scoped>\n",
       "    .dataframe tbody tr th:only-of-type {\n",
       "        vertical-align: middle;\n",
       "    }\n",
       "\n",
       "    .dataframe tbody tr th {\n",
       "        vertical-align: top;\n",
       "    }\n",
       "\n",
       "    .dataframe thead th {\n",
       "        text-align: right;\n",
       "    }\n",
       "</style>\n",
       "<table border=\"1\" class=\"dataframe\">\n",
       "  <thead>\n",
       "    <tr style=\"text-align: right;\">\n",
       "      <th></th>\n",
       "      <th>id</th>\n",
       "      <th>generated</th>\n",
       "    </tr>\n",
       "  </thead>\n",
       "  <tbody>\n",
       "    <tr>\n",
       "      <th>0</th>\n",
       "      <td>0000aaaa</td>\n",
       "      <td>0.965493</td>\n",
       "    </tr>\n",
       "    <tr>\n",
       "      <th>1</th>\n",
       "      <td>1111bbbb</td>\n",
       "      <td>0.965493</td>\n",
       "    </tr>\n",
       "    <tr>\n",
       "      <th>2</th>\n",
       "      <td>2222cccc</td>\n",
       "      <td>0.965493</td>\n",
       "    </tr>\n",
       "  </tbody>\n",
       "</table>\n",
       "</div>"
      ],
      "text/plain": [
       "         id  generated\n",
       "0  0000aaaa   0.965493\n",
       "1  1111bbbb   0.965493\n",
       "2  2222cccc   0.965493"
      ]
     },
     "execution_count": 32,
     "metadata": {},
     "output_type": "execute_result"
    }
   ],
   "source": [
    "test_text = vectorize_layer(test['text']).numpy()\n",
    "predictions = model.predict(test_text)\n",
    "y_pred = np.where(predictions>=.5,1,0)\n",
    "sub=pd.DataFrame()\n",
    "sub['id'],sub['generated']=test['id'],predictions\n",
    "sub.to_csv('/kaggle/working/submission.csv', index=False)\n",
    "sub"
   ]
  }
 ],
 "metadata": {
  "kaggle": {
   "accelerator": "nvidiaTeslaT4",
   "dataSources": [
    {
     "databundleVersionId": 7516023,
     "sourceId": 61542,
     "sourceType": "competition"
    },
    {
     "datasetId": 4005256,
     "sourceId": 6977472,
     "sourceType": "datasetVersion"
    },
    {
     "datasetId": 4335364,
     "sourceId": 7448092,
     "sourceType": "datasetVersion"
    }
   ],
   "dockerImageVersionId": 30635,
   "isGpuEnabled": true,
   "isInternetEnabled": true,
   "language": "python",
   "sourceType": "notebook"
  },
  "kernelspec": {
   "display_name": "Python 3",
   "language": "python",
   "name": "python3"
  },
  "language_info": {
   "codemirror_mode": {
    "name": "ipython",
    "version": 3
   },
   "file_extension": ".py",
   "mimetype": "text/x-python",
   "name": "python",
   "nbconvert_exporter": "python",
   "pygments_lexer": "ipython3",
   "version": "3.10.12"
  },
  "papermill": {
   "default_parameters": {},
   "duration": 383.593811,
   "end_time": "2024-01-29T19:35:12.732111",
   "environment_variables": {},
   "exception": null,
   "input_path": "__notebook__.ipynb",
   "output_path": "__notebook__.ipynb",
   "parameters": {},
   "start_time": "2024-01-29T19:28:49.138300",
   "version": "2.4.0"
  }
 },
 "nbformat": 4,
 "nbformat_minor": 5
}
