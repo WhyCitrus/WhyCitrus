{
 "cells": [
  {
   "cell_type": "code",
   "execution_count": 1,
   "id": "ffdba3f8-b835-4e5a-be36-58896a0e5160",
   "metadata": {},
   "outputs": [
    {
     "data": {
      "text/html": [
       "<style>#sk-container-id-1 {color: black;}#sk-container-id-1 pre{padding: 0;}#sk-container-id-1 div.sk-toggleable {background-color: white;}#sk-container-id-1 label.sk-toggleable__label {cursor: pointer;display: block;width: 100%;margin-bottom: 0;padding: 0.3em;box-sizing: border-box;text-align: center;}#sk-container-id-1 label.sk-toggleable__label-arrow:before {content: \"▸\";float: left;margin-right: 0.25em;color: #696969;}#sk-container-id-1 label.sk-toggleable__label-arrow:hover:before {color: black;}#sk-container-id-1 div.sk-estimator:hover label.sk-toggleable__label-arrow:before {color: black;}#sk-container-id-1 div.sk-toggleable__content {max-height: 0;max-width: 0;overflow: hidden;text-align: left;background-color: #f0f8ff;}#sk-container-id-1 div.sk-toggleable__content pre {margin: 0.2em;color: black;border-radius: 0.25em;background-color: #f0f8ff;}#sk-container-id-1 input.sk-toggleable__control:checked~div.sk-toggleable__content {max-height: 200px;max-width: 100%;overflow: auto;}#sk-container-id-1 input.sk-toggleable__control:checked~label.sk-toggleable__label-arrow:before {content: \"▾\";}#sk-container-id-1 div.sk-estimator input.sk-toggleable__control:checked~label.sk-toggleable__label {background-color: #d4ebff;}#sk-container-id-1 div.sk-label input.sk-toggleable__control:checked~label.sk-toggleable__label {background-color: #d4ebff;}#sk-container-id-1 input.sk-hidden--visually {border: 0;clip: rect(1px 1px 1px 1px);clip: rect(1px, 1px, 1px, 1px);height: 1px;margin: -1px;overflow: hidden;padding: 0;position: absolute;width: 1px;}#sk-container-id-1 div.sk-estimator {font-family: monospace;background-color: #f0f8ff;border: 1px dotted black;border-radius: 0.25em;box-sizing: border-box;margin-bottom: 0.5em;}#sk-container-id-1 div.sk-estimator:hover {background-color: #d4ebff;}#sk-container-id-1 div.sk-parallel-item::after {content: \"\";width: 100%;border-bottom: 1px solid gray;flex-grow: 1;}#sk-container-id-1 div.sk-label:hover label.sk-toggleable__label {background-color: #d4ebff;}#sk-container-id-1 div.sk-serial::before {content: \"\";position: absolute;border-left: 1px solid gray;box-sizing: border-box;top: 0;bottom: 0;left: 50%;z-index: 0;}#sk-container-id-1 div.sk-serial {display: flex;flex-direction: column;align-items: center;background-color: white;padding-right: 0.2em;padding-left: 0.2em;position: relative;}#sk-container-id-1 div.sk-item {position: relative;z-index: 1;}#sk-container-id-1 div.sk-parallel {display: flex;align-items: stretch;justify-content: center;background-color: white;position: relative;}#sk-container-id-1 div.sk-item::before, #sk-container-id-1 div.sk-parallel-item::before {content: \"\";position: absolute;border-left: 1px solid gray;box-sizing: border-box;top: 0;bottom: 0;left: 50%;z-index: -1;}#sk-container-id-1 div.sk-parallel-item {display: flex;flex-direction: column;z-index: 1;position: relative;background-color: white;}#sk-container-id-1 div.sk-parallel-item:first-child::after {align-self: flex-end;width: 50%;}#sk-container-id-1 div.sk-parallel-item:last-child::after {align-self: flex-start;width: 50%;}#sk-container-id-1 div.sk-parallel-item:only-child::after {width: 0;}#sk-container-id-1 div.sk-dashed-wrapped {border: 1px dashed gray;margin: 0 0.4em 0.5em 0.4em;box-sizing: border-box;padding-bottom: 0.4em;background-color: white;}#sk-container-id-1 div.sk-label label {font-family: monospace;font-weight: bold;display: inline-block;line-height: 1.2em;}#sk-container-id-1 div.sk-label-container {text-align: center;}#sk-container-id-1 div.sk-container {/* jupyter's `normalize.less` sets `[hidden] { display: none; }` but bootstrap.min.css set `[hidden] { display: none !important; }` so we also need the `!important` here to be able to override the default hidden behavior on the sphinx rendered scikit-learn.org. See: https://github.com/scikit-learn/scikit-learn/issues/21755 */display: inline-block !important;position: relative;}#sk-container-id-1 div.sk-text-repr-fallback {display: none;}</style><div id=\"sk-container-id-1\" class=\"sk-top-container\"><div class=\"sk-text-repr-fallback\"><pre>LabelEncoder()</pre><b>In a Jupyter environment, please rerun this cell to show the HTML representation or trust the notebook. <br />On GitHub, the HTML representation is unable to render, please try loading this page with nbviewer.org.</b></div><div class=\"sk-container\" hidden><div class=\"sk-item\"><div class=\"sk-estimator sk-toggleable\"><input class=\"sk-toggleable__control sk-hidden--visually\" id=\"sk-estimator-id-1\" type=\"checkbox\" checked><label for=\"sk-estimator-id-1\" class=\"sk-toggleable__label sk-toggleable__label-arrow\">LabelEncoder</label><div class=\"sk-toggleable__content\"><pre>LabelEncoder()</pre></div></div></div></div></div>"
      ],
      "text/plain": [
       "LabelEncoder()"
      ]
     },
     "execution_count": 1,
     "metadata": {},
     "output_type": "execute_result"
    }
   ],
   "source": [
    "import os\n",
    "import pandas as pd\n",
    "from sklearn.preprocessing import LabelEncoder\n",
    "\n",
    "#标签编码\n",
    "models = ['MA1', 'MA2', 'MB1', 'MB2', 'MC1', 'MC2']\n",
    "label_encoder = LabelEncoder()\n",
    "label_encoder.fit(models)"
   ]
  },
  {
   "cell_type": "code",
   "execution_count": 57,
   "id": "cb68f334-a8c4-48b0-aaf8-e0dff16c6be4",
   "metadata": {},
   "outputs": [],
   "source": [
    "# 加载包含标签的CSV文件\n",
    "label_df = pd.read_csv('label.csv')  \n",
    "\n",
    "label_df['model'] = label_encoder.transform(label_df['model'])\n",
    "\n",
    "# 转换`failure_time`列特征格式，用于匹配\n",
    "label_df['failure_time'] = pd.to_datetime(label_df['failure_time']).dt.strftime('%Y%m%d')\n",
    "label_df['failure_time'] = label_df['failure_time'].astype(\"int64\")\n",
    "\n",
    "#转换model格式\n",
    "label_df['model'] = label_df['model'].astype(\"int64\")\n",
    "\n",
    "# 在label_df中创建故障标记列\n",
    "label_df['failure'] = 1"
   ]
  },
  {
   "cell_type": "markdown",
   "id": "9182908d-8fd4-4740-bc2b-e515b8099bc8",
   "metadata": {},
   "source": [
    "## 以Model_ID划分文件 & Add Failure babel & drop all NULL column"
   ]
  },
  {
   "cell_type": "code",
   "execution_count": 62,
   "id": "210c55b1-5b20-49eb-a612-b6d61fe8f0d0",
   "metadata": {},
   "outputs": [],
   "source": [
    "def process_file(file_path):\n",
    "    # 读取数据\n",
    "    df = pd.read_csv(file_path)\n",
    "\n",
    "    # 数据预处理\n",
    "    df['model'] = label_encoder.transform(df['model'])\n",
    "    \n",
    "    # 合并数据，添加故障标签\n",
    "    df = pd.merge(df, label_df[['model', 'disk_id', 'failure_time', 'failure']], \n",
    "                         left_on=['model', 'disk_id', 'ds'], \n",
    "                         right_on=['model', 'disk_id', 'failure_time'], \n",
    "                         how='left')\n",
    "    \n",
    "    # 将故障列的空值填充为0\n",
    "    df['failure'].fillna(0, inplace=True)\n",
    "    #print(sum(merged_df[\"failure\"]))\n",
    "    \n",
    "    # 删除特定的列\n",
    "    df.drop(['disk_id', 'failure_time',\"ds\"], axis=1, inplace=True)\n",
    "\n",
    "\n",
    "    return df\n",
    "\n",
    "def save_model_data(df, output_folder):\n",
    "    model_ids = df['model'].unique()\n",
    "    \n",
    "    for model_id in model_ids:\n",
    "        model_df = df[df['model'] == model_id]\n",
    "        \n",
    "        # 删除列中全为NULL的特征\n",
    "        model_df = model_df.dropna(axis=1, how='all')\n",
    "        model_df.drop(['model'], axis=1, inplace=True)\n",
    "        # model_df = model_df.loc[:, model_df.var() != 0 | (model_df.columns == 'ds')]\n",
    "        \n",
    "        # 创建目标文件夹（如果不存在）\n",
    "        model_folder = os.path.join(output_folder, f'model_{model_id}')\n",
    "        os.makedirs(model_folder, exist_ok=True)\n",
    "\n",
    "        # 保存到CSV文件\n",
    "        output_file = os.path.join(model_folder, os.path.basename(file_path))\n",
    "        model_df.to_csv(output_file, index=False)\n",
    "\n",
    "\n",
    "# 文件夹路径\n",
    "data_folder = r'D:\\Anaconda3\\envs\\Resource\\smartlog'\n",
    "output_folder = r'D:\\Anaconda3\\envs\\Resource\\filtered_data'\n",
    "\n",
    "# 分割每个文件到各自model里的文件夹\n",
    "for file_name in os.listdir(data_folder):\n",
    "    file_path = os.path.join(data_folder, file_name)\n",
    "    if os.path.isfile(file_path) and file_path.endswith('.csv'):\n",
    "        df_processed = process_file(file_path)\n",
    "        save_model_data(df_processed, output_folder)"
   ]
  },
  {
   "cell_type": "markdown",
   "id": "77900da6-7945-4272-ae90-9492b1304082",
   "metadata": {},
   "source": [
    "### 读取初步分类files,贴上故障标签，删除多余特征，按类别使用众数填充缺失值，保存数据于子文件夹"
   ]
  },
  {
   "cell_type": "code",
   "execution_count": 4,
   "id": "6dfa59b4-aa0a-40da-9bbc-a7a95b057e80",
   "metadata": {},
   "outputs": [],
   "source": [
    "def process_file(file_path, label_df,model_number):\n",
    "    # 读取数据\n",
    "    df = pd.read_csv(file_path)\n",
    "\n",
    "    df['model'] = model_number\n",
    "    \n",
    "    #删除方差为0的列\n",
    "    merged_df = df.loc[:, merged_df.var() != 0 | (merged_df.columns == 'failure')]\n",
    "\n",
    "    for col in merged_df.columns:\n",
    "        # 检查该列是否完全为空\n",
    "        if merged_df[merged_df['failure'] == 1][col].notna().any():\n",
    "            mode_val = merged_df[merged_df['failure'] == 1][col].mode()[0]\n",
    "            merged_df.loc[merged_df['failure'] == 1, col] = merged_df[merged_df['failure'] == 1][col].fillna(mode_val)\n",
    "    \n",
    "    # 对于非故障数据（failure = 0），也使用众数填充\n",
    "    for col in merged_df.columns:\n",
    "        if merged_df[merged_df['failure'] == 0][col].notna().any():\n",
    "            mode_val = merged_df[merged_df['failure'] == 0][col].mode()[0]\n",
    "            merged_df.loc[merged_df['failure'] == 0, col] = merged_df[merged_df['failure'] == 0][col].fillna(mode_val)\n",
    "\n",
    "    return merged_df"
   ]
  },
  {
   "cell_type": "code",
   "execution_count": 8,
   "id": "b8a3c4e7-cc4a-4afc-a57c-733e8c01f2ec",
   "metadata": {
    "scrolled": true
   },
   "outputs": [],
   "source": [
    "folder_path = r'D:\\Anaconda3\\envs\\Resource\\filtered_data\\model_5'  # 替换为文件夹路径\n",
    "\n",
    "def create_subfolder(parent_folder, subfolder_name):\n",
    "    subfolder_path = os.path.join(parent_folder, subfolder_name)\n",
    "    if not os.path.exists(subfolder_path):\n",
    "        os.makedirs(subfolder_path)\n",
    "    return subfolder_path\n",
    "    \n",
    "# 创建子文件夹\n",
    "processed_folder = create_subfolder(folder_path, 'processed_data')  \n",
    "\n",
    "for file in os.listdir(folder_path):\n",
    "    file_path = os.path.join(folder_path, file)\n",
    "    if os.path.isfile(file_path) and file.endswith('.csv'):\n",
    "        processed_df = process_file(file_path, label_df,model_number=0)\n",
    "        # 可以选择保存处理后的文件\n",
    "        processed_df.to_csv(os.path.join(processed_folder, 'processed_' + file), index=False)\n"
   ]
  },
  {
   "cell_type": "markdown",
   "id": "a5556d59-e292-4985-b9aa-62d8f3ae567f",
   "metadata": {},
   "source": [
    "## 欠采样多数类"
   ]
  },
  {
   "cell_type": "code",
   "execution_count": 63,
   "id": "58443c4c-4c34-4e92-a617-42305430ecb7",
   "metadata": {},
   "outputs": [],
   "source": [
    "from sklearn.utils import resample\n",
    "def resample_data(df,  undersample_ratio,column='failure'):\n",
    "\n",
    "    df_majority = df[df[column] == 0]\n",
    "    df_minority = df[df[column] == 1]\n",
    "    \n",
    "    # 欠采样多数类 'failure == 0'\n",
    "    majority_sample_size = int(len(df_majority) * undersample_ratio)\n",
    "    \n",
    "    df_majority_undersampled = resample(\n",
    "                                        df_majority, \n",
    "                                        replace=False,    \n",
    "                                        n_samples=majority_sample_size,     \n",
    "                                        random_state=123\n",
    "                                       )\n",
    "\n",
    "    # 合并采样多数和少数类数据\n",
    "    df_sampled = pd.concat([df_minority, df_majority_undersampled])\n",
    "\n",
    "    return df_sampled"
   ]
  },
  {
   "cell_type": "markdown",
   "id": "a66a839c-0cea-4157-a2da-c3fd156d244a",
   "metadata": {},
   "source": [
    "### 使用交叉验证和网格搜索来找到最佳的超参数组合。"
   ]
  },
  {
   "cell_type": "code",
   "execution_count": null,
   "id": "f86cd743-98ac-4ef4-b089-855863547d25",
   "metadata": {
    "scrolled": true
   },
   "outputs": [],
   "source": [
    "from sklearn.ensemble import AdaBoostClassifier\n",
    "from sklearn.tree import DecisionTreeClassifier\n",
    "from sklearn.model_selection import GridSearchCV\n",
    "\n",
    "param_grid = {\n",
    "    'base_estimator__max_depth': [5, 10],\n",
    "    'n_estimators': [100, 200],\n",
    "    'learning_rate': [0.05, 0.1]\n",
    "}\n",
    "\n",
    "grid_search = GridSearchCV(AdaBoostClassifier(base_estimator=DecisionTreeClassifier()),\n",
    "                           param_grid,\n",
    "                           cv=5,\n",
    "                           scoring='recall')  # 也可以尝试使用 'f1' 或其他指标\n",
    "\n",
    "grid_search.fit(X_train, y_train)\n",
    "print(\"Best parameters:\", grid_search.best_params_)\n"
   ]
  },
  {
   "cell_type": "markdown",
   "id": "527b2df9-1385-4762-a29a-e523b63230b5",
   "metadata": {},
   "source": [
    "## SMOTE 过采样"
   ]
  },
  {
   "cell_type": "code",
   "execution_count": 64,
   "id": "88a2a91a-d878-4eb1-9eef-640e16824719",
   "metadata": {},
   "outputs": [],
   "source": [
    "#先对非故障样本欠采样\n",
    "def smote_process_folder(folder_path, undersample_ratio):\n",
    "    all_data = pd.DataFrame()\n",
    "    for file in os.listdir(folder_path):\n",
    "        file_path = os.path.join(folder_path, file)\n",
    "        if os.path.isfile(file_path) and file.endswith('.csv'):\n",
    "            df = pd.read_csv(file_path)\n",
    "            # 对数据进行过欠采样\n",
    "            df_sampled = resample_data(df, undersample_ratio)\n",
    "            # 将处理后的数据添加到总数据集\n",
    "            all_data = pd.concat([all_data, df_sampled], ignore_index=True)\n",
    "    return all_data\n"
   ]
  },
  {
   "cell_type": "code",
   "execution_count": 66,
   "id": "b1e5143d-7ed4-4065-a485-484b605a3414",
   "metadata": {},
   "outputs": [],
   "source": [
    "folder_path = r'D:\\Anaconda3\\envs\\Resource\\filtered_data\\model_0'   # 替换为您的文件夹路径\n",
    "combined_data = smote_process_folder(folder_path,undersample_ratio=0.001)"
   ]
  },
  {
   "cell_type": "code",
   "execution_count": 94,
   "id": "348751d4-9ff8-48ab-84dd-244cae30c15e",
   "metadata": {},
   "outputs": [
    {
     "data": {
      "text/html": [
       "<div>\n",
       "<style scoped>\n",
       "    .dataframe tbody tr th:only-of-type {\n",
       "        vertical-align: middle;\n",
       "    }\n",
       "\n",
       "    .dataframe tbody tr th {\n",
       "        vertical-align: top;\n",
       "    }\n",
       "\n",
       "    .dataframe thead th {\n",
       "        text-align: right;\n",
       "    }\n",
       "</style>\n",
       "<table border=\"1\" class=\"dataframe\">\n",
       "  <thead>\n",
       "    <tr style=\"text-align: right;\">\n",
       "      <th></th>\n",
       "      <th>n_1</th>\n",
       "      <th>r_1</th>\n",
       "      <th>n_5</th>\n",
       "      <th>r_5</th>\n",
       "      <th>n_9</th>\n",
       "      <th>r_9</th>\n",
       "      <th>n_12</th>\n",
       "      <th>r_12</th>\n",
       "      <th>n_171</th>\n",
       "      <th>r_171</th>\n",
       "      <th>...</th>\n",
       "      <th>r_196</th>\n",
       "      <th>n_197</th>\n",
       "      <th>r_197</th>\n",
       "      <th>n_198</th>\n",
       "      <th>r_198</th>\n",
       "      <th>n_199</th>\n",
       "      <th>r_199</th>\n",
       "      <th>n_175</th>\n",
       "      <th>r_175</th>\n",
       "      <th>failure</th>\n",
       "    </tr>\n",
       "  </thead>\n",
       "  <tbody>\n",
       "    <tr>\n",
       "      <th>count</th>\n",
       "      <td>8565.0</td>\n",
       "      <td>8.565000e+03</td>\n",
       "      <td>8565.000000</td>\n",
       "      <td>8.565000e+03</td>\n",
       "      <td>8565.0</td>\n",
       "      <td>8.565000e+03</td>\n",
       "      <td>8565.0</td>\n",
       "      <td>8.565000e+03</td>\n",
       "      <td>8565.000000</td>\n",
       "      <td>8.565000e+03</td>\n",
       "      <td>...</td>\n",
       "      <td>8.565000e+03</td>\n",
       "      <td>8565.0</td>\n",
       "      <td>8.565000e+03</td>\n",
       "      <td>8565.0</td>\n",
       "      <td>8.565000e+03</td>\n",
       "      <td>8565.0</td>\n",
       "      <td>8.565000e+03</td>\n",
       "      <td>8565.000000</td>\n",
       "      <td>8.565000e+03</td>\n",
       "      <td>8565.000000</td>\n",
       "    </tr>\n",
       "    <tr>\n",
       "      <th>mean</th>\n",
       "      <td>130.0</td>\n",
       "      <td>1.576219e-16</td>\n",
       "      <td>96.632691</td>\n",
       "      <td>-3.940546e-17</td>\n",
       "      <td>100.0</td>\n",
       "      <td>2.256481e-16</td>\n",
       "      <td>100.0</td>\n",
       "      <td>-3.712410e-17</td>\n",
       "      <td>99.966141</td>\n",
       "      <td>-1.348082e-18</td>\n",
       "      <td>...</td>\n",
       "      <td>-3.940546e-17</td>\n",
       "      <td>100.0</td>\n",
       "      <td>7.466298e-18</td>\n",
       "      <td>100.0</td>\n",
       "      <td>-2.696163e-18</td>\n",
       "      <td>100.0</td>\n",
       "      <td>4.873834e-18</td>\n",
       "      <td>98.763222</td>\n",
       "      <td>1.141514e-15</td>\n",
       "      <td>0.032458</td>\n",
       "    </tr>\n",
       "    <tr>\n",
       "      <th>std</th>\n",
       "      <td>0.0</td>\n",
       "      <td>1.000058e+00</td>\n",
       "      <td>3.274718</td>\n",
       "      <td>1.000058e+00</td>\n",
       "      <td>0.0</td>\n",
       "      <td>1.000058e+00</td>\n",
       "      <td>0.0</td>\n",
       "      <td>1.000058e+00</td>\n",
       "      <td>1.651722</td>\n",
       "      <td>1.000058e+00</td>\n",
       "      <td>...</td>\n",
       "      <td>1.000058e+00</td>\n",
       "      <td>0.0</td>\n",
       "      <td>1.000058e+00</td>\n",
       "      <td>0.0</td>\n",
       "      <td>1.000058e+00</td>\n",
       "      <td>0.0</td>\n",
       "      <td>1.000058e+00</td>\n",
       "      <td>10.996612</td>\n",
       "      <td>1.000058e+00</td>\n",
       "      <td>0.177223</td>\n",
       "    </tr>\n",
       "    <tr>\n",
       "      <th>min</th>\n",
       "      <td>130.0</td>\n",
       "      <td>-3.613103e+00</td>\n",
       "      <td>1.000000</td>\n",
       "      <td>-7.050355e-02</td>\n",
       "      <td>100.0</td>\n",
       "      <td>-6.566286e+00</td>\n",
       "      <td>100.0</td>\n",
       "      <td>-7.686049e-01</td>\n",
       "      <td>1.000000</td>\n",
       "      <td>-1.660306e-02</td>\n",
       "      <td>...</td>\n",
       "      <td>-7.050355e-02</td>\n",
       "      <td>100.0</td>\n",
       "      <td>-6.272064e-02</td>\n",
       "      <td>100.0</td>\n",
       "      <td>-1.670141e-02</td>\n",
       "      <td>100.0</td>\n",
       "      <td>-1.714433e-02</td>\n",
       "      <td>1.000000</td>\n",
       "      <td>-6.516846e+00</td>\n",
       "      <td>0.000000</td>\n",
       "    </tr>\n",
       "    <tr>\n",
       "      <th>25%</th>\n",
       "      <td>130.0</td>\n",
       "      <td>2.830453e-01</td>\n",
       "      <td>96.000000</td>\n",
       "      <td>-7.050355e-02</td>\n",
       "      <td>100.0</td>\n",
       "      <td>-4.200930e-01</td>\n",
       "      <td>100.0</td>\n",
       "      <td>-1.454412e-01</td>\n",
       "      <td>100.000000</td>\n",
       "      <td>-1.660306e-02</td>\n",
       "      <td>...</td>\n",
       "      <td>-7.050355e-02</td>\n",
       "      <td>100.0</td>\n",
       "      <td>-6.272064e-02</td>\n",
       "      <td>100.0</td>\n",
       "      <td>-1.670141e-02</td>\n",
       "      <td>100.0</td>\n",
       "      <td>-1.714433e-02</td>\n",
       "      <td>100.000000</td>\n",
       "      <td>-4.125235e-01</td>\n",
       "      <td>0.000000</td>\n",
       "    </tr>\n",
       "    <tr>\n",
       "      <th>50%</th>\n",
       "      <td>130.0</td>\n",
       "      <td>2.830453e-01</td>\n",
       "      <td>97.000000</td>\n",
       "      <td>-7.050355e-02</td>\n",
       "      <td>100.0</td>\n",
       "      <td>6.412415e-02</td>\n",
       "      <td>100.0</td>\n",
       "      <td>-1.038970e-01</td>\n",
       "      <td>100.000000</td>\n",
       "      <td>-1.660306e-02</td>\n",
       "      <td>...</td>\n",
       "      <td>-7.050355e-02</td>\n",
       "      <td>100.0</td>\n",
       "      <td>-6.272064e-02</td>\n",
       "      <td>100.0</td>\n",
       "      <td>-1.670141e-02</td>\n",
       "      <td>100.0</td>\n",
       "      <td>-1.714433e-02</td>\n",
       "      <td>100.000000</td>\n",
       "      <td>6.948464e-02</td>\n",
       "      <td>0.000000</td>\n",
       "    </tr>\n",
       "    <tr>\n",
       "      <th>75%</th>\n",
       "      <td>130.0</td>\n",
       "      <td>2.830453e-01</td>\n",
       "      <td>98.000000</td>\n",
       "      <td>-7.050355e-02</td>\n",
       "      <td>100.0</td>\n",
       "      <td>5.754561e-01</td>\n",
       "      <td>100.0</td>\n",
       "      <td>-3.637850e-05</td>\n",
       "      <td>100.000000</td>\n",
       "      <td>-1.660306e-02</td>\n",
       "      <td>...</td>\n",
       "      <td>-7.050355e-02</td>\n",
       "      <td>100.0</td>\n",
       "      <td>-6.272064e-02</td>\n",
       "      <td>100.0</td>\n",
       "      <td>-1.670141e-02</td>\n",
       "      <td>100.0</td>\n",
       "      <td>-1.714433e-02</td>\n",
       "      <td>100.000000</td>\n",
       "      <td>5.782924e-01</td>\n",
       "      <td>0.000000</td>\n",
       "    </tr>\n",
       "    <tr>\n",
       "      <th>max</th>\n",
       "      <td>130.0</td>\n",
       "      <td>3.534839e+01</td>\n",
       "      <td>98.000000</td>\n",
       "      <td>3.323372e+01</td>\n",
       "      <td>100.0</td>\n",
       "      <td>1.981075e+00</td>\n",
       "      <td>100.0</td>\n",
       "      <td>3.128278e+01</td>\n",
       "      <td>100.000000</td>\n",
       "      <td>6.540776e+01</td>\n",
       "      <td>...</td>\n",
       "      <td>3.323372e+01</td>\n",
       "      <td>100.0</td>\n",
       "      <td>3.063455e+01</td>\n",
       "      <td>100.0</td>\n",
       "      <td>7.571436e+01</td>\n",
       "      <td>100.0</td>\n",
       "      <td>8.854358e+01</td>\n",
       "      <td>100.000000</td>\n",
       "      <td>1.993615e+00</td>\n",
       "      <td>1.000000</td>\n",
       "    </tr>\n",
       "  </tbody>\n",
       "</table>\n",
       "<p>8 rows × 41 columns</p>\n",
       "</div>"
      ],
      "text/plain": [
       "          n_1           r_1          n_5           r_5     n_9           r_9  \\\n",
       "count  8565.0  8.565000e+03  8565.000000  8.565000e+03  8565.0  8.565000e+03   \n",
       "mean    130.0  1.576219e-16    96.632691 -3.940546e-17   100.0  2.256481e-16   \n",
       "std       0.0  1.000058e+00     3.274718  1.000058e+00     0.0  1.000058e+00   \n",
       "min     130.0 -3.613103e+00     1.000000 -7.050355e-02   100.0 -6.566286e+00   \n",
       "25%     130.0  2.830453e-01    96.000000 -7.050355e-02   100.0 -4.200930e-01   \n",
       "50%     130.0  2.830453e-01    97.000000 -7.050355e-02   100.0  6.412415e-02   \n",
       "75%     130.0  2.830453e-01    98.000000 -7.050355e-02   100.0  5.754561e-01   \n",
       "max     130.0  3.534839e+01    98.000000  3.323372e+01   100.0  1.981075e+00   \n",
       "\n",
       "         n_12          r_12        n_171         r_171  ...         r_196  \\\n",
       "count  8565.0  8.565000e+03  8565.000000  8.565000e+03  ...  8.565000e+03   \n",
       "mean    100.0 -3.712410e-17    99.966141 -1.348082e-18  ... -3.940546e-17   \n",
       "std       0.0  1.000058e+00     1.651722  1.000058e+00  ...  1.000058e+00   \n",
       "min     100.0 -7.686049e-01     1.000000 -1.660306e-02  ... -7.050355e-02   \n",
       "25%     100.0 -1.454412e-01   100.000000 -1.660306e-02  ... -7.050355e-02   \n",
       "50%     100.0 -1.038970e-01   100.000000 -1.660306e-02  ... -7.050355e-02   \n",
       "75%     100.0 -3.637850e-05   100.000000 -1.660306e-02  ... -7.050355e-02   \n",
       "max     100.0  3.128278e+01   100.000000  6.540776e+01  ...  3.323372e+01   \n",
       "\n",
       "        n_197         r_197   n_198         r_198   n_199         r_199  \\\n",
       "count  8565.0  8.565000e+03  8565.0  8.565000e+03  8565.0  8.565000e+03   \n",
       "mean    100.0  7.466298e-18   100.0 -2.696163e-18   100.0  4.873834e-18   \n",
       "std       0.0  1.000058e+00     0.0  1.000058e+00     0.0  1.000058e+00   \n",
       "min     100.0 -6.272064e-02   100.0 -1.670141e-02   100.0 -1.714433e-02   \n",
       "25%     100.0 -6.272064e-02   100.0 -1.670141e-02   100.0 -1.714433e-02   \n",
       "50%     100.0 -6.272064e-02   100.0 -1.670141e-02   100.0 -1.714433e-02   \n",
       "75%     100.0 -6.272064e-02   100.0 -1.670141e-02   100.0 -1.714433e-02   \n",
       "max     100.0  3.063455e+01   100.0  7.571436e+01   100.0  8.854358e+01   \n",
       "\n",
       "             n_175         r_175      failure  \n",
       "count  8565.000000  8.565000e+03  8565.000000  \n",
       "mean     98.763222  1.141514e-15     0.032458  \n",
       "std      10.996612  1.000058e+00     0.177223  \n",
       "min       1.000000 -6.516846e+00     0.000000  \n",
       "25%     100.000000 -4.125235e-01     0.000000  \n",
       "50%     100.000000  6.948464e-02     0.000000  \n",
       "75%     100.000000  5.782924e-01     0.000000  \n",
       "max     100.000000  1.993615e+00     1.000000  \n",
       "\n",
       "[8 rows x 41 columns]"
      ]
     },
     "execution_count": 94,
     "metadata": {},
     "output_type": "execute_result"
    }
   ],
   "source": [
    "merged_df.describe()"
   ]
  },
  {
   "cell_type": "code",
   "execution_count": 98,
   "id": "875883bc-5f35-4edf-9cef-a28e36a8c258",
   "metadata": {},
   "outputs": [],
   "source": [
    "# 数据填充;drop var == 0\n",
    "merged_df = combined_data\n",
    "for col in merged_df.columns:\n",
    "    # 检查该列是否完全为空\n",
    "    if merged_df[merged_df['failure'] == 1][col].notna().any():\n",
    "        mode_val = merged_df[merged_df['failure'] == 1][col].mode()[0]\n",
    "        merged_df.loc[merged_df['failure'] == 1, col] = merged_df[merged_df['failure'] == 1][col].fillna(mode_val)\n",
    "\n",
    "# 对于非故障数据（failure = 0），也使用众数填充\n",
    "for col in merged_df.columns:\n",
    "    if merged_df[merged_df['failure'] == 0][col].notna().any():\n",
    "        mode_val = merged_df[merged_df['failure'] == 0][col].mode()[0]\n",
    "        merged_df.loc[merged_df['failure'] == 0, col] = merged_df[merged_df['failure'] == 0][col].fillna(mode_val)\n",
    "\n",
    "combined_data = merged_df\n"
   ]
  },
  {
   "cell_type": "markdown",
   "id": "ce1cba14-99ef-4d16-90fa-08c7dad06d6b",
   "metadata": {},
   "source": [
    "### 基于小样本数据进行特征相关性分析"
   ]
  },
  {
   "cell_type": "code",
   "execution_count": null,
   "id": "c83dd447-6824-45e1-babb-698b8f5f2597",
   "metadata": {},
   "outputs": [],
   "source": [
    "# 提取 failure=1 的样本\n",
    "failure_1_samples = combined_data[combined_data['failure'] == 1]\n",
    "\n",
    "# 随机抽取相同数量的 failure=0 样本\n",
    "failure_0_samples = combined_data[combined_data['failure'] == 0].sample(n=len(failure_1_samples)*1, random_state=42)\n",
    "\n",
    "# 合并样本\n",
    "analyzed_samples = pd.concat([failure_1_samples, failure_0_samples])\n",
    "\n",
    "correlation_matrix = analyzed_samples.corr()\n",
    "correlation_with_target = correlation_matrix['failure'].sort_values(ascending=False)\n",
    "#print(correlation_with_target)\n",
    "selected_features = correlation_with_target[(correlation_with_target > 0.1) | (correlation_with_target < -0.3)].index.tolist()\n",
    "#print(selected_features)"
   ]
  },
  {
   "cell_type": "markdown",
   "id": "876d8154-d533-46ff-a760-129a4d2bd2d9",
   "metadata": {},
   "source": [
    "去除共线性特征"
   ]
  },
  {
   "cell_type": "code",
   "execution_count": 100,
   "id": "81839966-b7e9-4ca8-9d8a-ff2a86f6482e",
   "metadata": {},
   "outputs": [
    {
     "name": "stdout",
     "output_type": "stream",
     "text": [
      "['r_190', 'failure', 'r_195', 'n_173', 'r_188', 'r_1', 'n_175', 'r_194']\n"
     ]
    }
   ],
   "source": [
    "import random\n",
    "def select_random_features(features):\n",
    "    selected_features = set()\n",
    "    grouped_features = {}\n",
    "\n",
    "    # 将特征按后缀分组\n",
    "    for feature in features:\n",
    "        suffix = ''.join(filter(str.isdigit, feature))\n",
    "        grouped_features.setdefault(suffix, []).append(feature)\n",
    "\n",
    "    # 对于每组后缀，随机选择一个特征\n",
    "    for suffix, feat_group in grouped_features.items():\n",
    "        selected_features.add(random.choice(feat_group))\n",
    "\n",
    "    return list(selected_features)\n",
    "    \n",
    "adjusted_features = select_random_features(selected_features)\n",
    "print(adjusted_features)\n",
    "adjusted_data = combined_data[adjusted_features]"
   ]
  },
  {
   "cell_type": "markdown",
   "id": "85449111-4d38-4fde-85ec-dd60abdb3caa",
   "metadata": {},
   "source": [
    "#### 建立分类器"
   ]
  },
  {
   "cell_type": "code",
   "execution_count": 101,
   "id": "a980f1f4-2ad5-4657-83e0-13ab089e4ac5",
   "metadata": {},
   "outputs": [],
   "source": [
    "from sklearn.model_selection import train_test_split\n",
    "from sklearn.ensemble import AdaBoostClassifier\n",
    "from sklearn.tree import DecisionTreeClassifier\n",
    "from sklearn.model_selection import GridSearchCV\n",
    "from imblearn.over_sampling import SMOTE\n",
    "\n",
    "X = adjusted_data.drop('failure', axis=1)  # 特征数据\n",
    "y = adjusted_data['failure']  # 目标变量\n",
    "\n",
    "X_train, X_test, y_train, y_test = train_test_split(X, y, test_size=0.2, random_state=42)"
   ]
  },
  {
   "cell_type": "code",
   "execution_count": 165,
   "id": "df389448-a40e-40d2-97eb-dcb30a06630e",
   "metadata": {},
   "outputs": [],
   "source": [
    "# num_majority = y_train.value_counts()[0]\n",
    "# target_num_minority = num_majority // 50 \n",
    "# smote = SMOTE(sampling_strategy={1: target_num_minority},random_state=42)\n",
    "\n",
    "#对测试集重抽样\n",
    "smote = SMOTE(sampling_strategy=1,random_state=30)\n",
    "X_train_smote, y_train_smote = smote.fit_resample(X_train, y_train)"
   ]
  },
  {
   "cell_type": "code",
   "execution_count": 166,
   "id": "be0da49c-e41c-4870-800b-fd2291d0b476",
   "metadata": {},
   "outputs": [
    {
     "name": "stderr",
     "output_type": "stream",
     "text": [
      "D:\\Anaconda3\\envs\\pytorch\\lib\\site-packages\\sklearn\\ensemble\\_base.py:156: FutureWarning: `base_estimator` was renamed to `estimator` in version 1.2 and will be removed in 1.4.\n",
      "  warnings.warn(\n"
     ]
    },
    {
     "data": {
      "text/html": [
       "<style>#sk-container-id-29 {color: black;}#sk-container-id-29 pre{padding: 0;}#sk-container-id-29 div.sk-toggleable {background-color: white;}#sk-container-id-29 label.sk-toggleable__label {cursor: pointer;display: block;width: 100%;margin-bottom: 0;padding: 0.3em;box-sizing: border-box;text-align: center;}#sk-container-id-29 label.sk-toggleable__label-arrow:before {content: \"▸\";float: left;margin-right: 0.25em;color: #696969;}#sk-container-id-29 label.sk-toggleable__label-arrow:hover:before {color: black;}#sk-container-id-29 div.sk-estimator:hover label.sk-toggleable__label-arrow:before {color: black;}#sk-container-id-29 div.sk-toggleable__content {max-height: 0;max-width: 0;overflow: hidden;text-align: left;background-color: #f0f8ff;}#sk-container-id-29 div.sk-toggleable__content pre {margin: 0.2em;color: black;border-radius: 0.25em;background-color: #f0f8ff;}#sk-container-id-29 input.sk-toggleable__control:checked~div.sk-toggleable__content {max-height: 200px;max-width: 100%;overflow: auto;}#sk-container-id-29 input.sk-toggleable__control:checked~label.sk-toggleable__label-arrow:before {content: \"▾\";}#sk-container-id-29 div.sk-estimator input.sk-toggleable__control:checked~label.sk-toggleable__label {background-color: #d4ebff;}#sk-container-id-29 div.sk-label input.sk-toggleable__control:checked~label.sk-toggleable__label {background-color: #d4ebff;}#sk-container-id-29 input.sk-hidden--visually {border: 0;clip: rect(1px 1px 1px 1px);clip: rect(1px, 1px, 1px, 1px);height: 1px;margin: -1px;overflow: hidden;padding: 0;position: absolute;width: 1px;}#sk-container-id-29 div.sk-estimator {font-family: monospace;background-color: #f0f8ff;border: 1px dotted black;border-radius: 0.25em;box-sizing: border-box;margin-bottom: 0.5em;}#sk-container-id-29 div.sk-estimator:hover {background-color: #d4ebff;}#sk-container-id-29 div.sk-parallel-item::after {content: \"\";width: 100%;border-bottom: 1px solid gray;flex-grow: 1;}#sk-container-id-29 div.sk-label:hover label.sk-toggleable__label {background-color: #d4ebff;}#sk-container-id-29 div.sk-serial::before {content: \"\";position: absolute;border-left: 1px solid gray;box-sizing: border-box;top: 0;bottom: 0;left: 50%;z-index: 0;}#sk-container-id-29 div.sk-serial {display: flex;flex-direction: column;align-items: center;background-color: white;padding-right: 0.2em;padding-left: 0.2em;position: relative;}#sk-container-id-29 div.sk-item {position: relative;z-index: 1;}#sk-container-id-29 div.sk-parallel {display: flex;align-items: stretch;justify-content: center;background-color: white;position: relative;}#sk-container-id-29 div.sk-item::before, #sk-container-id-29 div.sk-parallel-item::before {content: \"\";position: absolute;border-left: 1px solid gray;box-sizing: border-box;top: 0;bottom: 0;left: 50%;z-index: -1;}#sk-container-id-29 div.sk-parallel-item {display: flex;flex-direction: column;z-index: 1;position: relative;background-color: white;}#sk-container-id-29 div.sk-parallel-item:first-child::after {align-self: flex-end;width: 50%;}#sk-container-id-29 div.sk-parallel-item:last-child::after {align-self: flex-start;width: 50%;}#sk-container-id-29 div.sk-parallel-item:only-child::after {width: 0;}#sk-container-id-29 div.sk-dashed-wrapped {border: 1px dashed gray;margin: 0 0.4em 0.5em 0.4em;box-sizing: border-box;padding-bottom: 0.4em;background-color: white;}#sk-container-id-29 div.sk-label label {font-family: monospace;font-weight: bold;display: inline-block;line-height: 1.2em;}#sk-container-id-29 div.sk-label-container {text-align: center;}#sk-container-id-29 div.sk-container {/* jupyter's `normalize.less` sets `[hidden] { display: none; }` but bootstrap.min.css set `[hidden] { display: none !important; }` so we also need the `!important` here to be able to override the default hidden behavior on the sphinx rendered scikit-learn.org. See: https://github.com/scikit-learn/scikit-learn/issues/21755 */display: inline-block !important;position: relative;}#sk-container-id-29 div.sk-text-repr-fallback {display: none;}</style><div id=\"sk-container-id-29\" class=\"sk-top-container\"><div class=\"sk-text-repr-fallback\"><pre>AdaBoostClassifier(base_estimator=DecisionTreeClassifier(max_depth=2),\n",
       "                   learning_rate=0.01, n_estimators=200, random_state=30)</pre><b>In a Jupyter environment, please rerun this cell to show the HTML representation or trust the notebook. <br />On GitHub, the HTML representation is unable to render, please try loading this page with nbviewer.org.</b></div><div class=\"sk-container\" hidden><div class=\"sk-item sk-dashed-wrapped\"><div class=\"sk-label-container\"><div class=\"sk-label sk-toggleable\"><input class=\"sk-toggleable__control sk-hidden--visually\" id=\"sk-estimator-id-83\" type=\"checkbox\" ><label for=\"sk-estimator-id-83\" class=\"sk-toggleable__label sk-toggleable__label-arrow\">AdaBoostClassifier</label><div class=\"sk-toggleable__content\"><pre>AdaBoostClassifier(base_estimator=DecisionTreeClassifier(max_depth=2),\n",
       "                   learning_rate=0.01, n_estimators=200, random_state=30)</pre></div></div></div><div class=\"sk-parallel\"><div class=\"sk-parallel-item\"><div class=\"sk-item\"><div class=\"sk-label-container\"><div class=\"sk-label sk-toggleable\"><input class=\"sk-toggleable__control sk-hidden--visually\" id=\"sk-estimator-id-84\" type=\"checkbox\" ><label for=\"sk-estimator-id-84\" class=\"sk-toggleable__label sk-toggleable__label-arrow\">base_estimator: DecisionTreeClassifier</label><div class=\"sk-toggleable__content\"><pre>DecisionTreeClassifier(max_depth=2)</pre></div></div></div><div class=\"sk-serial\"><div class=\"sk-item\"><div class=\"sk-estimator sk-toggleable\"><input class=\"sk-toggleable__control sk-hidden--visually\" id=\"sk-estimator-id-85\" type=\"checkbox\" ><label for=\"sk-estimator-id-85\" class=\"sk-toggleable__label sk-toggleable__label-arrow\">DecisionTreeClassifier</label><div class=\"sk-toggleable__content\"><pre>DecisionTreeClassifier(max_depth=2)</pre></div></div></div></div></div></div></div></div></div></div>"
      ],
      "text/plain": [
       "AdaBoostClassifier(base_estimator=DecisionTreeClassifier(max_depth=2),\n",
       "                   learning_rate=0.01, n_estimators=200, random_state=30)"
      ]
     },
     "execution_count": 166,
     "metadata": {},
     "output_type": "execute_result"
    }
   ],
   "source": [
    "#创建 AdaBoost 分类器实例，使用决策树作为基分类器\n",
    "adaBoost_model = AdaBoostClassifier(\n",
    "   base_estimator=DecisionTreeClassifier(max_depth=2),\n",
    "   n_estimators=200,\n",
    "   learning_rate=0.01, \n",
    "   random_state=30\n",
    ")\n",
    "\n",
    "#训练模型\n",
    "adaBoost_model.fit(X_train_smote, y_train_smote)"
   ]
  },
  {
   "cell_type": "code",
   "execution_count": 167,
   "id": "47e07f0c-1068-40e2-a098-3f6ccb5bbc50",
   "metadata": {},
   "outputs": [
    {
     "name": "stdout",
     "output_type": "stream",
     "text": [
      "              precision    recall  f1-score   support\n",
      "\n",
      "         0.0       1.00      0.97      0.98      1653\n",
      "         1.0       0.53      0.90      0.67        60\n",
      "\n",
      "    accuracy                           0.97      1713\n",
      "   macro avg       0.76      0.94      0.83      1713\n",
      "weighted avg       0.98      0.97      0.97      1713\n",
      "\n"
     ]
    }
   ],
   "source": [
    "from sklearn.metrics import classification_report, accuracy_score\n",
    "# 在测试集上进行预测\n",
    "y_pred = adaBoost_model.predict(X_test)\n",
    "\n",
    "# 计算并打印分类报告\n",
    "print(classification_report(y_test, y_pred))"
   ]
  },
  {
   "cell_type": "code",
   "execution_count": 168,
   "id": "6df84c30-3507-486c-ac80-6e815433fd93",
   "metadata": {},
   "outputs": [
    {
     "data": {
      "image/png": "[encoded data removed]",
      "text/plain": [
       "<Figure size 800x600 with 1 Axes>"
      ]
     },
     "metadata": {},
     "output_type": "display_data"
    }
   ],
   "source": [
    "from sklearn.metrics import precision_recall_curve\n",
    "import matplotlib.pyplot as plt\n",
    "\n",
    "# 假设 y_test 是测试集的真实标签\n",
    "# 假设 model 是您已经训练好的模型\n",
    "# 首先，获取模型对测试集的预测概率\n",
    "y_scores = adaBoost_model.predict_proba(X_test)[:, 1]  # 获取属于正类的概率\n",
    "\n",
    "# 计算精确率和召回率\n",
    "precision, recall, thresholds = precision_recall_curve(y_test, y_scores)\n",
    "\n",
    "# 绘制 PR 曲线\n",
    "plt.figure(figsize=(8, 6))\n",
    "plt.plot(recall, precision, color='b', label='PR Curve')\n",
    "plt.xlabel('Recall')\n",
    "plt.ylabel('Precision')\n",
    "plt.title('Precision-Recall Curve')\n",
    "plt.legend(loc='upper right')\n",
    "plt.show()"
   ]
  },
  {
   "cell_type": "code",
   "execution_count": 201,
   "id": "0b385f7c-ca31-46aa-b481-c82eb5ac3a08",
   "metadata": {},
   "outputs": [],
   "source": [
    "# 测试ing"
   ]
  },
  {
   "cell_type": "code",
   "execution_count": null,
   "id": "6c57cb6c-ff39-4da9-816c-44f581297ba0",
   "metadata": {},
   "outputs": [],
   "source": []
  }
 ],
 "metadata": {
  "kernelspec": {
   "display_name": "Python 3 (ipykernel)",
   "language": "python",
   "name": "python3"
  },
  "language_info": {
   "codemirror_mode": {
    "name": "ipython",
    "version": 3
   },
   "file_extension": ".py",
   "mimetype": "text/x-python",
   "name": "python",
   "nbconvert_exporter": "python",
   "pygments_lexer": "ipython3",
   "version": "3.8.18"
  }
 },
 "nbformat": 4,
 "nbformat_minor": 5
}
