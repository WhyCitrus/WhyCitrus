{
 "cells": [
  {
   "metadata": {
    "ExecuteTime": {
     "end_time": "2024-12-26T03:13:15.584689Z",
     "start_time": "2024-12-26T03:13:13.439717Z"
    }
   },
   "cell_type": "code",
   "source": [
    "import pandas as pd\n",
    "import numpy as np\n",
    "from sklearn.preprocessing import LabelEncoder\n",
    "\n",
    "import torch\n",
    "from torch.utils.data import Dataset, DataLoader\n",
    "from torch.utils.tensorboard import SummaryWriter\n",
    "\n",
    "import sklearn\n",
    "from sklearn.metrics import accuracy_score, roc_auc_score"
   ],
   "id": "170741ae2a91038d",
   "outputs": [],
   "execution_count": 1
  },
  {
   "metadata": {
    "ExecuteTime": {
     "end_time": "2024-12-26T03:13:16.235641Z",
     "start_time": "2024-12-26T03:13:16.187196Z"
    }
   },
   "cell_type": "code",
   "source": [
    "train_df=pd.read_csv(\"train.csv\", index_col='id')\n",
    "test_df=pd.read_csv(\"test.csv\", index_col='id')"
   ],
   "id": "4badcf26f7a38eb5",
   "outputs": [],
   "execution_count": 2
  },
  {
   "metadata": {
    "ExecuteTime": {
     "end_time": "2024-12-26T03:13:17.103027Z",
     "start_time": "2024-12-26T03:13:17.088191Z"
    }
   },
   "cell_type": "code",
   "source": [
    "'''get training feat'''\n",
    "\n",
    "non_float_columns = train_df.select_dtypes(exclude=['float']).columns\n",
    "categorical_features = list(non_float_columns)\n",
    "categorical_features.remove('NObeyesdad')\n",
    "\n",
    "float_columns = train_df.select_dtypes(include=['float']).columns\n",
    "numerical_features = list(float_columns)\n",
    "\n",
    "target = 'NObeyesdad'"
   ],
   "id": "9c5614219ebacb17",
   "outputs": [],
   "execution_count": 3
  },
  {
   "metadata": {
    "ExecuteTime": {
     "end_time": "2024-12-26T03:13:17.786683Z",
     "start_time": "2024-12-26T03:13:17.739417Z"
    }
   },
   "cell_type": "code",
   "source": [
    "class ExtendedLabelEncoder(LabelEncoder):\n",
    "    def transform(self, y):\n",
    "        unseen_labels = set(y) - set(self.classes_)\n",
    "        if unseen_labels:\n",
    "            # 动态扩展 classes_\n",
    "            self.classes_ = np.append(self.classes_, list(unseen_labels))\n",
    "        return super().transform(y)\n",
    "\n",
    "# 初始化扩展版 LabelEncoder\n",
    "label_encoder = ExtendedLabelEncoder()\n",
    "encoding_mapping = {}\n",
    "\n",
    "for column in non_float_columns:\n",
    "    # 对训练集进行 fit_transform\n",
    "    train_df[column] = label_encoder.fit_transform(train_df[column])\n",
    "    encoding_mapping[column] = dict(enumerate(label_encoder.classes_))\n",
    "    if column != 'NObeyesdad':\n",
    "        # 对测试集进行 transform\n",
    "        test_df[column] = label_encoder.transform(test_df[column])"
   ],
   "id": "a051cd1181b656fa",
   "outputs": [],
   "execution_count": 4
  },
  {
   "metadata": {
    "ExecuteTime": {
     "end_time": "2024-12-26T03:13:18.637566Z",
     "start_time": "2024-12-26T03:13:18.622126Z"
    }
   },
   "cell_type": "code",
   "source": [
    "print(\"训练集编码完成:------------------\")\n",
    "print(train_df.head())\n",
    "print(\"测试集编码完成:------------------\")\n",
    "print(test_df.head())"
   ],
   "id": "953d50278e016a9d",
   "outputs": [
    {
     "name": "stdout",
     "output_type": "stream",
     "text": [
      "训练集编码完成:------------------\n",
      "    Gender        Age    Height      Weight  family_history_with_overweight  \\\n",
      "id                                                                            \n",
      "0        1  24.443011  1.699998   81.669950                               1   \n",
      "1        0  18.000000  1.560000   57.000000                               1   \n",
      "2        0  18.000000  1.711460   50.165754                               1   \n",
      "3        0  20.952737  1.710730  131.274851                               1   \n",
      "4        1  31.641081  1.914186   93.798055                               1   \n",
      "\n",
      "    FAVC      FCVC       NCP  CAEC  SMOKE      CH2O  SCC       FAF       TUE  \\\n",
      "id                                                                             \n",
      "0      1  2.000000  2.983297     2      0  2.763573    0  0.000000  0.976473   \n",
      "1      1  2.000000  3.000000     1      0  2.000000    0  1.000000  1.000000   \n",
      "2      1  1.880534  1.411685     2      0  1.910378    0  0.866045  1.673584   \n",
      "3      1  3.000000  3.000000     2      0  1.674061    0  1.467863  0.780199   \n",
      "4      1  2.679664  1.971472     2      0  1.979848    0  1.967973  0.931721   \n",
      "\n",
      "    CALC  MTRANS  NObeyesdad  \n",
      "id                            \n",
      "0      1       3           6  \n",
      "1      2       0           1  \n",
      "2      2       3           0  \n",
      "3      1       3           4  \n",
      "4      1       3           6  \n",
      "测试集编码完成:------------------\n",
      "       Gender        Age    Height      Weight  \\\n",
      "id                                               \n",
      "20758       1  26.899886  1.848294  120.644178   \n",
      "20759       0  21.000000  1.600000   66.000000   \n",
      "20760       0  26.000000  1.643355  111.600553   \n",
      "20761       1  20.979254  1.553127  103.669116   \n",
      "20762       0  26.000000  1.627396  104.835346   \n",
      "\n",
      "       family_history_with_overweight  FAVC      FCVC       NCP  CAEC  SMOKE  \\\n",
      "id                                                                             \n",
      "20758                               1     1  2.938616  3.000000     2      0   \n",
      "20759                               1     1  2.000000  1.000000     2      0   \n",
      "20760                               1     1  3.000000  3.000000     2      0   \n",
      "20761                               1     1  2.000000  2.977909     2      0   \n",
      "20762                               1     1  3.000000  3.000000     2      0   \n",
      "\n",
      "           CH2O  SCC       FAF       TUE  CALC  MTRANS  \n",
      "id                                                      \n",
      "20758  2.825629    0  0.855400  0.000000     1       3  \n",
      "20759  3.000000    0  1.000000  0.000000     1       3  \n",
      "20760  2.621877    0  0.000000  0.250502     1       3  \n",
      "20761  2.786417    0  0.094851  0.000000     1       3  \n",
      "20762  2.653531    0  0.000000  0.741069     1       3  \n"
     ]
    }
   ],
   "execution_count": 5
  },
  {
   "metadata": {
    "ExecuteTime": {
     "end_time": "2024-12-26T03:13:19.506235Z",
     "start_time": "2024-12-26T03:13:19.495060Z"
    }
   },
   "cell_type": "code",
   "source": "encoding_mapping",
   "id": "132a247ff8dea963",
   "outputs": [
    {
     "data": {
      "text/plain": [
       "{'Gender': {0: 'Female', 1: 'Male'},\n",
       " 'family_history_with_overweight': {0: 'no', 1: 'yes'},\n",
       " 'FAVC': {0: 'no', 1: 'yes'},\n",
       " 'CAEC': {0: 'Always', 1: 'Frequently', 2: 'Sometimes', 3: 'no'},\n",
       " 'SMOKE': {0: 'no', 1: 'yes'},\n",
       " 'SCC': {0: 'no', 1: 'yes'},\n",
       " 'CALC': {0: 'Frequently', 1: 'Sometimes', 2: 'no'},\n",
       " 'MTRANS': {0: 'Automobile',\n",
       "  1: 'Bike',\n",
       "  2: 'Motorbike',\n",
       "  3: 'Public_Transportation',\n",
       "  4: 'Walking'},\n",
       " 'NObeyesdad': {0: 'Insufficient_Weight',\n",
       "  1: 'Normal_Weight',\n",
       "  2: 'Obesity_Type_I',\n",
       "  3: 'Obesity_Type_II',\n",
       "  4: 'Obesity_Type_III',\n",
       "  5: 'Overweight_Level_I',\n",
       "  6: 'Overweight_Level_II'}}"
      ]
     },
     "execution_count": 6,
     "metadata": {},
     "output_type": "execute_result"
    }
   ],
   "execution_count": 6
  },
  {
   "metadata": {
    "ExecuteTime": {
     "end_time": "2024-12-26T03:13:20.487605Z",
     "start_time": "2024-12-26T03:13:20.480033Z"
    }
   },
   "cell_type": "code",
   "source": [
    "# 初始化扩展版 LabelEncoder\n",
    "class ExtendedLabelEncoder(LabelEncoder):\n",
    "    def transform(self, y):\n",
    "        unseen_labels = set(y) - set(self.classes_)\n",
    "        if unseen_labels:\n",
    "            self.classes_ = np.append(self.classes_, list(unseen_labels))\n",
    "        return super().transform(y)\n",
    "\n",
    "label_encoder = ExtendedLabelEncoder()"
   ],
   "id": "fd8b7329aefb2edc",
   "outputs": [],
   "execution_count": 7
  },
  {
   "metadata": {
    "ExecuteTime": {
     "end_time": "2024-12-26T03:13:21.311082Z",
     "start_time": "2024-12-26T03:13:21.305729Z"
    }
   },
   "cell_type": "code",
   "source": [
    "class DataPreprocessor:\n",
    "    def __init__(self, train_df, test_df, target, label_encoder):\n",
    "        self.train_df = train_df\n",
    "        self.test_df = test_df\n",
    "        self.target = target\n",
    "        self.label_encoder = label_encoder\n",
    "        self.categorical_features = []\n",
    "        self.numerical_features = []\n",
    "        self.encoding_mapping = {}\n",
    "        self.non_float_columns = []\n",
    "\n",
    "\n",
    "    def process_data(self):\n",
    "        # 获取类别型和数值型特征\n",
    "        self.non_float_columns = self.train_df.select_dtypes(exclude=['float']).columns\n",
    "        self.categorical_features = list(non_float_columns)\n",
    "        self.categorical_features.remove(self.target)  # 排除目标列\n",
    "\n",
    "        float_columns = self.train_df.select_dtypes(include=['float']).columns\n",
    "        self.numerical_features = list(float_columns)\n",
    "\n",
    "\n",
    "        # 对训练集进行编码\n",
    "        for column in self.non_float_columns:\n",
    "            self.train_df[column] = self.label_encoder.fit_transform(self.train_df[column])\n",
    "            self.encoding_mapping[column] = dict(enumerate(self.label_encoder.classes_))\n",
    "            if column != self.target:\n",
    "                # 对测试集进行 transform\n",
    "                self.test_df[column] = self.label_encoder.transform(self.test_df[column])\n",
    "\n",
    "        return self.train_df, self.test_df, self.encoding_mapping"
   ],
   "id": "e15c61d029ddcd7b",
   "outputs": [],
   "execution_count": 8
  },
  {
   "metadata": {
    "ExecuteTime": {
     "end_time": "2024-12-26T03:13:23.832797Z",
     "start_time": "2024-12-26T03:13:23.825044Z"
    }
   },
   "cell_type": "code",
   "source": [
    "\n",
    "class CustomDataset(Dataset):\n",
    "    def __init__(self, data_frame, categorical_features, numerical_features, target, encoding_mapping=None):\n",
    "        \"\"\"\n",
    "        :param data_frame: pandas DataFrame 数据\n",
    "        :param categorical_features: 类别型特征的列名\n",
    "        :param numerical_features: 数值型特征的列名\n",
    "        :param target: 目标列名\n",
    "        :param encoding_mapping: 可选，类别型特征的编码映射\n",
    "        \"\"\"\n",
    "        self.data_frame = data_frame\n",
    "        self.categorical_features = categorical_features\n",
    "        self.numerical_features = numerical_features\n",
    "        self.target = target\n",
    "        self.encoding_mapping = encoding_mapping\n",
    "\n",
    "    def __len__(self):\n",
    "        # 返回数据集的大小\n",
    "        return len(self.data_frame)\n",
    "\n",
    "    def __getitem__(self, idx):\n",
    "        \"\"\"\n",
    "        返回数据集中的第 idx 项数据\n",
    "        :param idx: 数据索引\n",
    "        :return: 数据样本和标签\n",
    "        \"\"\"\n",
    "        # 获取每一行数据\n",
    "        row = self.data_frame.iloc[idx]\n",
    "\n",
    "        # 获取特征\n",
    "        categorical_data = row[self.categorical_features].values\n",
    "        numerical_data = row[self.numerical_features].values\n",
    "\n",
    "        # 将数据转化为张量\n",
    "        categorical_data = torch.tensor(categorical_data, dtype=torch.long)\n",
    "        numerical_data = torch.tensor(numerical_data, dtype=torch.float32)\n",
    "\n",
    "        # 获取目标值\n",
    "        # target = row[self.target]\n",
    "        # 如果 row[self.target] 是浮点数类型，强制转换为整数\n",
    "        target = torch.tensor(int(row[self.target]), dtype=torch.long)  # 分类任务标签为整数\n",
    "\n",
    "\n",
    "        return {'categorical': categorical_data, 'numerical': numerical_data, 'target': target}\n",
    "\n",
    "\n",
    "# 使用自定义 Dataset 类\n",
    "def create_dataloader(train_df, categorical_features, numerical_features, target, batch_size, shuffle=True):\n",
    "\n",
    "    dataset = CustomDataset(train_df, categorical_features, numerical_features, target)\n",
    "\n",
    "    dataloader = DataLoader(dataset, batch_size=batch_size, shuffle=shuffle)\n",
    "\n",
    "    return dataloader\n"
   ],
   "id": "e3e8fda113b193c2",
   "outputs": [],
   "execution_count": 9
  },
  {
   "metadata": {
    "ExecuteTime": {
     "end_time": "2024-12-26T03:13:25.443875Z",
     "start_time": "2024-12-26T03:13:25.406955Z"
    }
   },
   "cell_type": "code",
   "source": [
    "from sklearn.model_selection import train_test_split\n",
    "\n",
    "batch_size = 32 #default\n",
    "\n",
    "\n",
    "data_processor = DataPreprocessor(train_df,test_df,target = 'NObeyesdad', label_encoder = label_encoder)\n",
    "\n",
    "train_df_processed , test_df_processed , encoding_mapping = data_processor.process_data()\n",
    "\n",
    "# 假设 train_df 是已经处理过的数据框\n",
    "train_dfm, val_dfm = train_test_split(train_df_processed, test_size=0.2, random_state=42)\n",
    "\n",
    "\n",
    "# 创建数据加载器\n",
    "train_dataloader = create_dataloader(train_dfm,\n",
    "                                     batch_size = batch_size,\n",
    "                                     categorical_features=data_processor.categorical_features,\n",
    "                                     numerical_features=data_processor.numerical_features,\n",
    "                                     target=data_processor.target)\n",
    "\n",
    "val_dataloader = create_dataloader(val_dfm,\n",
    "                                     batch_size = batch_size,\n",
    "                                     categorical_features=data_processor.categorical_features,\n",
    "                                     numerical_features=data_processor.numerical_features,\n",
    "                                     target=data_processor.target)\n",
    "\n"
   ],
   "id": "87be91cdafd27965",
   "outputs": [],
   "execution_count": 10
  },
  {
   "metadata": {
    "ExecuteTime": {
     "end_time": "2024-12-26T03:13:26.696776Z",
     "start_time": "2024-12-26T03:13:26.689376Z"
    }
   },
   "cell_type": "code",
   "source": [
    "print(train_df_processed.head())\n",
    "print(train_dfm.shape , val_dfm.shape)"
   ],
   "id": "b7b55e6793d8ecfb",
   "outputs": [
    {
     "name": "stdout",
     "output_type": "stream",
     "text": [
      "    Gender        Age    Height      Weight  family_history_with_overweight  \\\n",
      "id                                                                            \n",
      "0        1  24.443011  1.699998   81.669950                               1   \n",
      "1        0  18.000000  1.560000   57.000000                               1   \n",
      "2        0  18.000000  1.711460   50.165754                               1   \n",
      "3        0  20.952737  1.710730  131.274851                               1   \n",
      "4        1  31.641081  1.914186   93.798055                               1   \n",
      "\n",
      "    FAVC      FCVC       NCP  CAEC  SMOKE      CH2O  SCC       FAF       TUE  \\\n",
      "id                                                                             \n",
      "0      1  2.000000  2.983297     2      0  2.763573    0  0.000000  0.976473   \n",
      "1      1  2.000000  3.000000     1      0  2.000000    0  1.000000  1.000000   \n",
      "2      1  1.880534  1.411685     2      0  1.910378    0  0.866045  1.673584   \n",
      "3      1  3.000000  3.000000     2      0  1.674061    0  1.467863  0.780199   \n",
      "4      1  2.679664  1.971472     2      0  1.979848    0  1.967973  0.931721   \n",
      "\n",
      "    CALC  MTRANS  NObeyesdad  \n",
      "id                            \n",
      "0      1       3           6  \n",
      "1      2       0           1  \n",
      "2      2       3           0  \n",
      "3      1       3           4  \n",
      "4      1       3           6  \n",
      "(16606, 17) (4152, 17)\n"
     ]
    }
   ],
   "execution_count": 11
  },
  {
   "metadata": {
    "ExecuteTime": {
     "end_time": "2024-12-26T03:13:28.584372Z",
     "start_time": "2024-12-26T03:13:28.560288Z"
    }
   },
   "cell_type": "code",
   "source": [
    "# 训练循环时访问字典中的数据\n",
    "for batch in train_dataloader:\n",
    "    # 访问字典中的数据\n",
    "    X_categorical = batch['categorical']   # 类别型特征\n",
    "    X_numerical = batch['numerical']       # 数值型特征\n",
    "    y = batch['target']\n",
    "    # 目标标签\n",
    "    print('target :' , target)\n",
    "\n",
    "    print(f'X_categorical :{X_categorical.shape}')\n",
    "    print(f'X_numerical :{X_numerical.shape}')\n",
    "    print(f'y :{y.shape}')\n",
    "    break\n"
   ],
   "id": "fa17fea88f3d5016",
   "outputs": [
    {
     "name": "stdout",
     "output_type": "stream",
     "text": [
      "target : NObeyesdad\n",
      "X_categorical :torch.Size([32, 8])\n",
      "X_numerical :torch.Size([32, 8])\n",
      "y :torch.Size([32])\n"
     ]
    }
   ],
   "execution_count": 12
  },
  {
   "metadata": {
    "ExecuteTime": {
     "end_time": "2024-12-26T03:13:29.946102Z",
     "start_time": "2024-12-26T03:13:29.923769Z"
    }
   },
   "cell_type": "code",
   "source": [
    "# 设置设备\n",
    "device = torch.device(\"cuda\" if torch.cuda.is_available() else \"cpu\")"
   ],
   "id": "297a9651172a8916",
   "outputs": [],
   "execution_count": 13
  },
  {
   "metadata": {
    "collapsed": true,
    "ExecuteTime": {
     "end_time": "2024-12-26T03:13:34.077916Z",
     "start_time": "2024-12-26T03:13:33.995802Z"
    }
   },
   "cell_type": "code",
   "source": [
    "import torch\n",
    "import torch.nn as nn\n",
    "import torch.nn.functional as F\n",
    "\n",
    "class CustomModel(nn.Module):\n",
    "    def __init__(self, input_dim, num_classes):\n",
    "        super(CustomModel, self).__init__()\n",
    "\n",
    "        # Encoder部分\n",
    "        self.encoder_layer1 = nn.Linear(input_dim, 64)\n",
    "        self.encoder_layer2 = nn.Linear(64, 8)\n",
    "\n",
    "        # Decoder部分\n",
    "        self.decoder_layer1 = nn.Linear(8, 32)\n",
    "        self.decoder_output = nn.Linear(32, input_dim)  # Decoder输出大小与输入大小一致\n",
    "\n",
    "        # 分类任务\n",
    "        self.autoencoder_classification1 = nn.Linear(input_dim, 64)\n",
    "        self.autoencoder_classification2 = nn.Linear(64, num_classes)  # 输出7类\n",
    "\n",
    "        # 分类任务\n",
    "        self.mlp_layer1 = nn.Linear(input_dim + 8, 64)\n",
    "        self.mlp_layer2 = nn.Linear(64, 32)\n",
    "        self.final_output = nn.Linear(32, num_classes)  # 输出7类\n",
    "\n",
    "    def forward(self, x):\n",
    "        # Encoder部分\n",
    "        encoded = F.relu(self.encoder_layer1(x))\n",
    "        encoded = F.relu(self.encoder_layer2(encoded))\n",
    "\n",
    "        # Decoder部分\n",
    "        decoded = F.relu(self.decoder_layer1(encoded))\n",
    "        decoded_output = self.decoder_output(decoded)\n",
    "\n",
    "        # 分类任务\n",
    "        autoencoder_linear = self.autoencoder_classification1(decoded_output)\n",
    "        autoencoder_classification = F.softmax(self.autoencoder_classification2(autoencoder_linear), dim=-1)\n",
    "\n",
    "        # MLP分类任务\n",
    "        mlp_input = torch.cat([x, encoded], dim=1)\n",
    "        mlp = F.relu(self.mlp_layer1(mlp_input))\n",
    "        mlp = F.relu(self.mlp_layer2(mlp))\n",
    "        final_output = F.softmax(self.final_output(mlp), dim=-1)\n",
    "\n",
    "        return autoencoder_classification, final_output, decoded_output\n"
   ],
   "id": "initial_id",
   "outputs": [
    {
     "name": "stdout",
     "output_type": "stream",
     "text": [
      "CustomModel(\n",
      "  (encoder_layer1): Linear(in_features=16, out_features=64, bias=True)\n",
      "  (encoder_layer2): Linear(in_features=64, out_features=8, bias=True)\n",
      "  (decoder_layer1): Linear(in_features=8, out_features=32, bias=True)\n",
      "  (decoder_output): Linear(in_features=32, out_features=16, bias=True)\n",
      "  (autoencoder_classification1): Linear(in_features=16, out_features=64, bias=True)\n",
      "  (autoencoder_classification2): Linear(in_features=64, out_features=7, bias=True)\n",
      "  (mlp_layer1): Linear(in_features=24, out_features=64, bias=True)\n",
      "  (mlp_layer2): Linear(in_features=64, out_features=32, bias=True)\n",
      "  (final_output): Linear(in_features=32, out_features=7, bias=True)\n",
      ")\n"
     ]
    }
   ],
   "execution_count": 14
  },
  {
   "metadata": {
    "ExecuteTime": {
     "end_time": "2024-12-26T03:13:45.730468Z",
     "start_time": "2024-12-26T03:13:45.615052Z"
    }
   },
   "cell_type": "code",
   "source": [
    "from torchsummary import summary\n",
    "\n",
    "# 模型实例化并移动到设备\n",
    "model = CustomModel(input_dim=16, num_classes=7).to(device)\n",
    "\n",
    "# 打印模型结构，检查\n",
    "print(model)\n",
    "\n",
    "summary(model, (16,), device=str(device))\n"
   ],
   "id": "14d839b4f95dbe39",
   "outputs": [
    {
     "name": "stdout",
     "output_type": "stream",
     "text": [
      "CustomModel(\n",
      "  (encoder_layer1): Linear(in_features=16, out_features=64, bias=True)\n",
      "  (encoder_layer2): Linear(in_features=64, out_features=8, bias=True)\n",
      "  (decoder_layer1): Linear(in_features=8, out_features=32, bias=True)\n",
      "  (decoder_output): Linear(in_features=32, out_features=16, bias=True)\n",
      "  (autoencoder_classification1): Linear(in_features=16, out_features=64, bias=True)\n",
      "  (autoencoder_classification2): Linear(in_features=64, out_features=7, bias=True)\n",
      "  (mlp_layer1): Linear(in_features=24, out_features=64, bias=True)\n",
      "  (mlp_layer2): Linear(in_features=64, out_features=32, bias=True)\n",
      "  (final_output): Linear(in_features=32, out_features=7, bias=True)\n",
      ")\n",
      "----------------------------------------------------------------\n",
      "        Layer (type)               Output Shape         Param #\n",
      "================================================================\n",
      "            Linear-1                   [-1, 64]           1,088\n",
      "            Linear-2                    [-1, 8]             520\n",
      "            Linear-3                   [-1, 32]             288\n",
      "            Linear-4                   [-1, 16]             528\n",
      "            Linear-5                   [-1, 64]           1,088\n",
      "            Linear-6                    [-1, 7]             455\n",
      "            Linear-7                   [-1, 64]           1,600\n",
      "            Linear-8                   [-1, 32]           2,080\n",
      "            Linear-9                    [-1, 7]             231\n",
      "================================================================\n",
      "Total params: 7,878\n",
      "Trainable params: 7,878\n",
      "Non-trainable params: 0\n",
      "----------------------------------------------------------------\n",
      "Input size (MB): 0.00\n",
      "Forward/backward pass size (MB): 0.00\n",
      "Params size (MB): 0.03\n",
      "Estimated Total Size (MB): 0.03\n",
      "----------------------------------------------------------------\n"
     ]
    }
   ],
   "execution_count": 15
  },
  {
   "metadata": {
    "ExecuteTime": {
     "end_time": "2024-12-26T03:13:48.596163Z",
     "start_time": "2024-12-26T03:13:48.077023Z"
    }
   },
   "cell_type": "code",
   "source": [
    "import torch.optim as optim\n",
    "import torch.nn as nn\n",
    "\n",
    "# 定义损失函数\n",
    "loss_fn_classification = nn.CrossEntropyLoss()\n",
    "loss_fn_decoder = nn.MSELoss()\n",
    "\n",
    "\n",
    "# 定义优化器\n",
    "optimizer = optim.Adam(model.parameters(), lr=1e-3)\n",
    "cheduler = torch.optim.lr_scheduler.StepLR(optimizer, step_size=10, gamma=0.1)\n",
    "\n",
    "# 损失权重\n",
    "loss_weights = {\n",
    "    \"Autoencoder_Classification\": 0.8,\n",
    "    \"Final_Output\": 1.0,\n",
    "    \"Decoder_Output\": 0.8\n",
    "}\n"
   ],
   "id": "b7aaf3866194b672",
   "outputs": [],
   "execution_count": 16
  },
  {
   "metadata": {
    "ExecuteTime": {
     "end_time": "2024-12-26T03:17:43.589516Z",
     "start_time": "2024-12-26T03:17:43.575314Z"
    }
   },
   "cell_type": "code",
   "source": [
    "from tqdm import tqdm\n",
    "from sklearn.metrics import accuracy_score, roc_auc_score\n",
    "import matplotlib.pyplot as plt\n",
    "\n",
    "# 设置设备\n",
    "device = torch.device(\"cuda\" if torch.cuda.is_available() else \"cpu\")\n",
    "\n",
    "epochs = 2\n",
    "best_val_loss = float('inf')\n",
    "early_stopping_patience = 5  # 早停容忍次数\n",
    "patience_counter = 0  # 早停计数器\n",
    "\n",
    "train_losses = []\n",
    "val_losses = []\n",
    "val_accuracies = []\n",
    "val_auc_scores = []\n"
   ],
   "id": "5d0b47738356d346",
   "outputs": [],
   "execution_count": 24
  },
  {
   "metadata": {
    "ExecuteTime": {
     "end_time": "2024-12-26T03:18:03.314031Z",
     "start_time": "2024-12-26T03:17:44.122428Z"
    }
   },
   "cell_type": "code",
   "source": [
    "\n",
    "#---------------------------------------------------\n",
    "# 训练过程\n",
    "for epoch in tqdm(range(epochs), desc=\"Training Progress\"):\n",
    "    model.train()\n",
    "    total_loss = 0\n",
    "    for batch in train_dataloader:\n",
    "\n",
    "        optimizer.zero_grad()\n",
    "\n",
    "        # 将数据和标签移到GPU\n",
    "        categorical_data = batch['categorical'].to(device)\n",
    "        numerical_data = batch['numerical'].to(device)\n",
    "        target = batch['target'].to(device)\n",
    "\n",
    "        # 合并特征\n",
    "        data = torch.cat([categorical_data, numerical_data], dim=1)\n",
    "\n",
    "        # 前向传播\n",
    "        autoencoder_classification, final_output, decoded_output = model(data)\n",
    "\n",
    "        # 计算损失\n",
    "        loss_classification = loss_fn_classification(autoencoder_classification, target)\n",
    "        loss_final_output = loss_fn_classification(final_output, target)\n",
    "        loss_decoder = loss_fn_decoder(decoded_output, data)  # 假设解码器输出重构数据\n",
    "\n",
    "        # 加权损失\n",
    "        loss = loss_weights['Autoencoder_Classification'] * loss_classification + loss_weights['Final_Output'] * loss_final_output + loss_weights['Decoder_Output'] * loss_decoder\n",
    "        total_loss += loss.item()\n",
    "\n",
    "        # 反向传播\n",
    "        loss.backward()\n",
    "        optimizer.step()\n",
    "\n",
    "    train_losses.append(total_loss / len(train_dataloader))\n",
    "\n",
    "    # 验证模式\n",
    "    model.eval()\n",
    "    val_loss = 0\n",
    "    val_predictions = []\n",
    "    val_labels = []\n",
    "    final_output_list = []\n",
    "\n",
    "    for batch in val_dataloader:\n",
    "        categorical_data = batch['categorical'].to(device)\n",
    "        numerical_data = batch['numerical'].to(device)\n",
    "        target = batch['target'].to(device)\n",
    "\n",
    "        data = torch.cat([categorical_data, numerical_data], dim=1)\n",
    "\n",
    "        with torch.no_grad():\n",
    "            autoencoder_classification, final_output, decoded_output = model(data)\n",
    "\n",
    "        # 计算验证损失\n",
    "        loss_classification = loss_fn_classification(autoencoder_classification, target)\n",
    "        loss_final_output = loss_fn_classification(final_output, target)\n",
    "        loss_decoder = loss_fn_decoder(decoded_output, data)\n",
    "        val_loss += 0.4 * loss_classification + 1.0 * loss_final_output + 0.4 * loss_decoder\n",
    "\n",
    "        # 记录预测结果和标签\n",
    "        val_predictions.append(final_output.argmax(dim=1).cpu().numpy())  # 获取预测标签\n",
    "        val_labels.append(target.cpu().numpy())\n",
    "        final_output_list.append(final_output.cpu().numpy())  # 保留原始的输出概率\n",
    "\n",
    "    # 合并预测结果\n",
    "    val_predictions = np.concatenate(val_predictions, axis=0)\n",
    "    val_labels = np.concatenate(val_labels, axis=0)\n",
    "    final_output = np.concatenate(final_output_list, axis=0)  # 保留所有的预测概率\n",
    "\n",
    "    # 计算准确率\n",
    "    val_accuracy = accuracy_score(val_labels, val_predictions)\n",
    "\n",
    "    # 计算 AUC\n",
    "    val_auc = roc_auc_score(val_labels, final_output, multi_class='ovr', average='macro')\n",
    "\n",
    "    val_accuracies.append(val_accuracy)\n",
    "    val_auc_scores.append(val_auc)\n",
    "\n",
    "    print(f\"Validation Accuracy: {val_accuracy:.4f}\")\n",
    "    print(f\"Validation AUC: {val_auc:.4f}\")\n",
    "\n",
    "    # 早停机制\n",
    "    if val_loss < best_val_loss:\n",
    "        best_val_loss = val_loss\n",
    "        patience_counter = 0\n",
    "        # 保存最佳模型参数\n",
    "        # torch.save(model.state_dict(), 'best_model.pth')\n",
    "    else:\n",
    "        patience_counter += 1\n",
    "        if patience_counter >= early_stopping_patience:\n",
    "            print(\"Early stopping triggered.\")\n",
    "            break"
   ],
   "id": "75485a1a0c8e5a51",
   "outputs": [
    {
     "name": "stderr",
     "output_type": "stream",
     "text": [
      "Training Progress:  50%|█████     | 1/2 [00:09<00:09,  9.65s/it]"
     ]
    },
    {
     "name": "stdout",
     "output_type": "stream",
     "text": [
      "Validation Accuracy: 0.4998\n",
      "Validation AUC: 0.7690\n"
     ]
    },
    {
     "name": "stderr",
     "output_type": "stream",
     "text": [
      "Training Progress: 100%|██████████| 2/2 [00:19<00:00,  9.59s/it]"
     ]
    },
    {
     "name": "stdout",
     "output_type": "stream",
     "text": [
      "Validation Accuracy: 0.5443\n",
      "Validation AUC: 0.8062\n"
     ]
    },
    {
     "name": "stderr",
     "output_type": "stream",
     "text": [
      "\n"
     ]
    }
   ],
   "execution_count": 25
  },
  {
   "metadata": {
    "ExecuteTime": {
     "end_time": "2024-12-26T02:47:50.190034Z",
     "start_time": "2024-12-26T02:47:49.930714Z"
    }
   },
   "cell_type": "code",
   "source": [
    "# 绘制训练过程中的趋势图\n",
    "plt.figure(figsize=(12, 6))\n",
    "\n",
    "# 绘制训练和验证损失\n",
    "plt.subplot(1, 2, 1)\n",
    "plt.plot(range(1, len(train_losses) + 1), train_losses, label='Train Loss')\n",
    "plt.plot(range(1, len(val_losses) + 1), val_losses, label='Validation Loss')\n",
    "plt.xlabel('Epochs')\n",
    "plt.ylabel('Loss')\n",
    "plt.legend()\n",
    "\n",
    "# 绘制验证准确率和AUC\n",
    "plt.subplot(1, 2, 2)\n",
    "plt.plot(range(1, len(val_accuracies) + 1), val_accuracies, label='Validation Accuracy')\n",
    "plt.plot(range(1, len(val_auc_scores) + 1), val_auc_scores, label='Validation AUC')\n",
    "plt.xlabel('Epochs')\n",
    "plt.ylabel('Score')\n",
    "plt.legend()\n",
    "\n",
    "plt.tight_layout()\n",
    "plt.show()\n",
    "\n",
    "# 加载最佳模型\n",
    "model.load_state_dict(torch.load('best_model.pth'))"
   ],
   "id": "9b3ef92b031f802d",
   "outputs": [
    {
     "data": {
      "text/plain": [
       "<Figure size 1200x600 with 2 Axes>"
      ],
      "image/png": "[encoded data removed]"
     },
     "metadata": {},
     "output_type": "display_data"
    },
    {
     "name": "stderr",
     "output_type": "stream",
     "text": [
      "C:\\Users\\Citrus柚子\\AppData\\Local\\Temp\\ipykernel_21424\\1467271849.py:24: FutureWarning: You are using `torch.load` with `weights_only=False` (the current default value), which uses the default pickle module implicitly. It is possible to construct malicious pickle data which will execute arbitrary code during unpickling (See https://github.com/pytorch/pytorch/blob/main/SECURITY.md#untrusted-models for more details). In a future release, the default value for `weights_only` will be flipped to `True`. This limits the functions that could be executed during unpickling. Arbitrary objects will no longer be allowed to be loaded via this mode unless they are explicitly allowlisted by the user via `torch.serialization.add_safe_globals`. We recommend you start setting `weights_only=True` for any use case where you don't have full control of the loaded file. Please open an issue on GitHub for any issues related to this experimental feature.\n",
      "  model.load_state_dict(torch.load('best_model.pth'))\n"
     ]
    },
    {
     "data": {
      "text/plain": [
       "<All keys matched successfully>"
      ]
     },
     "execution_count": 30,
     "metadata": {},
     "output_type": "execute_result"
    }
   ],
   "execution_count": 30
  },
  {
   "metadata": {
    "ExecuteTime": {
     "end_time": "2024-12-26T03:46:55.143737300Z",
     "start_time": "2024-12-26T03:41:51.831863Z"
    }
   },
   "cell_type": "code",
   "source": [
    "\n",
    "class Trainer:\n",
    "    def __init__(self, model, train_dataloader, val_dataloader, optimizer, scheduler,\n",
    "                 loss_fn_classification, loss_fn_decoder, loss_weights, device,\n",
    "                 early_stopping_patience=5, epochs=50, tensorboard_logdir = 'logs'):\n",
    "        \"\"\"\n",
    "        初始化训练器\n",
    "        :param model: PyTorch 模型\n",
    "        :param train_dataloader: 训练数据加载器\n",
    "        :param val_dataloader: 验证数据加载器\n",
    "        :param optimizer: 优化器\n",
    "        :param scheduler: 学习率调度器\n",
    "        :param loss_fn_classification: 分类任务的损失函数\n",
    "        :param loss_fn_decoder: 解码器任务的损失函数\n",
    "        :param loss_weights: 损失权重\n",
    "        :param device: 设备 ('cuda' 或 'cpu')\n",
    "        :param early_stopping_patience: 早停的容忍次数\n",
    "        :param epochs: 总训练轮数\n",
    "        \"\"\"\n",
    "        self.model = model\n",
    "        self.train_dataloader = train_dataloader\n",
    "        self.val_dataloader = val_dataloader\n",
    "        self.optimizer = optimizer\n",
    "        self.scheduler = scheduler\n",
    "        self.loss_fn_classification = loss_fn_classification\n",
    "        self.loss_fn_decoder = loss_fn_decoder\n",
    "        self.loss_weights = loss_weights\n",
    "        self.device = device\n",
    "        self.epochs = epochs\n",
    "        self.early_stopping_patience = early_stopping_patience\n",
    "        self.best_val_loss = float('inf')\n",
    "        self.patience_counter = 0\n",
    "        self.train_losses = []\n",
    "        self.val_losses = []\n",
    "        self.val_accuracies = []\n",
    "        self.val_auc_scores = []\n",
    "\n",
    "        # 初始化 TensorBoard\n",
    "        self.writer = SummaryWriter(tensorboard_logdir)\n",
    "\n",
    "        # 模型参数初始化\n",
    "        # self.init_weights()\n",
    "\n",
    "    def init_weights(self):\n",
    "        \"\"\"\n",
    "        模型参数初始化：使用 Xavier 初始化\n",
    "        \"\"\"\n",
    "        def _init_fn(m):\n",
    "            if isinstance(m, nn.Linear):\n",
    "                nn.init.xavier_uniform_(m.weight)\n",
    "                if m.bias is not None:\n",
    "                    nn.init.zeros_(m.bias)\n",
    "        self.model.apply(_init_fn)\n",
    "        print(\"Model parameters initialized using Xavier initialization.\")\n",
    "\n",
    "\n",
    "    def train_epoch(self):\n",
    "        \"\"\"\n",
    "        单个 epoch 的训练过程\n",
    "        :return: 平均训练损失\n",
    "        \"\"\"\n",
    "        self.model.train()\n",
    "        total_loss = 0\n",
    "\n",
    "        for batch in self.train_dataloader:\n",
    "            self.optimizer.zero_grad()\n",
    "\n",
    "            # 将数据移到设备\n",
    "            categorical_data = batch['categorical'].to(self.device)\n",
    "            numerical_data = batch['numerical'].to(self.device)\n",
    "            target = batch['target'].to(self.device)\n",
    "\n",
    "            # 合并特征\n",
    "            data = torch.cat([categorical_data, numerical_data], dim=1)\n",
    "\n",
    "            # 前向传播\n",
    "            autoencoder_classification, final_output, decoded_output = self.model(data)\n",
    "\n",
    "            # 计算损失\n",
    "            loss_classification = self.loss_fn_classification(autoencoder_classification, target)\n",
    "            loss_final_output = self.loss_fn_classification(final_output, target)\n",
    "            loss_decoder = self.loss_fn_decoder(decoded_output, data)\n",
    "\n",
    "            # 加权损失\n",
    "            loss = (self.loss_weights['Autoencoder_Classification'] * loss_classification +\n",
    "                    self.loss_weights['Final_Output'] * loss_final_output +\n",
    "                    self.loss_weights['Decoder_Output'] * loss_decoder)\n",
    "\n",
    "            # 反向传播\n",
    "            loss.backward()\n",
    "            self.optimizer.step()\n",
    "\n",
    "            total_loss += loss.item()\n",
    "\n",
    "        return total_loss / len(self.train_dataloader)\n",
    "\n",
    "    def validate(self):\n",
    "        \"\"\"\n",
    "        验证过程\n",
    "        :return: 验证损失、验证准确率、验证 AUC\n",
    "        \"\"\"\n",
    "        self.model.eval()\n",
    "        val_loss = 0\n",
    "        val_predictions = []\n",
    "        val_labels = []\n",
    "        final_output_list = []\n",
    "\n",
    "        with torch.no_grad():\n",
    "            for batch in self.val_dataloader:\n",
    "                # 将数据移到设备\n",
    "                categorical_data = batch['categorical'].to(self.device)\n",
    "                numerical_data = batch['numerical'].to(self.device)\n",
    "                target = batch['target'].to(self.device)\n",
    "\n",
    "                # 合并特征\n",
    "                data = torch.cat([categorical_data, numerical_data], dim=1)\n",
    "\n",
    "                # 前向传播\n",
    "                autoencoder_classification, final_output, decoded_output = self.model(data)\n",
    "\n",
    "                # 计算损失\n",
    "                loss_classification = self.loss_fn_classification(autoencoder_classification, target)\n",
    "                loss_final_output = self.loss_fn_classification(final_output, target)\n",
    "                loss_decoder = self.loss_fn_decoder(decoded_output, data)\n",
    "                val_loss += (self.loss_weights['Autoencoder_Classification'] * loss_classification +\n",
    "                             self.loss_weights['Final_Output'] * loss_final_output +\n",
    "                             self.loss_weights['Decoder_Output'] * loss_decoder)\n",
    "\n",
    "                # 收集预测结果\n",
    "                val_predictions.append(final_output.argmax(dim=1).cpu().numpy())\n",
    "                val_labels.append(target.cpu().numpy())\n",
    "                final_output_list.append(final_output.cpu().numpy())\n",
    "\n",
    "        # 合并预测结果\n",
    "        val_predictions = np.concatenate(val_predictions, axis=0)\n",
    "        val_labels = np.concatenate(val_labels, axis=0)\n",
    "        final_output = np.concatenate(final_output_list, axis=0)\n",
    "\n",
    "        # 计算评估指标\n",
    "        val_accuracy = accuracy_score(val_labels, val_predictions)\n",
    "        val_auc = roc_auc_score(val_labels, final_output, multi_class='ovr', average='macro')\n",
    "\n",
    "        return val_loss / len(self.val_dataloader), val_accuracy, val_auc\n",
    "\n",
    "    def fit(self):\n",
    "        \"\"\"\n",
    "        开始训练\n",
    "        \"\"\"\n",
    "        for epoch in tqdm(range(self.epochs), desc=\"Training Progress\"):\n",
    "\n",
    "            train_loss = self.train_epoch()\n",
    "            val_loss, val_accuracy, val_auc = self.validate()\n",
    "\n",
    "            # 记录损失和评估指标\n",
    "            self.train_losses.append(train_loss)\n",
    "            self.val_losses.append(val_loss)\n",
    "            self.val_accuracies.append(val_accuracy)\n",
    "            self.val_auc_scores.append(val_auc)\n",
    "\n",
    "            # 将数据写入 TensorBoard\n",
    "            self.writer.add_scalar('Loss/Train', train_loss, epoch)\n",
    "            self.writer.add_scalar('Loss/Validation', val_loss, epoch)\n",
    "            self.writer.add_scalar('Accuracy/Validation', val_accuracy, epoch)\n",
    "            self.writer.add_scalar('AUC/Validation', val_auc, epoch)\n",
    "\n",
    "            print(f\"Epoch {epoch+1}/{self.epochs} | Train Loss: {train_loss:.4f} | \"\n",
    "                  f\"Val Loss: {val_loss:.4f} | Val Accuracy: {val_accuracy:.4f} | Val AUC: {val_auc:.4f}\")\n",
    "\n",
    "            # 调度学习率\n",
    "            if self.scheduler:\n",
    "                self.scheduler.step()\n",
    "\n",
    "            # 早停机制\n",
    "            if val_loss < self.best_val_loss:\n",
    "                self.best_val_loss = val_loss\n",
    "                self.patience_counter = 0\n",
    "                self.save_model('best_model.pth')\n",
    "            else:\n",
    "                self.patience_counter += 1\n",
    "                if self.patience_counter >= self.early_stopping_patience:\n",
    "                    print(\"Early stopping triggered.\")\n",
    "                    break\n",
    "\n",
    "    def save_model(self, path):\n",
    "        \"\"\"\n",
    "        保存模型\n",
    "        \"\"\"\n",
    "        torch.save(self.model.state_dict(), path)\n",
    "        print(f\"Model saved to {path}\")\n",
    "\n",
    "    def load_model(self, path):\n",
    "        \"\"\"\n",
    "        加载模型\n",
    "        \"\"\"\n",
    "        self.model.load_state_dict(torch.load(path))\n",
    "        print(f\"Model loaded from {path}\")\n"
   ],
   "id": "349c46c1351343a9",
   "outputs": [],
   "execution_count": 46
  },
  {
   "metadata": {
    "ExecuteTime": {
     "end_time": "2024-12-26T03:46:55.137408Z",
     "start_time": "2024-12-26T03:41:52.360025Z"
    }
   },
   "cell_type": "code",
   "source": [
    "# 模型和优化器\n",
    "model = CustomModel(input_dim=16, num_classes=7).to(device)\n",
    "optimizer = optim.Adam(model.parameters(), lr=1e-3)\n",
    "scheduler = torch.optim.lr_scheduler.StepLR(optimizer, step_size=10, gamma=0.1)\n",
    "\n",
    "# 损失函数和权重\n",
    "loss_fn_classification = nn.CrossEntropyLoss()\n",
    "loss_fn_decoder = nn.MSELoss()\n",
    "loss_weights = {\n",
    "    \"Autoencoder_Classification\": 0.8,\n",
    "    \"Final_Output\": 1.0,\n",
    "    \"Decoder_Output\": 0.8\n",
    "}\n",
    "\n",
    "# 实例化 Trainer\n",
    "trainer = Trainer(model, train_dataloader, val_dataloader, optimizer, scheduler,\n",
    "                  loss_fn_classification, loss_fn_decoder, loss_weights, device,\n",
    "                  early_stopping_patience=5, epochs=30, tensorboard_logdir='logs')\n",
    "\n",
    "# 开始训练\n",
    "trainer.fit()\n"
   ],
   "id": "e75c9edee186fc34",
   "outputs": [
    {
     "name": "stderr",
     "output_type": "stream",
     "text": [
      "Training Progress:   3%|▎         | 1/30 [00:10<04:50, 10.02s/it]"
     ]
    },
    {
     "name": "stdout",
     "output_type": "stream",
     "text": [
      "Epoch 1/30 | Train Loss: 52.1102 | Val Loss: 6.2127 | Val Accuracy: 0.4562 | Val AUC: 0.6953\n",
      "Model saved to best_model.pth\n"
     ]
    },
    {
     "name": "stderr",
     "output_type": "stream",
     "text": [
      "Training Progress:   7%|▋         | 2/30 [00:20<04:40, 10.02s/it]"
     ]
    },
    {
     "name": "stdout",
     "output_type": "stream",
     "text": [
      "Epoch 2/30 | Train Loss: 4.6105 | Val Loss: 3.4685 | Val Accuracy: 0.4940 | Val AUC: 0.7360\n",
      "Model saved to best_model.pth\n"
     ]
    },
    {
     "name": "stderr",
     "output_type": "stream",
     "text": [
      "Training Progress:  10%|█         | 3/30 [00:30<04:34, 10.18s/it]"
     ]
    },
    {
     "name": "stdout",
     "output_type": "stream",
     "text": [
      "Epoch 3/30 | Train Loss: 3.4389 | Val Loss: 3.3808 | Val Accuracy: 0.5055 | Val AUC: 0.7397\n",
      "Model saved to best_model.pth\n"
     ]
    },
    {
     "name": "stderr",
     "output_type": "stream",
     "text": [
      "Training Progress:  13%|█▎        | 4/30 [00:41<04:30, 10.40s/it]"
     ]
    },
    {
     "name": "stdout",
     "output_type": "stream",
     "text": [
      "Epoch 4/30 | Train Loss: 3.3973 | Val Loss: 3.3550 | Val Accuracy: 0.5154 | Val AUC: 0.7404\n",
      "Model saved to best_model.pth\n"
     ]
    },
    {
     "name": "stderr",
     "output_type": "stream",
     "text": [
      "Training Progress:  17%|█▋        | 5/30 [00:51<04:16, 10.26s/it]"
     ]
    },
    {
     "name": "stdout",
     "output_type": "stream",
     "text": [
      "Epoch 5/30 | Train Loss: 3.3501 | Val Loss: 3.2670 | Val Accuracy: 0.5226 | Val AUC: 0.7407\n",
      "Model saved to best_model.pth\n"
     ]
    },
    {
     "name": "stderr",
     "output_type": "stream",
     "text": [
      "Training Progress:  20%|██        | 6/30 [01:00<04:02, 10.09s/it]"
     ]
    },
    {
     "name": "stdout",
     "output_type": "stream",
     "text": [
      "Epoch 6/30 | Train Loss: 3.2736 | Val Loss: 3.2561 | Val Accuracy: 0.5282 | Val AUC: 0.7446\n",
      "Model saved to best_model.pth\n"
     ]
    },
    {
     "name": "stderr",
     "output_type": "stream",
     "text": [
      "Training Progress:  23%|██▎       | 7/30 [01:11<03:52, 10.10s/it]"
     ]
    },
    {
     "name": "stdout",
     "output_type": "stream",
     "text": [
      "Epoch 7/30 | Train Loss: 3.2599 | Val Loss: 3.2183 | Val Accuracy: 0.5287 | Val AUC: 0.7486\n",
      "Model saved to best_model.pth\n"
     ]
    },
    {
     "name": "stderr",
     "output_type": "stream",
     "text": [
      "Training Progress:  27%|██▋       | 8/30 [01:21<03:43, 10.14s/it]"
     ]
    },
    {
     "name": "stdout",
     "output_type": "stream",
     "text": [
      "Epoch 8/30 | Train Loss: 3.2509 | Val Loss: 3.2348 | Val Accuracy: 0.5306 | Val AUC: 0.7560\n"
     ]
    },
    {
     "name": "stderr",
     "output_type": "stream",
     "text": [
      "Training Progress:  30%|███       | 9/30 [01:32<03:41, 10.54s/it]"
     ]
    },
    {
     "name": "stdout",
     "output_type": "stream",
     "text": [
      "Epoch 9/30 | Train Loss: 3.2418 | Val Loss: 3.2432 | Val Accuracy: 0.5352 | Val AUC: 0.7533\n"
     ]
    },
    {
     "name": "stderr",
     "output_type": "stream",
     "text": [
      "Training Progress:  33%|███▎      | 10/30 [01:43<03:30, 10.54s/it]"
     ]
    },
    {
     "name": "stdout",
     "output_type": "stream",
     "text": [
      "Epoch 10/30 | Train Loss: 3.2387 | Val Loss: 3.2199 | Val Accuracy: 0.5236 | Val AUC: 0.7460\n"
     ]
    },
    {
     "name": "stderr",
     "output_type": "stream",
     "text": [
      "Training Progress:  37%|███▋      | 11/30 [01:53<03:18, 10.45s/it]"
     ]
    },
    {
     "name": "stdout",
     "output_type": "stream",
     "text": [
      "Epoch 11/30 | Train Loss: 3.2122 | Val Loss: 3.1975 | Val Accuracy: 0.5354 | Val AUC: 0.7566\n",
      "Model saved to best_model.pth\n"
     ]
    },
    {
     "name": "stderr",
     "output_type": "stream",
     "text": [
      "Training Progress:  40%|████      | 12/30 [02:03<03:06, 10.37s/it]"
     ]
    },
    {
     "name": "stdout",
     "output_type": "stream",
     "text": [
      "Epoch 12/30 | Train Loss: 3.2106 | Val Loss: 3.1973 | Val Accuracy: 0.5337 | Val AUC: 0.7536\n",
      "Model saved to best_model.pth\n"
     ]
    },
    {
     "name": "stderr",
     "output_type": "stream",
     "text": [
      "Training Progress:  43%|████▎     | 13/30 [02:13<02:55, 10.30s/it]"
     ]
    },
    {
     "name": "stdout",
     "output_type": "stream",
     "text": [
      "Epoch 13/30 | Train Loss: 3.2096 | Val Loss: 3.1948 | Val Accuracy: 0.5354 | Val AUC: 0.7586\n",
      "Model saved to best_model.pth\n"
     ]
    },
    {
     "name": "stderr",
     "output_type": "stream",
     "text": [
      "Training Progress:  47%|████▋     | 14/30 [02:23<02:44, 10.26s/it]"
     ]
    },
    {
     "name": "stdout",
     "output_type": "stream",
     "text": [
      "Epoch 14/30 | Train Loss: 3.2099 | Val Loss: 3.1983 | Val Accuracy: 0.5371 | Val AUC: 0.7580\n"
     ]
    },
    {
     "name": "stderr",
     "output_type": "stream",
     "text": [
      "Training Progress:  50%|█████     | 15/30 [02:34<02:33, 10.24s/it]"
     ]
    },
    {
     "name": "stdout",
     "output_type": "stream",
     "text": [
      "Epoch 15/30 | Train Loss: 3.2092 | Val Loss: 3.1959 | Val Accuracy: 0.5371 | Val AUC: 0.7571\n"
     ]
    },
    {
     "name": "stderr",
     "output_type": "stream",
     "text": [
      "Training Progress:  53%|█████▎    | 16/30 [02:44<02:23, 10.24s/it]"
     ]
    },
    {
     "name": "stdout",
     "output_type": "stream",
     "text": [
      "Epoch 16/30 | Train Loss: 3.2081 | Val Loss: 3.1922 | Val Accuracy: 0.5388 | Val AUC: 0.7593\n",
      "Model saved to best_model.pth\n"
     ]
    },
    {
     "name": "stderr",
     "output_type": "stream",
     "text": [
      "Training Progress:  57%|█████▋    | 17/30 [02:54<02:12, 10.22s/it]"
     ]
    },
    {
     "name": "stdout",
     "output_type": "stream",
     "text": [
      "Epoch 17/30 | Train Loss: 3.2087 | Val Loss: 3.1918 | Val Accuracy: 0.5368 | Val AUC: 0.7605\n",
      "Model saved to best_model.pth\n"
     ]
    },
    {
     "name": "stderr",
     "output_type": "stream",
     "text": [
      "Training Progress:  60%|██████    | 18/30 [03:04<02:01, 10.09s/it]"
     ]
    },
    {
     "name": "stdout",
     "output_type": "stream",
     "text": [
      "Epoch 18/30 | Train Loss: 3.2072 | Val Loss: 3.1912 | Val Accuracy: 0.5390 | Val AUC: 0.7583\n",
      "Model saved to best_model.pth\n"
     ]
    },
    {
     "name": "stderr",
     "output_type": "stream",
     "text": [
      "Training Progress:  63%|██████▎   | 19/30 [03:20<02:09, 11.80s/it]"
     ]
    },
    {
     "name": "stdout",
     "output_type": "stream",
     "text": [
      "Epoch 19/30 | Train Loss: 3.2059 | Val Loss: 3.1902 | Val Accuracy: 0.5383 | Val AUC: 0.7595\n",
      "Model saved to best_model.pth\n"
     ]
    },
    {
     "name": "stderr",
     "output_type": "stream",
     "text": [
      "Training Progress:  67%|██████▋   | 20/30 [03:39<02:19, 13.98s/it]"
     ]
    },
    {
     "name": "stdout",
     "output_type": "stream",
     "text": [
      "Epoch 20/30 | Train Loss: 3.2062 | Val Loss: 3.1911 | Val Accuracy: 0.5381 | Val AUC: 0.7616\n"
     ]
    },
    {
     "name": "stderr",
     "output_type": "stream",
     "text": [
      "Training Progress:  70%|███████   | 21/30 [03:58<02:20, 15.66s/it]"
     ]
    },
    {
     "name": "stdout",
     "output_type": "stream",
     "text": [
      "Epoch 21/30 | Train Loss: 3.2024 | Val Loss: 3.1877 | Val Accuracy: 0.5395 | Val AUC: 0.7603\n",
      "Model saved to best_model.pth\n"
     ]
    },
    {
     "name": "stderr",
     "output_type": "stream",
     "text": [
      "Training Progress:  73%|███████▎  | 22/30 [04:09<01:54, 14.26s/it]"
     ]
    },
    {
     "name": "stdout",
     "output_type": "stream",
     "text": [
      "Epoch 22/30 | Train Loss: 3.2021 | Val Loss: 3.1876 | Val Accuracy: 0.5395 | Val AUC: 0.7612\n",
      "Model saved to best_model.pth\n"
     ]
    },
    {
     "name": "stderr",
     "output_type": "stream",
     "text": [
      "Training Progress:  77%|███████▋  | 23/30 [04:19<01:30, 12.92s/it]"
     ]
    },
    {
     "name": "stdout",
     "output_type": "stream",
     "text": [
      "Epoch 23/30 | Train Loss: 3.2020 | Val Loss: 3.1868 | Val Accuracy: 0.5400 | Val AUC: 0.7610\n",
      "Model saved to best_model.pth\n"
     ]
    },
    {
     "name": "stderr",
     "output_type": "stream",
     "text": [
      "Training Progress:  80%|████████  | 24/30 [04:29<01:11, 11.92s/it]"
     ]
    },
    {
     "name": "stdout",
     "output_type": "stream",
     "text": [
      "Epoch 24/30 | Train Loss: 3.2019 | Val Loss: 3.1868 | Val Accuracy: 0.5402 | Val AUC: 0.7608\n",
      "Model saved to best_model.pth\n"
     ]
    },
    {
     "name": "stderr",
     "output_type": "stream",
     "text": [
      "Training Progress:  83%|████████▎ | 25/30 [04:39<00:56, 11.40s/it]"
     ]
    },
    {
     "name": "stdout",
     "output_type": "stream",
     "text": [
      "Epoch 25/30 | Train Loss: 3.2018 | Val Loss: 3.1867 | Val Accuracy: 0.5395 | Val AUC: 0.7613\n",
      "Model saved to best_model.pth\n"
     ]
    },
    {
     "name": "stderr",
     "output_type": "stream",
     "text": [
      "Training Progress:  87%|████████▋ | 26/30 [04:49<00:43, 10.90s/it]"
     ]
    },
    {
     "name": "stdout",
     "output_type": "stream",
     "text": [
      "Epoch 26/30 | Train Loss: 3.2016 | Val Loss: 3.1893 | Val Accuracy: 0.5402 | Val AUC: 0.7592\n"
     ]
    },
    {
     "name": "stderr",
     "output_type": "stream",
     "text": [
      "Training Progress:  90%|█████████ | 27/30 [04:58<00:31, 10.58s/it]"
     ]
    },
    {
     "name": "stdout",
     "output_type": "stream",
     "text": [
      "Epoch 27/30 | Train Loss: 3.2019 | Val Loss: 3.1866 | Val Accuracy: 0.5405 | Val AUC: 0.7602\n",
      "Model saved to best_model.pth\n"
     ]
    },
    {
     "name": "stderr",
     "output_type": "stream",
     "text": [
      "Training Progress:  90%|█████████ | 27/30 [05:02<00:33, 11.21s/it]\n"
     ]
    },
    {
     "ename": "KeyboardInterrupt",
     "evalue": "",
     "output_type": "error",
     "traceback": [
      "\u001B[1;31m---------------------------------------------------------------------------\u001B[0m",
      "\u001B[1;31mKeyboardInterrupt\u001B[0m                         Traceback (most recent call last)",
      "Cell \u001B[1;32mIn[47], line 21\u001B[0m\n\u001B[0;32m     16\u001B[0m trainer \u001B[38;5;241m=\u001B[39m Trainer(model, train_dataloader, val_dataloader, optimizer, scheduler,\n\u001B[0;32m     17\u001B[0m                   loss_fn_classification, loss_fn_decoder, loss_weights, device,\n\u001B[0;32m     18\u001B[0m                   early_stopping_patience\u001B[38;5;241m=\u001B[39m\u001B[38;5;241m5\u001B[39m, epochs\u001B[38;5;241m=\u001B[39m\u001B[38;5;241m30\u001B[39m, tensorboard_logdir\u001B[38;5;241m=\u001B[39m\u001B[38;5;124m'\u001B[39m\u001B[38;5;124mlogs\u001B[39m\u001B[38;5;124m'\u001B[39m)\n\u001B[0;32m     20\u001B[0m \u001B[38;5;66;03m# 开始训练\u001B[39;00m\n\u001B[1;32m---> 21\u001B[0m \u001B[43mtrainer\u001B[49m\u001B[38;5;241;43m.\u001B[39;49m\u001B[43mfit\u001B[49m\u001B[43m(\u001B[49m\u001B[43m)\u001B[49m\n",
      "Cell \u001B[1;32mIn[46], line 150\u001B[0m, in \u001B[0;36mTrainer.fit\u001B[1;34m(self)\u001B[0m\n\u001B[0;32m    145\u001B[0m \u001B[38;5;250m\u001B[39m\u001B[38;5;124;03m\"\"\"\u001B[39;00m\n\u001B[0;32m    146\u001B[0m \u001B[38;5;124;03m开始训练\u001B[39;00m\n\u001B[0;32m    147\u001B[0m \u001B[38;5;124;03m\"\"\"\u001B[39;00m\n\u001B[0;32m    148\u001B[0m \u001B[38;5;28;01mfor\u001B[39;00m epoch \u001B[38;5;129;01min\u001B[39;00m tqdm(\u001B[38;5;28mrange\u001B[39m(\u001B[38;5;28mself\u001B[39m\u001B[38;5;241m.\u001B[39mepochs), desc\u001B[38;5;241m=\u001B[39m\u001B[38;5;124m\"\u001B[39m\u001B[38;5;124mTraining Progress\u001B[39m\u001B[38;5;124m\"\u001B[39m):\n\u001B[1;32m--> 150\u001B[0m     train_loss \u001B[38;5;241m=\u001B[39m \u001B[38;5;28;43mself\u001B[39;49m\u001B[38;5;241;43m.\u001B[39;49m\u001B[43mtrain_epoch\u001B[49m\u001B[43m(\u001B[49m\u001B[43m)\u001B[49m\n\u001B[0;32m    151\u001B[0m     val_loss, val_accuracy, val_auc \u001B[38;5;241m=\u001B[39m \u001B[38;5;28mself\u001B[39m\u001B[38;5;241m.\u001B[39mvalidate()\n\u001B[0;32m    153\u001B[0m     \u001B[38;5;66;03m# 记录损失和评估指标\u001B[39;00m\n",
      "Cell \u001B[1;32mIn[46], line 89\u001B[0m, in \u001B[0;36mTrainer.train_epoch\u001B[1;34m(self)\u001B[0m\n\u001B[0;32m     84\u001B[0m loss \u001B[38;5;241m=\u001B[39m (\u001B[38;5;28mself\u001B[39m\u001B[38;5;241m.\u001B[39mloss_weights[\u001B[38;5;124m'\u001B[39m\u001B[38;5;124mAutoencoder_Classification\u001B[39m\u001B[38;5;124m'\u001B[39m] \u001B[38;5;241m*\u001B[39m loss_classification \u001B[38;5;241m+\u001B[39m\n\u001B[0;32m     85\u001B[0m         \u001B[38;5;28mself\u001B[39m\u001B[38;5;241m.\u001B[39mloss_weights[\u001B[38;5;124m'\u001B[39m\u001B[38;5;124mFinal_Output\u001B[39m\u001B[38;5;124m'\u001B[39m] \u001B[38;5;241m*\u001B[39m loss_final_output \u001B[38;5;241m+\u001B[39m\n\u001B[0;32m     86\u001B[0m         \u001B[38;5;28mself\u001B[39m\u001B[38;5;241m.\u001B[39mloss_weights[\u001B[38;5;124m'\u001B[39m\u001B[38;5;124mDecoder_Output\u001B[39m\u001B[38;5;124m'\u001B[39m] \u001B[38;5;241m*\u001B[39m loss_decoder)\n\u001B[0;32m     88\u001B[0m \u001B[38;5;66;03m# 反向传播\u001B[39;00m\n\u001B[1;32m---> 89\u001B[0m \u001B[43mloss\u001B[49m\u001B[38;5;241;43m.\u001B[39;49m\u001B[43mbackward\u001B[49m\u001B[43m(\u001B[49m\u001B[43m)\u001B[49m\n\u001B[0;32m     90\u001B[0m \u001B[38;5;28mself\u001B[39m\u001B[38;5;241m.\u001B[39moptimizer\u001B[38;5;241m.\u001B[39mstep()\n\u001B[0;32m     92\u001B[0m total_loss \u001B[38;5;241m+\u001B[39m\u001B[38;5;241m=\u001B[39m loss\u001B[38;5;241m.\u001B[39mitem()\n",
      "File \u001B[1;32m~\\AppData\\Roaming\\Python\\Python38\\site-packages\\torch\\_tensor.py:521\u001B[0m, in \u001B[0;36mTensor.backward\u001B[1;34m(self, gradient, retain_graph, create_graph, inputs)\u001B[0m\n\u001B[0;32m    511\u001B[0m \u001B[38;5;28;01mif\u001B[39;00m has_torch_function_unary(\u001B[38;5;28mself\u001B[39m):\n\u001B[0;32m    512\u001B[0m     \u001B[38;5;28;01mreturn\u001B[39;00m handle_torch_function(\n\u001B[0;32m    513\u001B[0m         Tensor\u001B[38;5;241m.\u001B[39mbackward,\n\u001B[0;32m    514\u001B[0m         (\u001B[38;5;28mself\u001B[39m,),\n\u001B[1;32m   (...)\u001B[0m\n\u001B[0;32m    519\u001B[0m         inputs\u001B[38;5;241m=\u001B[39minputs,\n\u001B[0;32m    520\u001B[0m     )\n\u001B[1;32m--> 521\u001B[0m \u001B[43mtorch\u001B[49m\u001B[38;5;241;43m.\u001B[39;49m\u001B[43mautograd\u001B[49m\u001B[38;5;241;43m.\u001B[39;49m\u001B[43mbackward\u001B[49m\u001B[43m(\u001B[49m\n\u001B[0;32m    522\u001B[0m \u001B[43m    \u001B[49m\u001B[38;5;28;43mself\u001B[39;49m\u001B[43m,\u001B[49m\u001B[43m \u001B[49m\u001B[43mgradient\u001B[49m\u001B[43m,\u001B[49m\u001B[43m \u001B[49m\u001B[43mretain_graph\u001B[49m\u001B[43m,\u001B[49m\u001B[43m \u001B[49m\u001B[43mcreate_graph\u001B[49m\u001B[43m,\u001B[49m\u001B[43m \u001B[49m\u001B[43minputs\u001B[49m\u001B[38;5;241;43m=\u001B[39;49m\u001B[43minputs\u001B[49m\n\u001B[0;32m    523\u001B[0m \u001B[43m\u001B[49m\u001B[43m)\u001B[49m\n",
      "File \u001B[1;32m~\\AppData\\Roaming\\Python\\Python38\\site-packages\\torch\\autograd\\__init__.py:289\u001B[0m, in \u001B[0;36mbackward\u001B[1;34m(tensors, grad_tensors, retain_graph, create_graph, grad_variables, inputs)\u001B[0m\n\u001B[0;32m    284\u001B[0m     retain_graph \u001B[38;5;241m=\u001B[39m create_graph\n\u001B[0;32m    286\u001B[0m \u001B[38;5;66;03m# The reason we repeat the same comment below is that\u001B[39;00m\n\u001B[0;32m    287\u001B[0m \u001B[38;5;66;03m# some Python versions print out the first line of a multi-line function\u001B[39;00m\n\u001B[0;32m    288\u001B[0m \u001B[38;5;66;03m# calls in the traceback and some print out the last line\u001B[39;00m\n\u001B[1;32m--> 289\u001B[0m \u001B[43m_engine_run_backward\u001B[49m\u001B[43m(\u001B[49m\n\u001B[0;32m    290\u001B[0m \u001B[43m    \u001B[49m\u001B[43mtensors\u001B[49m\u001B[43m,\u001B[49m\n\u001B[0;32m    291\u001B[0m \u001B[43m    \u001B[49m\u001B[43mgrad_tensors_\u001B[49m\u001B[43m,\u001B[49m\n\u001B[0;32m    292\u001B[0m \u001B[43m    \u001B[49m\u001B[43mretain_graph\u001B[49m\u001B[43m,\u001B[49m\n\u001B[0;32m    293\u001B[0m \u001B[43m    \u001B[49m\u001B[43mcreate_graph\u001B[49m\u001B[43m,\u001B[49m\n\u001B[0;32m    294\u001B[0m \u001B[43m    \u001B[49m\u001B[43minputs\u001B[49m\u001B[43m,\u001B[49m\n\u001B[0;32m    295\u001B[0m \u001B[43m    \u001B[49m\u001B[43mallow_unreachable\u001B[49m\u001B[38;5;241;43m=\u001B[39;49m\u001B[38;5;28;43;01mTrue\u001B[39;49;00m\u001B[43m,\u001B[49m\n\u001B[0;32m    296\u001B[0m \u001B[43m    \u001B[49m\u001B[43maccumulate_grad\u001B[49m\u001B[38;5;241;43m=\u001B[39;49m\u001B[38;5;28;43;01mTrue\u001B[39;49;00m\u001B[43m,\u001B[49m\n\u001B[0;32m    297\u001B[0m \u001B[43m\u001B[49m\u001B[43m)\u001B[49m\n",
      "File \u001B[1;32m~\\AppData\\Roaming\\Python\\Python38\\site-packages\\torch\\autograd\\graph.py:769\u001B[0m, in \u001B[0;36m_engine_run_backward\u001B[1;34m(t_outputs, *args, **kwargs)\u001B[0m\n\u001B[0;32m    767\u001B[0m     unregister_hooks \u001B[38;5;241m=\u001B[39m _register_logging_hooks_on_whole_graph(t_outputs)\n\u001B[0;32m    768\u001B[0m \u001B[38;5;28;01mtry\u001B[39;00m:\n\u001B[1;32m--> 769\u001B[0m     \u001B[38;5;28;01mreturn\u001B[39;00m \u001B[43mVariable\u001B[49m\u001B[38;5;241;43m.\u001B[39;49m\u001B[43m_execution_engine\u001B[49m\u001B[38;5;241;43m.\u001B[39;49m\u001B[43mrun_backward\u001B[49m\u001B[43m(\u001B[49m\u001B[43m  \u001B[49m\u001B[38;5;66;43;03m# Calls into the C++ engine to run the backward pass\u001B[39;49;00m\n\u001B[0;32m    770\u001B[0m \u001B[43m        \u001B[49m\u001B[43mt_outputs\u001B[49m\u001B[43m,\u001B[49m\u001B[43m \u001B[49m\u001B[38;5;241;43m*\u001B[39;49m\u001B[43margs\u001B[49m\u001B[43m,\u001B[49m\u001B[43m \u001B[49m\u001B[38;5;241;43m*\u001B[39;49m\u001B[38;5;241;43m*\u001B[39;49m\u001B[43mkwargs\u001B[49m\n\u001B[0;32m    771\u001B[0m \u001B[43m    \u001B[49m\u001B[43m)\u001B[49m  \u001B[38;5;66;03m# Calls into the C++ engine to run the backward pass\u001B[39;00m\n\u001B[0;32m    772\u001B[0m \u001B[38;5;28;01mfinally\u001B[39;00m:\n\u001B[0;32m    773\u001B[0m     \u001B[38;5;28;01mif\u001B[39;00m attach_logging_hooks:\n",
      "\u001B[1;31mKeyboardInterrupt\u001B[0m: "
     ]
    }
   ],
   "execution_count": 47
  },
  {
   "metadata": {},
   "cell_type": "code",
   "outputs": [],
   "execution_count": null,
   "source": "",
   "id": "36e55928f1e2e661"
  }
 ],
 "metadata": {
  "kernelspec": {
   "display_name": "Python 3",
   "language": "python",
   "name": "python3"
  },
  "language_info": {
   "codemirror_mode": {
    "name": "ipython",
    "version": 2
   },
   "file_extension": ".py",
   "mimetype": "text/x-python",
   "name": "python",
   "nbconvert_exporter": "python",
   "pygments_lexer": "ipython2",
   "version": "2.7.6"
  }
 },
 "nbformat": 4,
 "nbformat_minor": 5
}
